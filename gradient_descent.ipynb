{
  "nbformat": 4,
  "nbformat_minor": 0,
  "metadata": {
    "colab": {
      "name": "gradient_descent.ipynb",
      "provenance": []
    },
    "kernelspec": {
      "name": "python3",
      "display_name": "Python 3"
    },
    "language_info": {
      "name": "python"
    }
  },
  "cells": [
    {
      "cell_type": "markdown",
      "source": [
        "<h1> Gradient Descent\n",
        "\n",
        "[cs229_code_example](chrome-extension://efaidnbmnnnibpcajpcglclefindmkaj/https://cs229.stanford.edu/notes-spring2019/Gradient_Descent_Viz.pdf)"
      ],
      "metadata": {
        "id": "dqBXUJWmDCEg"
      }
    },
    {
      "cell_type": "code",
      "source": [
        "import numpy as np\n",
        "import seaborn as sns\n",
        "import matplotlib.pyplot as plt\n",
        "from sklearn.metrics import mean_squared_error"
      ],
      "metadata": {
        "id": "Tfywgk_0YEvb"
      },
      "execution_count": 114,
      "outputs": []
    },
    {
      "cell_type": "markdown",
      "source": [
        "<h2> Load Dataset"
      ],
      "metadata": {
        "id": "Y7-uR-poPAWC"
      }
    },
    {
      "cell_type": "code",
      "source": [
        "from sklearn.datasets import load_boston\n",
        "X, y = load_boston(return_X_y=True)\n",
        "pass"
      ],
      "metadata": {
        "colab": {
          "base_uri": "https://localhost:8080/"
        },
        "id": "0HvisJKoPB7w",
        "outputId": "d6b1213a-d9ab-4b93-9d9a-86777526b3e9"
      },
      "execution_count": 5,
      "outputs": [
        {
          "output_type": "stream",
          "name": "stderr",
          "text": [
            "/usr/local/lib/python3.7/dist-packages/sklearn/utils/deprecation.py:87: FutureWarning: Function load_boston is deprecated; `load_boston` is deprecated in 1.0 and will be removed in 1.2.\n",
            "\n",
            "    The Boston housing prices dataset has an ethical problem. You can refer to\n",
            "    the documentation of this function for further details.\n",
            "\n",
            "    The scikit-learn maintainers therefore strongly discourage the use of this\n",
            "    dataset unless the purpose of the code is to study and educate about\n",
            "    ethical issues in data science and machine learning.\n",
            "\n",
            "    In this special case, you can fetch the dataset from the original\n",
            "    source::\n",
            "\n",
            "        import pandas as pd\n",
            "        import numpy as np\n",
            "\n",
            "\n",
            "        data_url = \"http://lib.stat.cmu.edu/datasets/boston\"\n",
            "        raw_df = pd.read_csv(data_url, sep=\"\\s+\", skiprows=22, header=None)\n",
            "        data = np.hstack([raw_df.values[::2, :], raw_df.values[1::2, :2]])\n",
            "        target = raw_df.values[1::2, 2]\n",
            "\n",
            "    Alternative datasets include the California housing dataset (i.e.\n",
            "    :func:`~sklearn.datasets.fetch_california_housing`) and the Ames housing\n",
            "    dataset. You can load the datasets as follows::\n",
            "\n",
            "        from sklearn.datasets import fetch_california_housing\n",
            "        housing = fetch_california_housing()\n",
            "\n",
            "    for the California housing dataset and::\n",
            "\n",
            "        from sklearn.datasets import fetch_openml\n",
            "        housing = fetch_openml(name=\"house_prices\", as_frame=True)\n",
            "\n",
            "    for the Ames housing dataset.\n",
            "    \n",
            "  warnings.warn(msg, category=FutureWarning)\n"
          ]
        }
      ]
    },
    {
      "cell_type": "code",
      "source": [
        "# train test split\n",
        "from sklearn.model_selection import train_test_split\n",
        "X_train, X_test, y_train, y_test = train_test_split(X, y, test_size=0.33, random_state=42)"
      ],
      "metadata": {
        "id": "o6mICVAMPFDJ"
      },
      "execution_count": 35,
      "outputs": []
    },
    {
      "cell_type": "code",
      "source": [
        "# standard sclaer\n",
        "from sklearn.preprocessing import StandardScaler\n",
        "def std_scaler(X_train,X_test):\n",
        "  scaler = StandardScaler()\n",
        "  scaler.fit(X_train)\n",
        "  X_train_scale=scaler.transform(X_train)\n",
        "  X_test_scale=scaler.transform(X_test)\n",
        "  # add a column of 1 for X\n",
        "  X_train_scale=np.append(np.ones(shape=(X_train.shape[0],1)),X_train_scale,axis=1)\n",
        "  X_test_scale=np.append(np.ones(shape=(X_test.shape[0],1)),X_test_scale,axis=1)\n",
        "  return X_train_scale, X_test_scale\n",
        "\n",
        "X_train,X_test=std_scaler(X_train,X_test)"
      ],
      "metadata": {
        "id": "FAna4QeKPGdh"
      },
      "execution_count": 43,
      "outputs": []
    },
    {
      "cell_type": "markdown",
      "source": [
        "<h2> Gradient Descent\n",
        "\n",
        "\n",
        "* Cost Function = MSE/2 = 1/2m * (X * Theta_T - y) ^ 2\n",
        "*   theta = theta - alpha * gradient\n",
        "*   gradient = (1/m) * X_T * (X * Theta_T - y)\n",
        "\n",
        "display the cost function value per iteration\n",
        "\n"
      ],
      "metadata": {
        "id": "iZzjUic-SLBj"
      }
    },
    {
      "cell_type": "code",
      "source": [
        "def cost_function(X,theta,y):\n",
        "  y_pred=np.matmul(X,theta.T)\n",
        "  error=y_pred-y\n",
        "  cost = np.dot(error.T, error)\n",
        "  return cost,error"
      ],
      "metadata": {
        "id": "IYhWe7T7QSws"
      },
      "execution_count": 294,
      "outputs": []
    },
    {
      "cell_type": "code",
      "source": [
        "def gradient_descent(X, y, theta_init, alpha, iters):\n",
        "  cost_array={}\n",
        "  theta=theta_init\n",
        "  m=y.size\n",
        "  for i in range(iters):\n",
        "    cost,error=cost_function(X,theta,y)\n",
        "    gradient = (1/m)* np.dot(X.T,error)\n",
        "    theta=theta-alpha * gradient\n",
        "    cost_array[i]=cost\n",
        "  return theta, cost_array"
      ],
      "metadata": {
        "id": "duM83JwjYjCS"
      },
      "execution_count": 295,
      "outputs": []
    },
    {
      "cell_type": "code",
      "source": [
        " # Set hyperparameters\n",
        "alpha = 0.01\n",
        "iterations = 1500\n",
        "\n",
        "# Initialize Theta Values to 0\n",
        "theta_init = np.zeros(X_train.shape[1])"
      ],
      "metadata": {
        "id": "CVwqchuIc35n"
      },
      "execution_count": 332,
      "outputs": []
    },
    {
      "cell_type": "code",
      "source": [
        "# Run Gradient Descent\n",
        "theta, cost_num = gradient_descent(X_train, y_train, theta_init, alpha, iterations)"
      ],
      "metadata": {
        "id": "6O2-zAR1aKUE"
      },
      "execution_count": 333,
      "outputs": []
    },
    {
      "cell_type": "code",
      "source": [
        "iters=cost_num.keys()\n",
        "cost=cost_num.values()\n",
        "fig=sns.scatterplot(x=iters,y=cost)\n",
        "fig.set_xlabel('iters')\n",
        "fig.set_ylabel('cost')"
      ],
      "metadata": {
        "colab": {
          "base_uri": "https://localhost:8080/",
          "height": 296
        },
        "id": "C1PiODu5b_sM",
        "outputId": "346d3b54-60a5-4be1-cdcd-4f6dd2cf4a7a"
      },
      "execution_count": 334,
      "outputs": [
        {
          "output_type": "execute_result",
          "data": {
            "text/plain": [
              "Text(0, 0.5, 'cost')"
            ]
          },
          "metadata": {},
          "execution_count": 334
        },
        {
          "output_type": "display_data",
          "data": {
            "text/plain": [
              "<Figure size 432x288 with 1 Axes>"
            ],
            "image/png": "[encoded data removed]"
          },
          "metadata": {
            "needs_background": "light"
          }
        }
      ]
    },
    {
      "cell_type": "code",
      "source": [
        "def plot_pred_actual(theta,X_test,y_test):\n",
        "  num_of_pt=y_test.size\n",
        "  y_test_pred=np.matmul(X_test,theta.T)\n",
        "  fig=sns.scatterplot(x=y_test_pred,y=y_test)\n",
        "  xpoints = ypoints = plt.xlim()\n",
        "  plt.plot(xpoints, ypoints, linestyle='--', color='k')\n",
        "  fig.set_xlabel('y_pred')\n",
        "  fig.set_ylabel('y_actual')\n",
        "  mse=mean_squared_error(y_test,y_test_pred)\n",
        "  print(f'The num of Point = {num_of_pt}')\n",
        "  print(f'The MSE = {mse}')\n",
        "  print(f'theta = {theta}')"
      ],
      "metadata": {
        "id": "42tYEBVwimQy"
      },
      "execution_count": 335,
      "outputs": []
    },
    {
      "cell_type": "code",
      "source": [
        "plot_pred_actual(theta,X_test,y_test)"
      ],
      "metadata": {
        "colab": {
          "base_uri": "https://localhost:8080/",
          "height": 365
        },
        "id": "D1KwmGwjesEc",
        "outputId": "fa7c4214-f412-4c47-a9fa-743d393a39b7"
      },
      "execution_count": 336,
      "outputs": [
        {
          "output_type": "stream",
          "name": "stdout",
          "text": [
            "The num of Point = 167\n",
            "The MSE = 21.212593527858754\n",
            "theta = [22.97078994 -0.89896908  0.70548668  0.16523367  0.9016042  -1.6610473\n",
            "  2.87924773 -0.40288791 -2.85702434  1.35486165 -0.69751912 -2.02123566\n",
            "  1.03976133 -3.92085719]\n"
          ]
        },
        {
          "output_type": "display_data",
          "data": {
            "text/plain": [
              "<Figure size 432x288 with 1 Axes>"
            ],
            "image/png": "[encoded data removed]"
          },
          "metadata": {
            "needs_background": "light"
          }
        }
      ]
    },
    {
      "cell_type": "code",
      "source": [
        "plot_pred_actual(theta,X_train,y_train)"
      ],
      "metadata": {
        "colab": {
          "base_uri": "https://localhost:8080/",
          "height": 365
        },
        "id": "rFt6t7iujJox",
        "outputId": "fd577c13-43e6-41e9-cc11-fd467944bf0b"
      },
      "execution_count": 337,
      "outputs": [
        {
          "output_type": "stream",
          "name": "stdout",
          "text": [
            "The num of Point = 339\n",
            "The MSE = 23.06309127652922\n",
            "theta = [22.97078994 -0.89896908  0.70548668  0.16523367  0.9016042  -1.6610473\n",
            "  2.87924773 -0.40288791 -2.85702434  1.35486165 -0.69751912 -2.02123566\n",
            "  1.03976133 -3.92085719]\n"
          ]
        },
        {
          "output_type": "display_data",
          "data": {
            "text/plain": [
              "<Figure size 432x288 with 1 Axes>"
            ],
            "image/png": "[encoded data removed]"
          },
          "metadata": {
            "needs_background": "light"
          }
        }
      ]
    },
    {
      "cell_type": "markdown",
      "source": [
        "<h2> Compare to existing package"
      ],
      "metadata": {
        "id": "DntjKw0SvvCO"
      }
    },
    {
      "cell_type": "code",
      "source": [
        "from sklearn import linear_model\n",
        "# Create linear regression object\n",
        "regr = linear_model.LinearRegression()\n",
        "\n",
        "# Train the model using the training sets\n",
        "regr.fit(X_train,y_train)\n",
        "\n",
        "# Make predictions using the testing set\n",
        "regr_pred = regr.predict(X_test)\n",
        "regr_mse=mean_squared_error(y_test, regr_pred)\n",
        "\n",
        "print(regr_mse)"
      ],
      "metadata": {
        "colab": {
          "base_uri": "https://localhost:8080/"
        },
        "id": "5MP0ANzktEK9",
        "outputId": "40182ced-2238-4b15-8319-4e6af32f8516"
      },
      "execution_count": 338,
      "outputs": [
        {
          "output_type": "stream",
          "name": "stdout",
          "text": [
            "20.7240234373398\n"
          ]
        }
      ]
    }
  ]
}