{
 "cells": [
  {
   "cell_type": "markdown",
   "id": "8182f018",
   "metadata": {
    "id": "d6iJCmGawvjB",
    "papermill": {
     "duration": 0.018423,
     "end_time": "2022-05-25T14:36:04.211125",
     "exception": false,
     "start_time": "2022-05-25T14:36:04.192702",
     "status": "completed"
    },
    "tags": []
   },
   "source": [
    "# 'Lazy' Player for Tic-tac-toe"
   ]
  },
  {
   "cell_type": "markdown",
   "id": "1f7416df",
   "metadata": {
    "id": "8ojdI7OdoPDD",
    "papermill": {
     "duration": 0.017137,
     "end_time": "2022-05-25T14:36:04.245734",
     "exception": false,
     "start_time": "2022-05-25T14:36:04.228597",
     "status": "completed"
    },
    "tags": []
   },
   "source": [
    "## Import package"
   ]
  },
  {
   "cell_type": "code",
   "execution_count": 1,
   "id": "5d7be0b3",
   "metadata": {
    "execution": {
     "iopub.execute_input": "2022-05-25T14:36:04.282528Z",
     "iopub.status.busy": "2022-05-25T14:36:04.282192Z",
     "iopub.status.idle": "2022-05-25T14:36:05.470078Z",
     "shell.execute_reply": "2022-05-25T14:36:05.469124Z"
    },
    "id": "QinphhTNwxBi",
    "outputId": "8a29b7d1-32f7-4566-b51d-1c7ad5faeb3d",
    "papermill": {
     "duration": 1.209186,
     "end_time": "2022-05-25T14:36:05.472434",
     "exception": false,
     "start_time": "2022-05-25T14:36:04.263248",
     "status": "completed"
    },
    "tags": []
   },
   "outputs": [
    {
     "name": "stdout",
     "output_type": "stream",
     "text": [
      "Current Time = 2022-05-25 14:36:05.466453\n"
     ]
    }
   ],
   "source": [
    "import numpy as np\n",
    "import itertools\n",
    "from itertools import combinations\n",
    "from itertools import combinations_with_replacement\n",
    "from itertools import permutations\n",
    "import random\n",
    "import seaborn as sns\n",
    "import matplotlib.pyplot as plt\n",
    "import math\n",
    "\n",
    "from datetime import datetime\n",
    "now = datetime.now()\n",
    "print(\"Current Time =\", now)"
   ]
  },
  {
   "cell_type": "markdown",
   "id": "36ca5745",
   "metadata": {
    "id": "6QuOjXESEYbn",
    "papermill": {
     "duration": 0.017173,
     "end_time": "2022-05-25T14:36:05.508400",
     "exception": false,
     "start_time": "2022-05-25T14:36:05.491227",
     "status": "completed"
    },
    "tags": []
   },
   "source": [
    "# Create Game Board (3*3)"
   ]
  },
  {
   "cell_type": "code",
   "execution_count": 2,
   "id": "bbd28ff6",
   "metadata": {
    "execution": {
     "iopub.execute_input": "2022-05-25T14:36:05.545279Z",
     "iopub.status.busy": "2022-05-25T14:36:05.545010Z",
     "iopub.status.idle": "2022-05-25T14:36:05.557889Z",
     "shell.execute_reply": "2022-05-25T14:36:05.556997Z"
    },
    "id": "hFPdooydw1xB",
    "outputId": "66b865c5-37af-4078-a819-9b2dbcb882c3",
    "papermill": {
     "duration": 0.034101,
     "end_time": "2022-05-25T14:36:05.560094",
     "exception": false,
     "start_time": "2022-05-25T14:36:05.525993",
     "status": "completed"
    },
    "tags": []
   },
   "outputs": [
    {
     "data": {
      "text/plain": [
       "{0: array([-1, -1]),\n",
       " 1: array([-1,  0]),\n",
       " 2: array([-1,  1]),\n",
       " 3: array([ 0, -1]),\n",
       " 4: array([0, 0]),\n",
       " 5: array([0, 1]),\n",
       " 6: array([ 1, -1]),\n",
       " 7: array([1, 0]),\n",
       " 8: array([1, 1])}"
      ]
     },
     "execution_count": 2,
     "metadata": {},
     "output_type": "execute_result"
    }
   ],
   "source": [
    "def board_coordinate():\n",
    "  v={}\n",
    "  coor_option=[-1,0,1]\n",
    "  vec_set=list(itertools.product(coor_option,coor_option))\n",
    "  for i in range(9):\n",
    "    v[i]=np.array(vec_set[i])\n",
    "  return v\n",
    "\n",
    "v=board_coordinate()\n",
    "v"
   ]
  },
  {
   "cell_type": "code",
   "execution_count": 3,
   "id": "7ce62125",
   "metadata": {
    "execution": {
     "iopub.execute_input": "2022-05-25T14:36:05.598420Z",
     "iopub.status.busy": "2022-05-25T14:36:05.598134Z",
     "iopub.status.idle": "2022-05-25T14:36:05.603125Z",
     "shell.execute_reply": "2022-05-25T14:36:05.602207Z"
    },
    "id": "PMfnU4uJ2FtY",
    "papermill": {
     "duration": 0.026955,
     "end_time": "2022-05-25T14:36:05.605257",
     "exception": false,
     "start_time": "2022-05-25T14:36:05.578302",
     "status": "completed"
    },
    "tags": []
   },
   "outputs": [],
   "source": [
    "def v_subset(v,exclude_key):\n",
    "  v_subset = {key: value for key, value in v.items() if key not in exclude_key}\n",
    "  return v_subset"
   ]
  },
  {
   "cell_type": "markdown",
   "id": "93c58c96",
   "metadata": {
    "id": "6L2V_FaLnIxH",
    "papermill": {
     "duration": 0.019837,
     "end_time": "2022-05-25T14:36:05.643546",
     "exception": false,
     "start_time": "2022-05-25T14:36:05.623709",
     "status": "completed"
    },
    "tags": []
   },
   "source": [
    "### The 'Win' condition: Colinearity for 3 points\n",
    "\n",
    "![link text](https://encrypted-tbn0.gstatic.com/images?q=tbn:ANd9GcQk7-26sc1bZU3L4GcPBfX4qYWgejEaPBHhBg&usqp=CAU)\n",
    "\n",
    "for Point A, B ,C fall in line\n",
    "\n",
    "*   |AB|+|BC|==|AC|\n"
   ]
  },
  {
   "cell_type": "code",
   "execution_count": 4,
   "id": "e8c6f4b2",
   "metadata": {
    "execution": {
     "iopub.execute_input": "2022-05-25T14:36:05.682294Z",
     "iopub.status.busy": "2022-05-25T14:36:05.682022Z",
     "iopub.status.idle": "2022-05-25T14:36:05.688518Z",
     "shell.execute_reply": "2022-05-25T14:36:05.687585Z"
    },
    "id": "ivUBzdMe3UOb",
    "papermill": {
     "duration": 0.028437,
     "end_time": "2022-05-25T14:36:05.690501",
     "exception": false,
     "start_time": "2022-05-25T14:36:05.662064",
     "status": "completed"
    },
    "tags": []
   },
   "outputs": [],
   "source": [
    "# if win, return 1, else return 0\n",
    "def v_win(v_tri):\n",
    "  v_tri=list(v_tri.values())\n",
    "  AB=v_tri[1]-v_tri[0]\n",
    "  BC=v_tri[2]-v_tri[1]\n",
    "  AC=v_tri[2]-v_tri[0]\n",
    "  AB=np.linalg.norm(AB)\n",
    "  BC=np.linalg.norm(BC)\n",
    "  AC=np.linalg.norm(AC)\n",
    "  if AB+BC==AC:\n",
    "    return 1\n",
    "  else:\n",
    "    return 0"
   ]
  },
  {
   "cell_type": "code",
   "execution_count": 5,
   "id": "fe3c23d7",
   "metadata": {
    "execution": {
     "iopub.execute_input": "2022-05-25T14:36:05.730375Z",
     "iopub.status.busy": "2022-05-25T14:36:05.730110Z",
     "iopub.status.idle": "2022-05-25T14:36:05.742515Z",
     "shell.execute_reply": "2022-05-25T14:36:05.741693Z"
    },
    "id": "3-e2zUyTx3Qi",
    "outputId": "500c54ff-1987-4ab6-e8dc-d632ce7a2187",
    "papermill": {
     "duration": 0.035161,
     "end_time": "2022-05-25T14:36:05.744579",
     "exception": false,
     "start_time": "2022-05-25T14:36:05.709418",
     "status": "completed"
    },
    "tags": []
   },
   "outputs": [
    {
     "data": {
      "text/plain": [
       "[[0, 1, 2],\n",
       " [0, 3, 6],\n",
       " [0, 4, 8],\n",
       " [1, 4, 7],\n",
       " [2, 4, 6],\n",
       " [2, 5, 8],\n",
       " [3, 4, 5],\n",
       " [6, 7, 8]]"
      ]
     },
     "execution_count": 5,
     "metadata": {},
     "output_type": "execute_result"
    }
   ],
   "source": [
    "def find_all_win_triple(v):\n",
    "  win_tri_keys=[]\n",
    "  # select 3 from v (based on key)\n",
    "  select_3_from_9=list(combinations(v.keys(),3))\n",
    "  for key_triple in select_3_from_9:\n",
    "    key_triple=list(key_triple)\n",
    "    v_tri= {key: value for key, value in v.items() if key in key_triple}\n",
    "    result=v_win(v_tri)\n",
    "    if result == 1:\n",
    "      win_tri_keys.append(key_triple)\n",
    "      # print(key_triple)\n",
    "  return win_tri_keys\n",
    "\n",
    "win_triple_key=find_all_win_triple(v)\n",
    "win_triple_key"
   ]
  },
  {
   "cell_type": "markdown",
   "id": "3d6f9076",
   "metadata": {
    "id": "wXVuG2i-EqD4",
    "papermill": {
     "duration": 0.018924,
     "end_time": "2022-05-25T14:36:05.782400",
     "exception": false,
     "start_time": "2022-05-25T14:36:05.763476",
     "status": "completed"
    },
    "tags": []
   },
   "source": [
    "# The 'lazy' algorithm --- how action is taken based on current situation\n",
    "\n",
    "Intuition of 'Lazy': \n",
    "\n",
    "\n",
    "*  Only take move with consideration when is necessary\n",
    "  * 'necessary' = opponent is 1 step to win\n",
    "*  If not, random move\n",
    "\n"
   ]
  },
  {
   "cell_type": "code",
   "execution_count": 6,
   "id": "a0df82ce",
   "metadata": {
    "execution": {
     "iopub.execute_input": "2022-05-25T14:36:05.823845Z",
     "iopub.status.busy": "2022-05-25T14:36:05.823189Z",
     "iopub.status.idle": "2022-05-25T14:36:05.833472Z",
     "shell.execute_reply": "2022-05-25T14:36:05.832808Z"
    },
    "id": "nWJgnyxGASRW",
    "papermill": {
     "duration": 0.033313,
     "end_time": "2022-05-25T14:36:05.835703",
     "exception": false,
     "start_time": "2022-05-25T14:36:05.802390",
     "status": "completed"
    },
    "tags": []
   },
   "outputs": [],
   "source": [
    "# action based on looking at what we have and what the oponent have\n",
    "## input: a, b vector key stored in that step\n",
    "# action will return the vector key (e.g., 0 to 8)\n",
    "def action(a_vec_key,b_vec_key):\n",
    "  full_vec_keys=[i for i in range(9)]\n",
    "  action_range=list(set(full_vec_keys)-set(a_vec_key)-set(b_vec_key))\n",
    "  # intialize the action\n",
    "  action=999\n",
    "\n",
    "  # see if one already win\n",
    "  for a_triple in list(combinations(a_vec_key,3)):\n",
    "    a_triple=list(a_triple)\n",
    "    if a_triple in win_triple_key:\n",
    "      action='a win'\n",
    "      return action\n",
    "  for b_triple in list(combinations(b_vec_key,3)):\n",
    "    b_triple=list(b_triple)\n",
    "    if b_triple in win_triple_key:\n",
    "      action='b win'\n",
    "      return action\n",
    "\n",
    "  # if b_vec_keys less than 2 keys\n",
    "  if len(b_vec_key)<2:\n",
    "    pass\n",
    "  else:\n",
    "    # investigate each b_pair\n",
    "    for b_pair in list(combinations(b_vec_key,2)):\n",
    "      b_pair=list(b_pair)\n",
    "      # investigate each win_triple, if overlap == 2, action is required\n",
    "      for tri_key in win_triple_key:\n",
    "        overlap=list(set(b_pair) & set(tri_key))\n",
    "        if len(overlap)==2:\n",
    "          action_suggest=list(set(tri_key)-set(b_pair))[0]\n",
    "          # if action_suggest is not hold\n",
    "          if action_suggest not in a_vec_key:\n",
    "            action=action_suggest\n",
    "        else:\n",
    "          pass\n",
    "  return action"
   ]
  },
  {
   "cell_type": "code",
   "execution_count": 7,
   "id": "3a2eca2a",
   "metadata": {
    "execution": {
     "iopub.execute_input": "2022-05-25T14:36:05.876464Z",
     "iopub.status.busy": "2022-05-25T14:36:05.876195Z",
     "iopub.status.idle": "2022-05-25T14:36:05.882164Z",
     "shell.execute_reply": "2022-05-25T14:36:05.881572Z"
    },
    "id": "_Q0OhEjUOvxk",
    "outputId": "188a87ab-70ff-4fd5-c2ac-ad18e68650c1",
    "papermill": {
     "duration": 0.028574,
     "end_time": "2022-05-25T14:36:05.883868",
     "exception": false,
     "start_time": "2022-05-25T14:36:05.855294",
     "status": "completed"
    },
    "tags": []
   },
   "outputs": [
    {
     "data": {
      "text/plain": [
       "2"
      ]
     },
     "execution_count": 7,
     "metadata": {},
     "output_type": "execute_result"
    }
   ],
   "source": [
    "# test the action function \n",
    "a_vec_key=[3,0,8]\n",
    "b_vec_key=[1,6,4]\n",
    "\n",
    "action(a_vec_key,\n",
    "       b_vec_key)"
   ]
  },
  {
   "cell_type": "markdown",
   "id": "2ad304ce",
   "metadata": {
    "id": "GnmUyu9N_Ji5",
    "papermill": {
     "duration": 0.019743,
     "end_time": "2022-05-25T14:36:05.923444",
     "exception": false,
     "start_time": "2022-05-25T14:36:05.903701",
     "status": "completed"
    },
    "tags": []
   },
   "source": [
    "# Two Player (a and b) \n",
    "\n",
    "*   a Go first  --- Step: 1,3,5,7,9 (odd)\n",
    "*   b Go second --- Step: 2,4,6,8 (even)\n",
    "\n",
    " -- step stored as key in dict\n",
    "\n",
    "\n",
    "## Illustration for two player 'a' and 'b'\n",
    "\n",
    "*   a -  'Lazy' algorihm Player\n",
    "*   b -  Random Player\n",
    "\n",
    "\n",
    "\n"
   ]
  },
  {
   "cell_type": "markdown",
   "id": "91cfed3d",
   "metadata": {
    "id": "NPBahRxuJiaU",
    "papermill": {
     "duration": 0.021275,
     "end_time": "2022-05-25T14:36:05.965008",
     "exception": false,
     "start_time": "2022-05-25T14:36:05.943733",
     "status": "completed"
    },
    "tags": []
   },
   "source": [
    "## Single Game Simulation"
   ]
  },
  {
   "cell_type": "code",
   "execution_count": 8,
   "id": "2061e0bc",
   "metadata": {
    "execution": {
     "iopub.execute_input": "2022-05-25T14:36:06.007283Z",
     "iopub.status.busy": "2022-05-25T14:36:06.007008Z",
     "iopub.status.idle": "2022-05-25T14:36:06.017642Z",
     "shell.execute_reply": "2022-05-25T14:36:06.017009Z"
    },
    "id": "qLeFbbaVUomT",
    "papermill": {
     "duration": 0.033544,
     "end_time": "2022-05-25T14:36:06.019606",
     "exception": false,
     "start_time": "2022-05-25T14:36:05.986062",
     "status": "completed"
    },
    "tags": []
   },
   "outputs": [],
   "source": [
    "def single_game():\n",
    "  # value to store the result (1=a win, 0= draw, -1= b win, default is 999)\n",
    "  game_result=999\n",
    "\n",
    "  # create dictionary to store vector (key) retrived for each player\n",
    "  full_vec_keys=[i for i in range(9)]\n",
    "  a_vec_key=[]\n",
    "  b_vec_key=[]\n",
    "  vec_keys_left=list(set(full_vec_keys) -set(a_vec_key)-set(b_vec_key))\n",
    "  # intialize the step_record\n",
    "  step_record={}\n",
    "  for step in range(9):\n",
    "    step_record[step+1]='null'\n",
    "  step_record\n",
    "\n",
    "  # for each step\n",
    "  for step in step_record.keys():\n",
    "    vec_keys_left=list(set(full_vec_keys) -set(a_vec_key)-set(b_vec_key))\n",
    "    ## odd step = player 'a' action\n",
    "    if step % 2 == 1:\n",
    "      a_key=action(a_vec_key,b_vec_key)\n",
    "      # if not necessary move, conduct a random move\n",
    "      if a_key==999:\n",
    "        a_key=random.choice(vec_keys_left)\n",
    "      a_vec_key.append(a_key)\n",
    "      step_record[step]=a_key\n",
    "      # check if already win\n",
    "      a_result=action(a_vec_key,b_vec_key)\n",
    "      if a_result=='a win':\n",
    "        game_result=1\n",
    "        break\n",
    "\n",
    "    ## even step = player 'b' move\n",
    "    elif step % 2==0:\n",
    "      b_key=random.choice(vec_keys_left)\n",
    "      b_vec_key.append(b_key)\n",
    "      step_record[step]=b_key\n",
    "      b_result=action(a_vec_key,b_vec_key)\n",
    "      # check if already win\n",
    "      if b_result=='b win':\n",
    "        game_result=-1\n",
    "        break\n",
    "    \n",
    "    if step == 9:\n",
    "      game_result=0\n",
    "      break\n",
    "  # store the record for both player\n",
    "  a_record=a_vec_key\n",
    "  b_record=b_vec_key\n",
    "  return game_result,a_record,b_record"
   ]
  },
  {
   "cell_type": "markdown",
   "id": "0779dd0a",
   "metadata": {
    "id": "ddGY289oJm1q",
    "papermill": {
     "duration": 0.020111,
     "end_time": "2022-05-25T14:36:06.059816",
     "exception": false,
     "start_time": "2022-05-25T14:36:06.039705",
     "status": "completed"
    },
    "tags": []
   },
   "source": [
    "## Simulate multiple games (e.g. 1000 times)"
   ]
  },
  {
   "cell_type": "code",
   "execution_count": 9,
   "id": "3e542f3a",
   "metadata": {
    "execution": {
     "iopub.execute_input": "2022-05-25T14:36:06.101405Z",
     "iopub.status.busy": "2022-05-25T14:36:06.100886Z",
     "iopub.status.idle": "2022-05-25T14:36:06.108576Z",
     "shell.execute_reply": "2022-05-25T14:36:06.107959Z"
    },
    "id": "me62ZVHDpcLq",
    "papermill": {
     "duration": 0.030865,
     "end_time": "2022-05-25T14:36:06.110603",
     "exception": false,
     "start_time": "2022-05-25T14:36:06.079738",
     "status": "completed"
    },
    "tags": []
   },
   "outputs": [],
   "source": [
    "# run the game 'iterations' times\n",
    "def simulate_game(iterations):\n",
    "  result_list=[]\n",
    "  for i in range(iterations):\n",
    "    game_result,a_record,b_record=single_game()\n",
    "    if game_result==-1:\n",
    "      print('(b) Random Player wins')\n",
    "      print(f'a = {a_record}')\n",
    "      print(f'b = {b_record}')\n",
    "      pass\n",
    "    result_list.append(game_result)\n",
    "  # display the result\n",
    "  b_win=result_list.count(-1)\n",
    "  draw=result_list.count(0)\n",
    "  a_win=result_list.count(1)\n",
    "  no_lose_rate=(iterations-b_win)/(iterations)\n",
    "  sns.barplot(x=[b_win,draw,a_win],y=['b_win','draw','a_win'])\n",
    "  print('')\n",
    "  print(f'Result run on {iterations} simulations')\n",
    "  print('----------------------')\n",
    "  print(f'- (b) Random player win = {b_win}')\n",
    "  print(f'- Draw = {draw}')\n",
    "  print(f'- (a) Algorithm win = {a_win}')\n",
    "  print(f'- The No Lose Rate = {no_lose_rate}')\n",
    "  return result_list"
   ]
  },
  {
   "cell_type": "code",
   "execution_count": 10,
   "id": "b46492df",
   "metadata": {
    "execution": {
     "iopub.execute_input": "2022-05-25T14:36:06.154163Z",
     "iopub.status.busy": "2022-05-25T14:36:06.153557Z",
     "iopub.status.idle": "2022-05-25T14:36:06.542600Z",
     "shell.execute_reply": "2022-05-25T14:36:06.541617Z"
    },
    "id": "zhpzRBUdpcqx",
    "outputId": "7c5dd057-e672-4efa-d11b-eb5ef603b45e",
    "papermill": {
     "duration": 0.413838,
     "end_time": "2022-05-25T14:36:06.545353",
     "exception": false,
     "start_time": "2022-05-25T14:36:06.131515",
     "status": "completed"
    },
    "tags": []
   },
   "outputs": [
    {
     "name": "stdout",
     "output_type": "stream",
     "text": [
      "(b) Random Player wins\n",
      "a = [6, 2, 3, 7]\n",
      "b = [0, 1, 4, 8]\n",
      "(b) Random Player wins\n",
      "a = [1, 7, 0, 2]\n",
      "b = [3, 6, 4, 5]\n",
      "(b) Random Player wins\n",
      "a = [8, 3, 0, 7]\n",
      "b = [2, 1, 4, 6]\n",
      "(b) Random Player wins\n",
      "a = [2, 6, 5, 0]\n",
      "b = [1, 8, 4, 7]\n",
      "(b) Random Player wins\n",
      "a = [6, 3, 2, 8]\n",
      "b = [1, 0, 4, 7]\n",
      "\n",
      "Result run on 500 simulations\n",
      "----------------------\n",
      "- (b) Random player win = 5\n",
      "- Draw = 400\n",
      "- (a) Algorithm win = 95\n",
      "- The No Lose Rate = 0.99\n"
     ]
    },
    {
     "data": {
      "image/png": "[encoded data removed]",
      "text/plain": [
       "<Figure size 432x288 with 1 Axes>"
      ]
     },
     "metadata": {
      "needs_background": "light"
     },
     "output_type": "display_data"
    }
   ],
   "source": [
    "simulate_result=simulate_game(iterations=500)"
   ]
  },
  {
   "cell_type": "markdown",
   "id": "3ffe35a8",
   "metadata": {
    "id": "PUuPdBBQCUy5",
    "papermill": {
     "duration": 0.021977,
     "end_time": "2022-05-25T14:36:06.589549",
     "exception": false,
     "start_time": "2022-05-25T14:36:06.567572",
     "status": "completed"
    },
    "tags": []
   },
   "source": [
    "# Findings\n",
    "\n",
    "\n",
    "\n",
    "*   by just using the 'lazy' method, you can not ensure undefeated\n",
    "*   'lazy' method = \n",
    "  * 'stop win' action = take the action when your opponent is 1 step away from win\n",
    "  * lazy = take random choice if 'stop win' is not required\n",
    "\n",
    "* However, the 'lazy' algorithm are still significantly better than a random player\n",
    "  * 'lazy' player win rate =  30 * random player win rate\n"
   ]
  },
  {
   "cell_type": "markdown",
   "id": "fbfbd17a",
   "metadata": {
    "id": "BXGWrRkiBT9A",
    "papermill": {
     "duration": 0.023881,
     "end_time": "2022-05-25T14:36:06.635624",
     "exception": false,
     "start_time": "2022-05-25T14:36:06.611743",
     "status": "completed"
    },
    "tags": []
   },
   "source": [
    "# Look into a b(Random Player) Win case"
   ]
  },
  {
   "cell_type": "code",
   "execution_count": 11,
   "id": "c4eb8962",
   "metadata": {
    "execution": {
     "iopub.execute_input": "2022-05-25T14:36:06.683312Z",
     "iopub.status.busy": "2022-05-25T14:36:06.682669Z",
     "iopub.status.idle": "2022-05-25T14:36:06.691549Z",
     "shell.execute_reply": "2022-05-25T14:36:06.690839Z"
    },
    "id": "y-D3Pm5W1bMv",
    "papermill": {
     "duration": 0.035309,
     "end_time": "2022-05-25T14:36:06.693671",
     "exception": false,
     "start_time": "2022-05-25T14:36:06.658362",
     "status": "completed"
    },
    "tags": []
   },
   "outputs": [],
   "source": [
    "def visualize_game_result(a_vec_key,b_vec_key):\n",
    "  print('- Red block = player a --- label 1' )\n",
    "  print('- Orange block = player b --- label 2')\n",
    "  print('- Black block = empty --- label 0')\n",
    "  a=a_vec_key\n",
    "  b=b_vec_key\n",
    "  data=[[0,0,0],\n",
    "        [0,0,0],\n",
    "        [0,0,0]]\n",
    "  # rewrite the result\n",
    "  for element in a:\n",
    "    row_index=math.trunc((element)/3)\n",
    "    col_index=element%3\n",
    "    data[row_index][col_index]=1\n",
    "  for element in b:\n",
    "    row_index=math.trunc((element)/3)\n",
    "    col_index=element%3\n",
    "    data[row_index][col_index]=2\n",
    "  # plot\n",
    "  fig, ax =plt.subplots(1,1,figsize=(3.5,3),constrained_layout=True)\n",
    "  sns.heatmap(data,annot=True,cbar=False)"
   ]
  },
  {
   "cell_type": "code",
   "execution_count": 12,
   "id": "4368f829",
   "metadata": {
    "execution": {
     "iopub.execute_input": "2022-05-25T14:36:06.739635Z",
     "iopub.status.busy": "2022-05-25T14:36:06.739197Z",
     "iopub.status.idle": "2022-05-25T14:36:06.928497Z",
     "shell.execute_reply": "2022-05-25T14:36:06.927328Z"
    },
    "id": "Fd25rUrJ5CUU",
    "outputId": "a71f37e2-6337-4538-d638-b35a8217d3d7",
    "papermill": {
     "duration": 0.214886,
     "end_time": "2022-05-25T14:36:06.930798",
     "exception": false,
     "start_time": "2022-05-25T14:36:06.715912",
     "status": "completed"
    },
    "tags": []
   },
   "outputs": [
    {
     "name": "stdout",
     "output_type": "stream",
     "text": [
      "- Red block = player a --- label 1\n",
      "- Orange block = player b --- label 2\n",
      "- Black block = empty --- label 0\n"
     ]
    },
    {
     "data": {
      "image/png": "[encoded data removed]",
      "text/plain": [
       "<Figure size 252x216 with 1 Axes>"
      ]
     },
     "metadata": {
      "needs_background": "light"
     },
     "output_type": "display_data"
    }
   ],
   "source": [
    "visualize_game_result(a_vec_key=[8, 3, 0],\n",
    "                      b_vec_key=[2, 1, 4])"
   ]
  }
 ],
 "metadata": {
  "kernelspec": {
   "display_name": "Python 3",
   "language": "python",
   "name": "python3"
  },
  "language_info": {
   "codemirror_mode": {
    "name": "ipython",
    "version": 3
   },
   "file_extension": ".py",
   "mimetype": "text/x-python",
   "name": "python",
   "nbconvert_exporter": "python",
   "pygments_lexer": "ipython3",
   "version": "3.7.12"
  },
  "papermill": {
   "default_parameters": {},
   "duration": 13.989425,
   "end_time": "2022-05-25T14:36:07.675262",
   "environment_variables": {},
   "exception": null,
   "input_path": "__notebook__.ipynb",
   "output_path": "__notebook__.ipynb",
   "parameters": {},
   "start_time": "2022-05-25T14:35:53.685837",
   "version": "2.3.4"
  }
 },
 "nbformat": 4,
 "nbformat_minor": 5
}
