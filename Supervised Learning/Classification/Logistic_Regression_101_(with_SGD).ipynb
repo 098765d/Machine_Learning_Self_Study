{
  "nbformat": 4,
  "nbformat_minor": 0,
  "metadata": {
    "colab": {
      "name": "Logistic Regression 101 (with SGD).ipynb",
      "provenance": [],
      "collapsed_sections": []
    },
    "kernelspec": {
      "name": "python3",
      "display_name": "Python 3"
    },
    "language_info": {
      "name": "python"
    },
    "accelerator": "TPU",
    "gpuClass": "standard"
  },
  "cells": [
    {
      "cell_type": "markdown",
      "source": [
        "# Logistic Regression\n",
        "\n",
        "## Outline\n",
        "\n",
        "* Read Data\n",
        "* The Logistic Regression Algorithm Details\n",
        "    * The Cost Function\n",
        "    * The Stochastic Grdaient Descent to Minimize the Cost Function\n",
        "* Result Display\n",
        "* Apply the Model on Test Data, Submission"
      ],
      "metadata": {
        "id": "_ydUPKQCyfbM"
      }
    },
    {
      "cell_type": "code",
      "source": [
        "import numpy as np\n",
        "import pandas as pd\n",
        "import matplotlib.pyplot as plt\n",
        "from sklearn.preprocessing import StandardScaler\n",
        "from sklearn.model_selection import train_test_split\n",
        "from scipy.special import expit\n",
        "import seaborn as sns\n",
        "from sklearn.metrics import mean_squared_error\n",
        "from sklearn.metrics import confusion_matrix, ConfusionMatrixDisplay\n",
        "\n",
        "import datetime\n",
        "today = datetime.date.today()\n",
        "print('Date = ',today)"
      ],
      "metadata": {
        "colab": {
          "base_uri": "https://localhost:8080/"
        },
        "id": "2ecuZ-iDyh10",
        "outputId": "20322a9a-a256-4c4c-87e5-76697304dd74"
      },
      "execution_count": 50,
      "outputs": [
        {
          "output_type": "stream",
          "name": "stdout",
          "text": [
            "Date =  2022-06-27\n"
          ]
        }
      ]
    },
    {
      "cell_type": "markdown",
      "source": [
        "# Read Data"
      ],
      "metadata": {
        "id": "TnZScOG4z85T"
      }
    },
    {
      "cell_type": "code",
      "source": [
        "train_df=pd.read_csv('/content/drive/MyDrive/Machine_Learning_Self_Study/ML_Algorithm/Supervised Algorithm/Classification/Binary Classification Data/train.csv')\n",
        "test_df=pd.read_csv('/content/drive/MyDrive/Machine_Learning_Self_Study/ML_Algorithm/Supervised Algorithm/Classification/Binary Classification Data/test.csv')"
      ],
      "metadata": {
        "id": "kU8t7NREzrDo"
      },
      "execution_count": 2,
      "outputs": []
    },
    {
      "cell_type": "code",
      "source": [
        "display(train_df.info())\n",
        "display(test_df.info())"
      ],
      "metadata": {
        "colab": {
          "base_uri": "https://localhost:8080/",
          "height": 1000
        },
        "id": "vktyr0DT0cKM",
        "outputId": "61bf317b-5fa5-4080-bb29-4fa19a58453a"
      },
      "execution_count": 3,
      "outputs": [
        {
          "output_type": "stream",
          "name": "stdout",
          "text": [
            "<class 'pandas.core.frame.DataFrame'>\n",
            "RangeIndex: 800 entries, 0 to 799\n",
            "Data columns (total 22 columns):\n",
            " #   Column    Non-Null Count  Dtype\n",
            "---  ------    --------------  -----\n",
            " 0   Id        800 non-null    int64\n",
            " 1   laufkont  800 non-null    int64\n",
            " 2   laufzeit  800 non-null    int64\n",
            " 3   moral     800 non-null    int64\n",
            " 4   verw      800 non-null    int64\n",
            " 5   hoehe     800 non-null    int64\n",
            " 6   sparkont  800 non-null    int64\n",
            " 7   beszeit   800 non-null    int64\n",
            " 8   rate      800 non-null    int64\n",
            " 9   famges    800 non-null    int64\n",
            " 10  buerge    800 non-null    int64\n",
            " 11  wohnzeit  800 non-null    int64\n",
            " 12  verm      800 non-null    int64\n",
            " 13  alter     800 non-null    int64\n",
            " 14  weitkred  800 non-null    int64\n",
            " 15  wohn      800 non-null    int64\n",
            " 16  bishkred  800 non-null    int64\n",
            " 17  beruf     800 non-null    int64\n",
            " 18  pers      800 non-null    int64\n",
            " 19  telef     800 non-null    int64\n",
            " 20  gastarb   800 non-null    int64\n",
            " 21  kredit    800 non-null    int64\n",
            "dtypes: int64(22)\n",
            "memory usage: 137.6 KB\n"
          ]
        },
        {
          "output_type": "display_data",
          "data": {
            "text/plain": [
              "None"
            ]
          },
          "metadata": {}
        },
        {
          "output_type": "stream",
          "name": "stdout",
          "text": [
            "<class 'pandas.core.frame.DataFrame'>\n",
            "RangeIndex: 200 entries, 0 to 199\n",
            "Data columns (total 21 columns):\n",
            " #   Column    Non-Null Count  Dtype\n",
            "---  ------    --------------  -----\n",
            " 0   Id        200 non-null    int64\n",
            " 1   laufkont  200 non-null    int64\n",
            " 2   laufzeit  200 non-null    int64\n",
            " 3   moral     200 non-null    int64\n",
            " 4   verw      200 non-null    int64\n",
            " 5   hoehe     200 non-null    int64\n",
            " 6   sparkont  200 non-null    int64\n",
            " 7   beszeit   200 non-null    int64\n",
            " 8   rate      200 non-null    int64\n",
            " 9   famges    200 non-null    int64\n",
            " 10  buerge    200 non-null    int64\n",
            " 11  wohnzeit  200 non-null    int64\n",
            " 12  verm      200 non-null    int64\n",
            " 13  alter     200 non-null    int64\n",
            " 14  weitkred  200 non-null    int64\n",
            " 15  wohn      200 non-null    int64\n",
            " 16  bishkred  200 non-null    int64\n",
            " 17  beruf     200 non-null    int64\n",
            " 18  pers      200 non-null    int64\n",
            " 19  telef     200 non-null    int64\n",
            " 20  gastarb   200 non-null    int64\n",
            "dtypes: int64(21)\n",
            "memory usage: 32.9 KB\n"
          ]
        },
        {
          "output_type": "display_data",
          "data": {
            "text/plain": [
              "None"
            ]
          },
          "metadata": {}
        }
      ]
    },
    {
      "cell_type": "code",
      "source": [
        "# X,y split\n",
        "y_col='kredit'\n",
        "id_col='Id'\n",
        "X=train_df.drop(columns=[y_col,id_col])\n",
        "y=train_df[y_col]\n",
        "\n",
        "# drop the id_col for test_df\n",
        "test_df=test_df.drop(columns=[id_col])"
      ],
      "metadata": {
        "id": "JnrUDQS50dDs"
      },
      "execution_count": 4,
      "outputs": []
    },
    {
      "cell_type": "code",
      "source": [
        "# standard scaler\n",
        "def df_scale(X,test_df):\n",
        "  scaler = StandardScaler()\n",
        "  scaler.fit(X)\n",
        "  X_scale=X.copy()\n",
        "  X_scale[:]=scaler.transform(X)\n",
        "  test_df_scale=test_df.copy()\n",
        "  test_df_scale[:]=scaler.transform(test_df)\n",
        "  return X_scale, test_df_scale\n",
        "\n",
        "# scaling\n",
        "X_scale, test_df_scale=df_scale(X,test_df)"
      ],
      "metadata": {
        "id": "E8fj_76K1YUv"
      },
      "execution_count": 5,
      "outputs": []
    },
    {
      "cell_type": "code",
      "source": [
        "# train test split\n",
        "X_train, X_test, y_train, y_test = train_test_split(\n",
        "    X_scale, y, test_size=0.3, random_state=42)"
      ],
      "metadata": {
        "id": "Y0RhP5At1Yye"
      },
      "execution_count": 6,
      "outputs": []
    },
    {
      "cell_type": "code",
      "source": [
        "y_train.value_counts()"
      ],
      "metadata": {
        "colab": {
          "base_uri": "https://localhost:8080/"
        },
        "id": "VYH1Le1G2G1I",
        "outputId": "d0a1e799-223b-47d8-b428-3d05aa1422c0"
      },
      "execution_count": 7,
      "outputs": [
        {
          "output_type": "execute_result",
          "data": {
            "text/plain": [
              "1    424\n",
              "0    136\n",
              "Name: kredit, dtype: int64"
            ]
          },
          "metadata": {},
          "execution_count": 7
        }
      ]
    },
    {
      "cell_type": "markdown",
      "source": [
        "# The Logistic Regression Algorithm\n",
        "\n",
        "![](https://static.javatpoint.com/tutorial/machine-learning/images/logistic-regression-in-machine-learning.png)\n",
        "\n",
        "![link text](https://github.com/Bhardwaj-Saurabh/Machine_Learning_Specialization_AndrewNG_Coursera/raw/0c8f6ce911e1dd650a046836b9824e69b833e2bf/Supervised%20Machine%20Learning%20Regression%20and%20Classification/Weel_3_Lab/images/C1_W3_LogisticGradientRegularized.png)\n",
        "\n"
      ],
      "metadata": {
        "id": "wsshFQ595a8O"
      }
    },
    {
      "cell_type": "markdown",
      "source": [
        "## The Cost Function for Logistic Regression with L2 Norm\n",
        "\n",
        "$ J(\\mathbf{w},b) = \\frac{1}{m}  \\sum_{i=0}^{m-1} \\left[ -y^{(i)} \\log\\left(f_{\\mathbf{w},b}\\left( \\mathbf{x}^{(i)} \\right) \\right) - \\left( 1 - y^{(i)}\\right) \\log \\left( 1 - f_{\\mathbf{w},b}\\left( \\mathbf{x}^{(i)} \\right) \\right) \\right] + \\frac{\\lambda}{2m}  \\sum_{j=0}^{n-1} w_j^2 \\tag{3} $\n",
        "\n",
        "And,\n",
        "\n",
        "$ f_{\\mathbf{w},b}(\\mathbf{x}^{(i)}) = sigmoid(\\mathbf{w} \\cdot \\mathbf{x}^{(i)} + b)  \\tag{4} $"
      ],
      "metadata": {
        "id": "gWCQmSH55Qb0"
      }
    },
    {
      "cell_type": "code",
      "source": [
        "def cost_LR(X,y,w,lambda_):\n",
        "  \"\"\"\n",
        "    Computes the cost over all examples\n",
        "    Args:\n",
        "      X (ndarray (m,n): Data, m examples with n features\n",
        "      y (ndarray (m,)): target values\n",
        "      w (ndarray (n,)): model parameters \n",
        "      z_i= w * x_i (for i-th point, i belongs to m) \n",
        "      lambda_ (scalar): Controls amount of regularization\n",
        "    Returns:\n",
        "      total_cost (scalar):  cost \n",
        "    \"\"\"\n",
        "  m,n=X.shape\n",
        "  # iterate over m points\n",
        "  cost=0.\n",
        "  for i in range(m):\n",
        "    z_i=np.dot(X[i],w)\n",
        "    f_i=expit(z_i)\n",
        "    cost += -y[i]*np.log(f_i) - (1-y[i])*np.log(1-f_i)\n",
        "  cost=cost/m\n",
        "\n",
        "  # iter over n features for L2 norm \n",
        "  l2_norm=0.\n",
        "  for j in range(n):\n",
        "    l2_norm += w[j]**2\n",
        "  l2_norm=(lambda_/(2*m)) * l2_norm    \n",
        "\n",
        "  # total cost\n",
        "  total_cost = cost + l2_norm  \n",
        "\n",
        "  return total_cost"
      ],
      "metadata": {
        "id": "c5J6hAIN31sM"
      },
      "execution_count": 13,
      "outputs": []
    },
    {
      "cell_type": "markdown",
      "source": [
        "## Gradient Descent for Cost Function J\n",
        "\n",
        "$ \\begin{align*}\n",
        "&\\text{repeat until convergence:} \\; \\lbrace \\\\\n",
        "&  \\; \\; \\;w_j = w_j -  \\alpha \\frac{\\partial J(\\mathbf{w},b)}{\\partial w_j} \\tag{1}  \\; & \\text{for j := 0..n-1} \\\\ \n",
        "&  \\; \\; \\;  \\; \\;b = b -  \\alpha \\frac{\\partial J(\\mathbf{w},b)}{\\partial b} \\\\\n",
        "&\\rbrace\n",
        "\\end{align*} $\n",
        "\n",
        "And GD will be:\n",
        "\n",
        "$ \n",
        "\\frac{\\partial J(\\mathbf{w},b)}{\\partial w_j}  = \\frac{1}{m} \\sum\\limits_{i = 0}^{m-1} (f_{\\mathbf{w},b}(\\mathbf{x}^{(i)}) - y^{(i)})x_{j}^{(i)}  +  \\frac{\\lambda}{m} w_j $\n",
        "\n",
        "SGD will be:\n",
        "\n",
        "$ \n",
        "\\frac{\\partial J(\\mathbf{w},b)}{\\partial w_j}  =  (f_{\\mathbf{w},b}(\\mathbf{x}^{(i)}) - y^{(i)})x_{j}^{(i)}  +  {\\lambda} w_j \n",
        "$"
      ],
      "metadata": {
        "id": "Wu_3QrkmChTz"
      }
    },
    {
      "cell_type": "code",
      "source": [
        "def compute_gradient_logistic_reg(X, y, lambda_,alpha,iters): \n",
        "  cost_array={}\n",
        "  \"\"\"\n",
        "  Computes the gradient for linear regression \n",
        "\n",
        "  Args:\n",
        "    X (ndarray (m,n): Data, m examples with n features\n",
        "    y (ndarray (m,)): target values\n",
        "    w (ndarray (n,)): model parameters  \n",
        "    lambda_ (scalar): Controls amount of regularization\n",
        "  Returns\n",
        "    dj_dw (ndarray Shape (n,)): The gradient of the cost w.r.t. the parameters w\n",
        "  \"\"\"\n",
        "  # convert it to np array\n",
        "  X=X.values\n",
        "  y=y.values\n",
        "  # add an extra column in X for interecpt\n",
        "  X=np.concatenate((np.ones((X.shape[0],1)), X), axis=1)\n",
        "  m,n=X.shape\n",
        "  # initialize w\n",
        "  w=np.zeros(n)\n",
        "\n",
        "  # iter to converge\n",
        "  for iter in range(iters):\n",
        "    for i in range(m):\n",
        "      z_i=np.dot(X[i],w)\n",
        "      f_i=expit(z_i)\n",
        "      err_i  = f_i  - y[i]\n",
        "      dj_dw=np.dot(err_i,X[i])+lambda_*w\n",
        "      w=w-alpha*dj_dw\n",
        "      cost=cost_LR(X,y,w,lambda_)\n",
        "      cost_array[iter]=cost\n",
        "      #print(iter,i)\n",
        "  \n",
        "  return w, cost_array"
      ],
      "metadata": {
        "id": "Fp5EU1Dl86g4"
      },
      "execution_count": 20,
      "outputs": []
    },
    {
      "cell_type": "code",
      "source": [
        "# function for: display the cost-iter trend\n",
        "def plot_cost_iter(cost_array):\n",
        "  iters=cost_array.keys()\n",
        "  cost=cost_array.values()\n",
        "  fig=sns.scatterplot(x=iters,y=cost)\n",
        "  fig.set_xlabel('iters')\n",
        "  fig.set_ylabel('cost')\n",
        "  fig.set_title('Cost Function - # of Iterations')\n"
      ],
      "metadata": {
        "id": "XOj7zQG-IPBb"
      },
      "execution_count": 94,
      "outputs": []
    },
    {
      "cell_type": "code",
      "source": [
        "w_SGD,cost_SGD=compute_gradient_logistic_reg(X=X_train,\n",
        "                              y=y_train,\n",
        "                              lambda_=0.01,\n",
        "                              alpha=0.002,\n",
        "                              iters=30)"
      ],
      "metadata": {
        "id": "HoVrBXh-86sg"
      },
      "execution_count": 93,
      "outputs": []
    },
    {
      "cell_type": "code",
      "source": [
        "# plot the Cost Function Change over Iterations\n",
        "plot_cost_iter(cost_array=cost_SGD)"
      ],
      "metadata": {
        "colab": {
          "base_uri": "https://localhost:8080/",
          "height": 295
        },
        "id": "UPk5HdtM9tUi",
        "outputId": "24b85685-b636-4407-970c-e12e0116973c"
      },
      "execution_count": 96,
      "outputs": [
        {
          "output_type": "display_data",
          "data": {
            "text/plain": [
              "<Figure size 432x288 with 1 Axes>"
            ],
            "image/png": "[encoded data removed]"
          },
          "metadata": {
            "needs_background": "light"
          }
        }
      ]
    },
    {
      "cell_type": "code",
      "source": [
        "# scatterplot the y_pred and y_actual, display the MSE, theta\n",
        "def confusion_matrix(theta,X_test,y_test):\n",
        "  # add an extra column in X for interecpt\n",
        "  X_test=np.concatenate((np.ones((X_test.shape[0],1)), X_test), axis=1)\n",
        "  #\n",
        "  z_i=np.matmul(X_test,theta.T)\n",
        "  f_i=expit(z_i)\n",
        "  y_test_pred=np.where(f_i>0.5,1,0)\n",
        "\n",
        "  # plot the graph\n",
        "  fig,ax1=plt.subplots(figsize=(5,5))\n",
        "  ConfusionMatrixDisplay.from_predictions(y_test, y_test_pred,ax=ax1)\n",
        "  ax1.set_title('Confusion Matrix for Prediction Result')\n",
        "  return y_test_pred"
      ],
      "metadata": {
        "id": "llClPK8IA5GQ"
      },
      "execution_count": 105,
      "outputs": []
    },
    {
      "cell_type": "markdown",
      "source": [
        "# Model Result"
      ],
      "metadata": {
        "id": "Xu5WmoI0WMBz"
      }
    },
    {
      "cell_type": "code",
      "source": [
        "confusion_matrix(theta=w_SGD,\n",
        "                 X_test=X_test,\n",
        "                 y_test=y_test)"
      ],
      "metadata": {
        "colab": {
          "base_uri": "https://localhost:8080/",
          "height": 500
        },
        "id": "UISEugJmA7EA",
        "outputId": "c6307f5b-db15-4c57-a3ba-1afe0f0ab12d"
      },
      "execution_count": 106,
      "outputs": [
        {
          "output_type": "execute_result",
          "data": {
            "text/plain": [
              "array([1, 0, 1, 1, 1, 0, 1, 1, 1, 0, 1, 1, 1, 1, 1, 1, 1, 1, 1, 1, 1, 1,\n",
              "       1, 1, 1, 1, 1, 1, 1, 1, 1, 1, 1, 1, 1, 1, 1, 1, 0, 1, 1, 1, 1, 1,\n",
              "       1, 1, 1, 1, 1, 1, 1, 1, 1, 1, 1, 1, 1, 1, 1, 1, 1, 1, 1, 1, 1, 1,\n",
              "       1, 0, 1, 1, 1, 1, 1, 1, 1, 1, 1, 1, 1, 1, 1, 1, 1, 1, 1, 0, 1, 1,\n",
              "       0, 1, 0, 0, 1, 1, 0, 1, 1, 1, 1, 1, 1, 1, 1, 1, 1, 1, 1, 1, 1, 1,\n",
              "       1, 0, 1, 1, 0, 1, 1, 1, 1, 1, 1, 1, 1, 1, 1, 1, 1, 1, 1, 1, 1, 1,\n",
              "       1, 1, 1, 0, 1, 1, 0, 1, 1, 1, 1, 1, 1, 1, 1, 1, 1, 1, 1, 1, 0, 1,\n",
              "       1, 1, 1, 0, 1, 1, 1, 1, 1, 1, 1, 1, 1, 1, 1, 1, 1, 1, 1, 1, 1, 1,\n",
              "       1, 1, 0, 1, 1, 1, 1, 0, 1, 1, 1, 0, 1, 1, 1, 1, 1, 0, 1, 1, 1, 1,\n",
              "       1, 1, 1, 1, 1, 1, 1, 1, 1, 1, 1, 1, 1, 1, 1, 1, 1, 1, 1, 1, 1, 1,\n",
              "       0, 1, 1, 1, 1, 1, 1, 1, 1, 1, 1, 1, 0, 1, 1, 1, 1, 1, 1, 1])"
            ]
          },
          "metadata": {},
          "execution_count": 106
        },
        {
          "output_type": "display_data",
          "data": {
            "text/plain": [
              "<Figure size 360x360 with 2 Axes>"
            ],
            "image/png": "[encoded data removed]"
          },
          "metadata": {
            "needs_background": "light"
          }
        }
      ]
    },
    {
      "cell_type": "code",
      "source": [
        "# The LR coefficient plot\n",
        "def weight_plot(w,X):\n",
        "  col_name=list(X.columns)\n",
        "  coef=w[1:]\n",
        "  fig,ax1=plt.subplots(figsize=(5,9))\n",
        "  sns.barplot(x=coef,y=col_name,color='green',ax=ax1)\n",
        "  ax1.set_title('Coefficient Plot for Logistic Regression')\n"
      ],
      "metadata": {
        "id": "df9T189KNQeT"
      },
      "execution_count": 107,
      "outputs": []
    },
    {
      "cell_type": "code",
      "source": [
        "weight_plot(w=w_SGD,\n",
        "            X=X_train)"
      ],
      "metadata": {
        "colab": {
          "base_uri": "https://localhost:8080/",
          "height": 553
        },
        "id": "Hx04VVxcPkLy",
        "outputId": "977bdf96-d141-4dc0-cbef-ccaf4a64d8e5"
      },
      "execution_count": 108,
      "outputs": [
        {
          "output_type": "display_data",
          "data": {
            "text/plain": [
              "<Figure size 360x648 with 1 Axes>"
            ],
            "image/png": "[encoded data removed]"
          },
          "metadata": {
            "needs_background": "light"
          }
        }
      ]
    },
    {
      "cell_type": "markdown",
      "source": [
        "# Apply it on test df"
      ],
      "metadata": {
        "id": "PxGvjgVvR4Ga"
      }
    },
    {
      "cell_type": "code",
      "source": [
        "test_df=pd.read_csv('/content/drive/MyDrive/Machine_Learning_Self_Study/ML_Algorithm/Supervised Algorithm/Classification/Binary Classification Data/test.csv')"
      ],
      "metadata": {
        "id": "Dj_MkNH7S_e9"
      },
      "execution_count": 111,
      "outputs": []
    },
    {
      "cell_type": "code",
      "source": [
        "def test_submission(w_SGD,test_df_scale,test_df):\n",
        "  # generate the y_pred_label\n",
        "  X_test=np.concatenate((np.ones((test_df_scale.shape[0],1)), test_df_scale), axis=1)\n",
        "  z_i=np.matmul(X_test,w_SGD.T)\n",
        "  f_i=expit(z_i)\n",
        "  y_test_pred=np.where(f_i>0.5,1,0)\n",
        "  # create df for submission\n",
        "  df_submit=pd.DataFrame()\n",
        "  df_submit['Id']=test_df['Id']\n",
        "  df_submit['kredit']=y_test_pred\n",
        "  return df_submit\n"
      ],
      "metadata": {
        "id": "xqjLXPxWRYwX"
      },
      "execution_count": 116,
      "outputs": []
    },
    {
      "cell_type": "code",
      "source": [
        "df_submit=test_submission(w_SGD,test_df_scale,test_df)"
      ],
      "metadata": {
        "id": "72n51awRSBL_"
      },
      "execution_count": 117,
      "outputs": []
    },
    {
      "cell_type": "code",
      "source": [
        "df_submit.to_csv('df_submit.csv',index=False)"
      ],
      "metadata": {
        "id": "EJ_6D9ftS1Wp"
      },
      "execution_count": 122,
      "outputs": []
    }
  ]
}