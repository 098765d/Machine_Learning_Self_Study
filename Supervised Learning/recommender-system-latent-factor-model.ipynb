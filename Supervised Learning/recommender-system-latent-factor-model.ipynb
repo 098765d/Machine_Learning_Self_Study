{
 "cells": [
  {
   "cell_type": "markdown",
   "id": "1611ce1f",
   "metadata": {
    "id": "gYJLN-z3XVee",
    "papermill": {
     "duration": 0.009776,
     "end_time": "2022-06-14T13:35:37.553041",
     "exception": false,
     "start_time": "2022-06-14T13:35:37.543265",
     "status": "completed"
    },
    "tags": []
   },
   "source": [
    "# Recommender System - Latent Factor Model\n",
    "\n",
    "* Approach - Latent Factor Model\n",
    "* Cost Function Optimization - Stochastic Gradient Descent\n",
    "* Reference: [CS 550 Lecture Series, Week 6: Recommender Systems - Part 9 Extension of Latent Factor Models](https://www.youtube.com/watch?v=Olk1aR8dVho&list=PLLBN4Z0UI9IfiSlMk923dcnje0BYfhivd&index=37)\n",
    "\n",
    "\n",
    "---\n",
    "## Outline\n",
    "* Read the Dataset\n",
    "* Pre-Process Data, Generate Matrix (R)\n",
    "* Intialize P,Q (R = P * Q)\n",
    "* Minimize the Cost Function and Gradient Descent\n",
    "* The MSE - Epoch Plot\n",
    "* The Prediction Result - Complete Matrix"
   ]
  },
  {
   "cell_type": "code",
   "execution_count": 1,
   "id": "59f4c64d",
   "metadata": {
    "execution": {
     "iopub.execute_input": "2022-06-14T13:35:37.568697Z",
     "iopub.status.busy": "2022-06-14T13:35:37.567346Z",
     "iopub.status.idle": "2022-06-14T13:35:39.046579Z",
     "shell.execute_reply": "2022-06-14T13:35:39.045510Z"
    },
    "id": "TKUGe-agXXvk",
    "papermill": {
     "duration": 1.489368,
     "end_time": "2022-06-14T13:35:39.049243",
     "exception": false,
     "start_time": "2022-06-14T13:35:37.559875",
     "status": "completed"
    },
    "tags": []
   },
   "outputs": [],
   "source": [
    "# import package\n",
    "import pandas as pd\n",
    "from sklearn.metrics import mean_squared_error\n",
    "from math import sqrt\n",
    "import seaborn as sns\n",
    "import numpy as np\n",
    "import matplotlib.pyplot as plt"
   ]
  },
  {
   "cell_type": "markdown",
   "id": "4dfd3d84",
   "metadata": {
    "id": "pbA4CseEXybw",
    "papermill": {
     "duration": 0.006261,
     "end_time": "2022-06-14T13:35:39.062104",
     "exception": false,
     "start_time": "2022-06-14T13:35:39.055843",
     "status": "completed"
    },
    "tags": []
   },
   "source": [
    "# Read the Dataset"
   ]
  },
  {
   "cell_type": "code",
   "execution_count": 2,
   "id": "0963448c",
   "metadata": {
    "execution": {
     "iopub.execute_input": "2022-06-14T13:35:39.076693Z",
     "iopub.status.busy": "2022-06-14T13:35:39.076272Z",
     "iopub.status.idle": "2022-06-14T13:35:39.262733Z",
     "shell.execute_reply": "2022-06-14T13:35:39.261815Z"
    },
    "id": "OdH-bvMmXYKd",
    "papermill": {
     "duration": 0.196847,
     "end_time": "2022-06-14T13:35:39.265325",
     "exception": false,
     "start_time": "2022-06-14T13:35:39.068478",
     "status": "completed"
    },
    "tags": []
   },
   "outputs": [],
   "source": [
    "# read df for rating\n",
    "movie_df_path='../input/movierecommenderdataset/ratings.csv'\n",
    "data=pd.read_csv(movie_df_path)\n",
    "data.rename(columns={\"userId\": \"user_id\", \"movieId\": \"item_id\"},inplace=True)\n",
    "\n",
    "# read the item_id to movie title data\n",
    "item_title=pd.read_csv('../input/movierecommenderdataset/movies.csv')\n",
    "item_title['movieId'] = item_title['movieId'].astype('str')\n",
    "item_title.rename(columns={\"movieId\": \"item_id\"},inplace=True)"
   ]
  },
  {
   "cell_type": "markdown",
   "id": "523206e2",
   "metadata": {
    "id": "wp12MaU2gOaR",
    "papermill": {
     "duration": 0.006065,
     "end_time": "2022-06-14T13:35:39.278154",
     "exception": false,
     "start_time": "2022-06-14T13:35:39.272089",
     "status": "completed"
    },
    "tags": []
   },
   "source": [
    "# Pre-Process the Dataset, Generate Matrix"
   ]
  },
  {
   "cell_type": "code",
   "execution_count": 3,
   "id": "0c4ecc16",
   "metadata": {
    "execution": {
     "iopub.execute_input": "2022-06-14T13:35:39.292898Z",
     "iopub.status.busy": "2022-06-14T13:35:39.291965Z",
     "iopub.status.idle": "2022-06-14T13:35:39.903980Z",
     "shell.execute_reply": "2022-06-14T13:35:39.902970Z"
    },
    "id": "jKmJ6ovwgStZ",
    "outputId": "9d7cba2c-0091-4ab0-e214-201ee2e201a4",
    "papermill": {
     "duration": 0.624946,
     "end_time": "2022-06-14T13:35:39.909458",
     "exception": false,
     "start_time": "2022-06-14T13:35:39.284512",
     "status": "completed"
    },
    "tags": []
   },
   "outputs": [
    {
     "data": {
      "text/html": [
       "<div>\n",
       "<style scoped>\n",
       "    .dataframe tbody tr th:only-of-type {\n",
       "        vertical-align: middle;\n",
       "    }\n",
       "\n",
       "    .dataframe tbody tr th {\n",
       "        vertical-align: top;\n",
       "    }\n",
       "\n",
       "    .dataframe thead th {\n",
       "        text-align: right;\n",
       "    }\n",
       "</style>\n",
       "<table border=\"1\" class=\"dataframe\">\n",
       "  <thead>\n",
       "    <tr style=\"text-align: right;\">\n",
       "      <th></th>\n",
       "      <th>Toy Story (1995)</th>\n",
       "      <th>Braveheart (1995)</th>\n",
       "      <th>Matrix, The (1999)</th>\n",
       "      <th>Star Wars: Episode IV - A New Hope (1977)</th>\n",
       "      <th>Fight Club (1999)</th>\n",
       "      <th>Pulp Fiction (1994)</th>\n",
       "      <th>Shawshank Redemption, The (1994)</th>\n",
       "      <th>Forrest Gump (1994)</th>\n",
       "      <th>Jurassic Park (1993)</th>\n",
       "      <th>Schindler's List (1993)</th>\n",
       "      <th>Terminator 2: Judgment Day (1991)</th>\n",
       "      <th>Silence of the Lambs, The (1991)</th>\n",
       "    </tr>\n",
       "    <tr>\n",
       "      <th>user_id</th>\n",
       "      <th></th>\n",
       "      <th></th>\n",
       "      <th></th>\n",
       "      <th></th>\n",
       "      <th></th>\n",
       "      <th></th>\n",
       "      <th></th>\n",
       "      <th></th>\n",
       "      <th></th>\n",
       "      <th></th>\n",
       "      <th></th>\n",
       "      <th></th>\n",
       "    </tr>\n",
       "  </thead>\n",
       "  <tbody>\n",
       "    <tr>\n",
       "      <th>1</th>\n",
       "      <td>4.0</td>\n",
       "      <td>4.0</td>\n",
       "      <td>5.0</td>\n",
       "      <td>5.0</td>\n",
       "      <td>5.0</td>\n",
       "      <td>3.0</td>\n",
       "      <td>NaN</td>\n",
       "      <td>4.0</td>\n",
       "      <td>4.0</td>\n",
       "      <td>5.0</td>\n",
       "      <td>NaN</td>\n",
       "      <td>4.0</td>\n",
       "    </tr>\n",
       "    <tr>\n",
       "      <th>10</th>\n",
       "      <td>NaN</td>\n",
       "      <td>NaN</td>\n",
       "      <td>0.5</td>\n",
       "      <td>NaN</td>\n",
       "      <td>0.5</td>\n",
       "      <td>1.0</td>\n",
       "      <td>NaN</td>\n",
       "      <td>3.5</td>\n",
       "      <td>NaN</td>\n",
       "      <td>NaN</td>\n",
       "      <td>NaN</td>\n",
       "      <td>NaN</td>\n",
       "    </tr>\n",
       "    <tr>\n",
       "      <th>100</th>\n",
       "      <td>NaN</td>\n",
       "      <td>NaN</td>\n",
       "      <td>NaN</td>\n",
       "      <td>NaN</td>\n",
       "      <td>NaN</td>\n",
       "      <td>3.5</td>\n",
       "      <td>NaN</td>\n",
       "      <td>4.0</td>\n",
       "      <td>NaN</td>\n",
       "      <td>NaN</td>\n",
       "      <td>NaN</td>\n",
       "      <td>NaN</td>\n",
       "    </tr>\n",
       "    <tr>\n",
       "      <th>101</th>\n",
       "      <td>NaN</td>\n",
       "      <td>NaN</td>\n",
       "      <td>NaN</td>\n",
       "      <td>NaN</td>\n",
       "      <td>5.0</td>\n",
       "      <td>NaN</td>\n",
       "      <td>NaN</td>\n",
       "      <td>NaN</td>\n",
       "      <td>NaN</td>\n",
       "      <td>NaN</td>\n",
       "      <td>NaN</td>\n",
       "      <td>NaN</td>\n",
       "    </tr>\n",
       "    <tr>\n",
       "      <th>102</th>\n",
       "      <td>NaN</td>\n",
       "      <td>NaN</td>\n",
       "      <td>NaN</td>\n",
       "      <td>NaN</td>\n",
       "      <td>NaN</td>\n",
       "      <td>5.0</td>\n",
       "      <td>4.0</td>\n",
       "      <td>5.0</td>\n",
       "      <td>3.0</td>\n",
       "      <td>NaN</td>\n",
       "      <td>4.0</td>\n",
       "      <td>4.0</td>\n",
       "    </tr>\n",
       "    <tr>\n",
       "      <th>...</th>\n",
       "      <td>...</td>\n",
       "      <td>...</td>\n",
       "      <td>...</td>\n",
       "      <td>...</td>\n",
       "      <td>...</td>\n",
       "      <td>...</td>\n",
       "      <td>...</td>\n",
       "      <td>...</td>\n",
       "      <td>...</td>\n",
       "      <td>...</td>\n",
       "      <td>...</td>\n",
       "      <td>...</td>\n",
       "    </tr>\n",
       "    <tr>\n",
       "      <th>95</th>\n",
       "      <td>NaN</td>\n",
       "      <td>NaN</td>\n",
       "      <td>5.0</td>\n",
       "      <td>5.0</td>\n",
       "      <td>NaN</td>\n",
       "      <td>NaN</td>\n",
       "      <td>NaN</td>\n",
       "      <td>NaN</td>\n",
       "      <td>3.5</td>\n",
       "      <td>NaN</td>\n",
       "      <td>4.0</td>\n",
       "      <td>NaN</td>\n",
       "    </tr>\n",
       "    <tr>\n",
       "      <th>96</th>\n",
       "      <td>5.0</td>\n",
       "      <td>5.0</td>\n",
       "      <td>4.0</td>\n",
       "      <td>5.0</td>\n",
       "      <td>NaN</td>\n",
       "      <td>5.0</td>\n",
       "      <td>NaN</td>\n",
       "      <td>NaN</td>\n",
       "      <td>5.0</td>\n",
       "      <td>5.0</td>\n",
       "      <td>5.0</td>\n",
       "      <td>NaN</td>\n",
       "    </tr>\n",
       "    <tr>\n",
       "      <th>97</th>\n",
       "      <td>NaN</td>\n",
       "      <td>NaN</td>\n",
       "      <td>5.0</td>\n",
       "      <td>NaN</td>\n",
       "      <td>NaN</td>\n",
       "      <td>NaN</td>\n",
       "      <td>NaN</td>\n",
       "      <td>NaN</td>\n",
       "      <td>NaN</td>\n",
       "      <td>NaN</td>\n",
       "      <td>NaN</td>\n",
       "      <td>5.0</td>\n",
       "    </tr>\n",
       "    <tr>\n",
       "      <th>98</th>\n",
       "      <td>4.5</td>\n",
       "      <td>NaN</td>\n",
       "      <td>NaN</td>\n",
       "      <td>NaN</td>\n",
       "      <td>NaN</td>\n",
       "      <td>NaN</td>\n",
       "      <td>NaN</td>\n",
       "      <td>5.0</td>\n",
       "      <td>NaN</td>\n",
       "      <td>NaN</td>\n",
       "      <td>NaN</td>\n",
       "      <td>4.5</td>\n",
       "    </tr>\n",
       "    <tr>\n",
       "      <th>99</th>\n",
       "      <td>NaN</td>\n",
       "      <td>NaN</td>\n",
       "      <td>NaN</td>\n",
       "      <td>NaN</td>\n",
       "      <td>NaN</td>\n",
       "      <td>5.0</td>\n",
       "      <td>5.0</td>\n",
       "      <td>NaN</td>\n",
       "      <td>NaN</td>\n",
       "      <td>NaN</td>\n",
       "      <td>NaN</td>\n",
       "      <td>NaN</td>\n",
       "    </tr>\n",
       "  </tbody>\n",
       "</table>\n",
       "<p>610 rows × 12 columns</p>\n",
       "</div>"
      ],
      "text/plain": [
       "         Toy Story (1995)  Braveheart (1995)  Matrix, The (1999)  \\\n",
       "user_id                                                            \n",
       "1                     4.0                4.0                 5.0   \n",
       "10                    NaN                NaN                 0.5   \n",
       "100                   NaN                NaN                 NaN   \n",
       "101                   NaN                NaN                 NaN   \n",
       "102                   NaN                NaN                 NaN   \n",
       "...                   ...                ...                 ...   \n",
       "95                    NaN                NaN                 5.0   \n",
       "96                    5.0                5.0                 4.0   \n",
       "97                    NaN                NaN                 5.0   \n",
       "98                    4.5                NaN                 NaN   \n",
       "99                    NaN                NaN                 NaN   \n",
       "\n",
       "         Star Wars: Episode IV - A New Hope (1977)  Fight Club (1999)  \\\n",
       "user_id                                                                 \n",
       "1                                              5.0                5.0   \n",
       "10                                             NaN                0.5   \n",
       "100                                            NaN                NaN   \n",
       "101                                            NaN                5.0   \n",
       "102                                            NaN                NaN   \n",
       "...                                            ...                ...   \n",
       "95                                             5.0                NaN   \n",
       "96                                             5.0                NaN   \n",
       "97                                             NaN                NaN   \n",
       "98                                             NaN                NaN   \n",
       "99                                             NaN                NaN   \n",
       "\n",
       "         Pulp Fiction (1994)  Shawshank Redemption, The (1994)  \\\n",
       "user_id                                                          \n",
       "1                        3.0                               NaN   \n",
       "10                       1.0                               NaN   \n",
       "100                      3.5                               NaN   \n",
       "101                      NaN                               NaN   \n",
       "102                      5.0                               4.0   \n",
       "...                      ...                               ...   \n",
       "95                       NaN                               NaN   \n",
       "96                       5.0                               NaN   \n",
       "97                       NaN                               NaN   \n",
       "98                       NaN                               NaN   \n",
       "99                       5.0                               5.0   \n",
       "\n",
       "         Forrest Gump (1994)  Jurassic Park (1993)  Schindler's List (1993)  \\\n",
       "user_id                                                                       \n",
       "1                        4.0                   4.0                      5.0   \n",
       "10                       3.5                   NaN                      NaN   \n",
       "100                      4.0                   NaN                      NaN   \n",
       "101                      NaN                   NaN                      NaN   \n",
       "102                      5.0                   3.0                      NaN   \n",
       "...                      ...                   ...                      ...   \n",
       "95                       NaN                   3.5                      NaN   \n",
       "96                       NaN                   5.0                      5.0   \n",
       "97                       NaN                   NaN                      NaN   \n",
       "98                       5.0                   NaN                      NaN   \n",
       "99                       NaN                   NaN                      NaN   \n",
       "\n",
       "         Terminator 2: Judgment Day (1991)  Silence of the Lambs, The (1991)  \n",
       "user_id                                                                       \n",
       "1                                      NaN                               4.0  \n",
       "10                                     NaN                               NaN  \n",
       "100                                    NaN                               NaN  \n",
       "101                                    NaN                               NaN  \n",
       "102                                    4.0                               4.0  \n",
       "...                                    ...                               ...  \n",
       "95                                     4.0                               NaN  \n",
       "96                                     5.0                               NaN  \n",
       "97                                     NaN                               5.0  \n",
       "98                                     NaN                               4.5  \n",
       "99                                     NaN                               NaN  \n",
       "\n",
       "[610 rows x 12 columns]"
      ]
     },
     "metadata": {},
     "output_type": "display_data"
    }
   ],
   "source": [
    "# pre-process data \n",
    "data.drop('timestamp',axis=1,inplace=True)\n",
    "data['user_id'] = data['user_id'].astype('str')\n",
    "data['item_id'] = data['item_id'].astype('str')\n",
    "\n",
    "# generate the matrix\n",
    "matrix_df = data.pivot_table(index='user_id',columns='item_id',values='rating')\n",
    "# only keep the popular movies (simplify the dataset)\n",
    "perc = 65.0 # Like N %\n",
    "min_count =  int(((100-perc)/100)*matrix_df.shape[0] + 1)\n",
    "matrix_df = matrix_df.dropna( axis=1, \n",
    "                thresh=min_count)\n",
    "\n",
    "# rename the column header \n",
    "item_list=list(matrix_df.columns)\n",
    "item_name_list=[]\n",
    "for item_id in item_list:\n",
    "  item_name=(item_title[item_title['item_id']==item_id]['title'].values[0])\n",
    "  item_name_list.append(item_name)\n",
    "item_name_list\n",
    "# replace the item_id with movie name\n",
    "matrix_df.set_axis(item_name_list, axis=1,inplace=True)\n",
    "\n",
    "\n",
    "# fill the NaN with 0\n",
    "matrix = matrix_df.fillna(0).values\n",
    "\n",
    "# look into the shape of matrix\n",
    "display(matrix_df)"
   ]
  },
  {
   "cell_type": "markdown",
   "id": "820dc38e",
   "metadata": {
    "id": "mzlXIv8C1ui-",
    "papermill": {
     "duration": 0.007368,
     "end_time": "2022-06-14T13:35:39.924123",
     "exception": false,
     "start_time": "2022-06-14T13:35:39.916755",
     "status": "completed"
    },
    "tags": []
   },
   "source": [
    "# The Latent Factor Model\n",
    "\n",
    "![link text](https://i.ytimg.com/vi/FKOGrTprUXU/maxresdefault.jpg)\n",
    "\n",
    "So, Our Matrix = R , and:\n",
    "\n",
    "* R = m * n Matrix\n",
    "  * m = # of users\n",
    "  * n = # of items\n",
    "\n",
    "* $R=P ⋅ Q^{T} $\n",
    "  * $P = row-wised =dimension(m·r)$ \n",
    "  * $Q^{T} = column-wised =dimension(r·n)$ \n",
    "    * P = dimension(n.r)\n",
    "  * r = num of Latent Factors Chosen\n",
    "\n",
    "* To Avoid Overfitting, we use L2 Regularization \n",
    "  * $λ = regularization factor$\n",
    "\n",
    "\n",
    "* So, The Cost Function = MSE + $λ · L2_{norm}$\n",
    "\n",
    "---\n",
    "\n",
    "## Stochastic Gradient Descent (Minimize the Cost Function)\n",
    "* Optimization = Gradient Descent ($α$ = learning rate) Update $p_u, q_i$ (for $r_{ui}$ ! = 0)\n",
    "  * The Gradient Descent per Iteration (Only Update for Non-Zero Value in Matrix R)\n",
    "  * For each Epoch:\n",
    "    * --- Update $p_u \\leftarrow p_u + α \\cdot [q_i (r_{ui} - p_u \\cdot q_i) - λ\\cdot p_u]$\n",
    "    * --- Update $q_i \\leftarrow q_i + α \\cdot [p_u (r_{ui} - p_u \\cdot q_i) - λ\\cdot q_i]$\n",
    "  * Meaning of $p_u, q_i$:\n",
    "    * $p_u$ = row u of P\n",
    "    * $q_i$ = row i of Q"
   ]
  },
  {
   "cell_type": "markdown",
   "id": "4f85a619",
   "metadata": {
    "id": "xP4v90k3gY7x",
    "papermill": {
     "duration": 0.00693,
     "end_time": "2022-06-14T13:35:39.938160",
     "exception": false,
     "start_time": "2022-06-14T13:35:39.931230",
     "status": "completed"
    },
    "tags": []
   },
   "source": [
    "# Intialize Matrix P, Q"
   ]
  },
  {
   "cell_type": "code",
   "execution_count": 4,
   "id": "96b38b9a",
   "metadata": {
    "execution": {
     "iopub.execute_input": "2022-06-14T13:35:39.955328Z",
     "iopub.status.busy": "2022-06-14T13:35:39.954118Z",
     "iopub.status.idle": "2022-06-14T13:35:39.960473Z",
     "shell.execute_reply": "2022-06-14T13:35:39.959511Z"
    },
    "id": "fhUNtx8IY2vo",
    "papermill": {
     "duration": 0.017392,
     "end_time": "2022-06-14T13:35:39.962729",
     "exception": false,
     "start_time": "2022-06-14T13:35:39.945337",
     "status": "completed"
    },
    "tags": []
   },
   "outputs": [],
   "source": [
    "# extract the non-zero index for matrix\n",
    "## np.nonzero() = Return the indices of the elements that are non-zero.\n",
    "users, items=matrix.nonzero()\n",
    "m, n = matrix.shape\n",
    "\n",
    "# set the hyperparameters\n",
    "X_train=matrix\n",
    "\n",
    "n_latent_features=4\n",
    "# initialize P and Q \n",
    "P = np.random.rand(m,n_latent_features)\n",
    "Q = np.random.rand(n,n_latent_features)"
   ]
  },
  {
   "cell_type": "code",
   "execution_count": 5,
   "id": "8cf29f8c",
   "metadata": {
    "execution": {
     "iopub.execute_input": "2022-06-14T13:35:39.979531Z",
     "iopub.status.busy": "2022-06-14T13:35:39.979126Z",
     "iopub.status.idle": "2022-06-14T13:35:39.984172Z",
     "shell.execute_reply": "2022-06-14T13:35:39.983171Z"
    },
    "papermill": {
     "duration": 0.017252,
     "end_time": "2022-06-14T13:35:39.987835",
     "exception": false,
     "start_time": "2022-06-14T13:35:39.970583",
     "status": "completed"
    },
    "tags": []
   },
   "outputs": [
    {
     "name": "stdout",
     "output_type": "stream",
     "text": [
      "(610, 4)\n",
      "(12, 4)\n"
     ]
    }
   ],
   "source": [
    "# look into the shape of P and Q\n",
    "print(P.shape)\n",
    "print(Q.shape)"
   ]
  },
  {
   "cell_type": "markdown",
   "id": "d3870cad",
   "metadata": {
    "id": "gIsdnz3chBdi",
    "papermill": {
     "duration": 0.007247,
     "end_time": "2022-06-14T13:35:40.002484",
     "exception": false,
     "start_time": "2022-06-14T13:35:39.995237",
     "status": "completed"
    },
    "tags": []
   },
   "source": [
    "## Stochastic Gradient Descent (Minimize the Cost Function)\n",
    "  * The Gradient Descent per Iteration (Only Update for Non-Zero Value in Matrix R)\n",
    "  * For each Epoch:\n",
    "    * --- Update $p_u \\leftarrow p_u + α \\cdot [q_i (r_{ui} - p_u \\cdot q_i) - λ\\cdot p_u]$\n",
    "    * --- Update $q_i \\leftarrow q_i + α \\cdot [p_u (r_{ui} - p_u \\cdot q_i) - λ\\cdot q_i]$\n",
    "  * Meaning of $p_u, q_i$:\n",
    "    * $p_u$ = row u of P\n",
    "    * $q_i$ = row i of Q"
   ]
  },
  {
   "cell_type": "markdown",
   "id": "98c6fe49",
   "metadata": {
    "id": "o3ZierLWhOW7",
    "papermill": {
     "duration": 0.00756,
     "end_time": "2022-06-14T13:35:40.017768",
     "exception": false,
     "start_time": "2022-06-14T13:35:40.010208",
     "status": "completed"
    },
    "tags": []
   },
   "source": [
    "## The MSE"
   ]
  },
  {
   "cell_type": "code",
   "execution_count": 6,
   "id": "fb461485",
   "metadata": {
    "execution": {
     "iopub.execute_input": "2022-06-14T13:35:40.034303Z",
     "iopub.status.busy": "2022-06-14T13:35:40.033859Z",
     "iopub.status.idle": "2022-06-14T13:35:40.039601Z",
     "shell.execute_reply": "2022-06-14T13:35:40.038836Z"
    },
    "id": "XYAA8VKNXng2",
    "papermill": {
     "duration": 0.01634,
     "end_time": "2022-06-14T13:35:40.041670",
     "exception": false,
     "start_time": "2022-06-14T13:35:40.025330",
     "status": "completed"
    },
    "tags": []
   },
   "outputs": [],
   "source": [
    "# func for predictions\n",
    "def predictions(P, Q):\n",
    "    return P@Q.T\n",
    "\n",
    "# func to calculate the rmse\n",
    "def mse(prediction, ground_truth):\n",
    "    prediction = prediction[ground_truth.nonzero()].flatten() \n",
    "    ground_truth = ground_truth[ground_truth.nonzero()].flatten()\n",
    "    return mean_squared_error(prediction, ground_truth)\n"
   ]
  },
  {
   "cell_type": "markdown",
   "id": "e5732cb5",
   "metadata": {
    "id": "8TVMyzNmZKk4",
    "papermill": {
     "duration": 0.007178,
     "end_time": "2022-06-14T13:35:40.056042",
     "exception": false,
     "start_time": "2022-06-14T13:35:40.048864",
     "status": "completed"
    },
    "tags": []
   },
   "source": [
    "\n",
    "## The Gradient Descent per Iteration (Only Update for Non-Zero Value in Matrix R)\n",
    "### For each Epoch:\n",
    "\n",
    "### --- Update $p_u$\n",
    "  * $p_u \\leftarrow p_u + α \\cdot [q_i (r_{ui} - p_u \\cdot q_i) - λ\\cdot p_u]$\n",
    "\n",
    "### --- Update $q_i$\n",
    "  * $q_i \\leftarrow q_i + α \\cdot [p_u (r_{ui} - p_u \\cdot q_i) - λ\\cdot q_i]$"
   ]
  },
  {
   "cell_type": "code",
   "execution_count": 7,
   "id": "0cf2788f",
   "metadata": {
    "execution": {
     "iopub.execute_input": "2022-06-14T13:35:40.072463Z",
     "iopub.status.busy": "2022-06-14T13:35:40.071773Z",
     "iopub.status.idle": "2022-06-14T13:35:40.079853Z",
     "shell.execute_reply": "2022-06-14T13:35:40.079050Z"
    },
    "id": "fURexqdIYbcm",
    "papermill": {
     "duration": 0.018678,
     "end_time": "2022-06-14T13:35:40.082107",
     "exception": false,
     "start_time": "2022-06-14T13:35:40.063429",
     "status": "completed"
    },
    "tags": []
   },
   "outputs": [],
   "source": [
    "# Run the Grad Des for P,Q Updating\n",
    "def grad_des_train(n_epochs,lmbda,learning_rate):\n",
    "  train_error = []\n",
    "  for epoch in range(n_epochs):\n",
    "    for u, i in zip(users, items):\n",
    "        error = X_train[u, i] - np.dot(P[u, :], Q[i, :])\n",
    "        P[u, :] = P[u, :] + learning_rate * (error * Q[i, :] - lmbda * P[u, :])\n",
    "        Q[i, :] = Q[i, :] + learning_rate * (error * P[u, :] - lmbda * Q[i, :] )\n",
    "\n",
    "    train_mse = mse(predictions(P,Q), X_train)\n",
    "    train_error.append(train_mse)\n",
    "  return P,Q,train_error"
   ]
  },
  {
   "cell_type": "code",
   "execution_count": 8,
   "id": "8d73f880",
   "metadata": {
    "execution": {
     "iopub.execute_input": "2022-06-14T13:35:40.097973Z",
     "iopub.status.busy": "2022-06-14T13:35:40.097311Z",
     "iopub.status.idle": "2022-06-14T13:35:46.908549Z",
     "shell.execute_reply": "2022-06-14T13:35:46.907828Z"
    },
    "id": "gyJYKu2AZvPp",
    "papermill": {
     "duration": 6.821763,
     "end_time": "2022-06-14T13:35:46.910832",
     "exception": false,
     "start_time": "2022-06-14T13:35:40.089069",
     "status": "completed"
    },
    "tags": []
   },
   "outputs": [],
   "source": [
    "# Run the Stochastic Gradient Descent\n",
    "P,Q,train_error=grad_des_train(n_epochs=100,lmbda=0.1,learning_rate=0.005)"
   ]
  },
  {
   "cell_type": "markdown",
   "id": "f385024f",
   "metadata": {
    "id": "Qw1zRzrIhcDv",
    "papermill": {
     "duration": 0.006752,
     "end_time": "2022-06-14T13:35:46.924572",
     "exception": false,
     "start_time": "2022-06-14T13:35:46.917820",
     "status": "completed"
    },
    "tags": []
   },
   "source": [
    "# Plot the Error - Epoch Graph"
   ]
  },
  {
   "cell_type": "code",
   "execution_count": 9,
   "id": "439ced83",
   "metadata": {
    "execution": {
     "iopub.execute_input": "2022-06-14T13:35:46.940772Z",
     "iopub.status.busy": "2022-06-14T13:35:46.940233Z",
     "iopub.status.idle": "2022-06-14T13:35:47.186704Z",
     "shell.execute_reply": "2022-06-14T13:35:47.185728Z"
    },
    "id": "loQrl2OHZ4Ng",
    "outputId": "fbdfc8e9-74cf-4b70-824e-2546720fd3c5",
    "papermill": {
     "duration": 0.257181,
     "end_time": "2022-06-14T13:35:47.189039",
     "exception": false,
     "start_time": "2022-06-14T13:35:46.931858",
     "status": "completed"
    },
    "tags": []
   },
   "outputs": [
    {
     "name": "stderr",
     "output_type": "stream",
     "text": [
      "/opt/conda/lib/python3.7/site-packages/seaborn/_decorators.py:43: FutureWarning: Pass the following variables as keyword args: x, y. From version 0.12, the only valid positional argument will be `data`, and passing other arguments without an explicit keyword will result in an error or misinterpretation.\n",
      "  FutureWarning\n"
     ]
    },
    {
     "name": "stdout",
     "output_type": "stream",
     "text": [
      "The Final MSE = 0.4356296421879666\n"
     ]
    },
    {
     "data": {
      "image/png": "[encoded data removed]",
      "text/plain": [
       "<Figure size 504x288 with 1 Axes>"
      ]
     },
     "metadata": {
      "needs_background": "light"
     },
     "output_type": "display_data"
    }
   ],
   "source": [
    "# plot the rmse vs epoch\n",
    "def plot_rmse_epoch(): \n",
    "  x=range(len(train_error))\n",
    "  y=train_error\n",
    "  # graph\n",
    "  fig,ax1=plt.subplots(1,1,figsize=(7,4))\n",
    "  sns.scatterplot(x,y,ax=ax1)\n",
    "  ax1.set_title('MSE - Epochs plot')\n",
    "  ax1.set(xlabel='Epochs',ylabel='MSE')\n",
    "\n",
    "  # the final mse\n",
    "  final_mse=min(train_error)\n",
    "  print(f'The Final MSE = {final_mse}')\n",
    "  return final_mse\n",
    "\n",
    "# plot\n",
    "final_mse=plot_rmse_epoch()"
   ]
  },
  {
   "cell_type": "markdown",
   "id": "53e8012e",
   "metadata": {
    "id": "6GPksiGDffFZ",
    "papermill": {
     "duration": 0.00752,
     "end_time": "2022-06-14T13:35:47.207013",
     "exception": false,
     "start_time": "2022-06-14T13:35:47.199493",
     "status": "completed"
    },
    "tags": []
   },
   "source": [
    "# The Prediction Result - The Completed Matrix"
   ]
  },
  {
   "cell_type": "code",
   "execution_count": 10,
   "id": "b842ba90",
   "metadata": {
    "execution": {
     "iopub.execute_input": "2022-06-14T13:35:47.225282Z",
     "iopub.status.busy": "2022-06-14T13:35:47.224828Z",
     "iopub.status.idle": "2022-06-14T13:35:47.232826Z",
     "shell.execute_reply": "2022-06-14T13:35:47.232003Z"
    },
    "id": "6GyKbyzraIxq",
    "papermill": {
     "duration": 0.020249,
     "end_time": "2022-06-14T13:35:47.235281",
     "exception": false,
     "start_time": "2022-06-14T13:35:47.215032",
     "status": "completed"
    },
    "tags": []
   },
   "outputs": [],
   "source": [
    "# display the prediction matrix result\n",
    "def pred_result():\n",
    "  prediction_matrix=predictions(P,Q)\n",
    "  prediction_matrix_df=matrix_df.copy()\n",
    "  prediction_matrix_df[:]=prediction_matrix\n",
    "  # combine the prediction and original matrix (replace the prediction rate with some existing rate )\n",
    "  for row,col in zip(users, items):\n",
    "    prediction_matrix_df.iloc[row,col]=matrix[row,col]\n",
    "  return prediction_matrix_df"
   ]
  },
  {
   "cell_type": "code",
   "execution_count": 11,
   "id": "150f7038",
   "metadata": {
    "execution": {
     "iopub.execute_input": "2022-06-14T13:35:47.256733Z",
     "iopub.status.busy": "2022-06-14T13:35:47.255582Z",
     "iopub.status.idle": "2022-06-14T13:35:47.546451Z",
     "shell.execute_reply": "2022-06-14T13:35:47.545480Z"
    },
    "id": "UWST0zHPakGD",
    "outputId": "40262aab-e6de-469a-ce63-8aeb46802fcf",
    "papermill": {
     "duration": 0.303307,
     "end_time": "2022-06-14T13:35:47.549735",
     "exception": false,
     "start_time": "2022-06-14T13:35:47.246428",
     "status": "completed"
    },
    "tags": []
   },
   "outputs": [
    {
     "data": {
      "text/html": [
       "<div>\n",
       "<style scoped>\n",
       "    .dataframe tbody tr th:only-of-type {\n",
       "        vertical-align: middle;\n",
       "    }\n",
       "\n",
       "    .dataframe tbody tr th {\n",
       "        vertical-align: top;\n",
       "    }\n",
       "\n",
       "    .dataframe thead th {\n",
       "        text-align: right;\n",
       "    }\n",
       "</style>\n",
       "<table border=\"1\" class=\"dataframe\">\n",
       "  <thead>\n",
       "    <tr style=\"text-align: right;\">\n",
       "      <th></th>\n",
       "      <th>Toy Story (1995)</th>\n",
       "      <th>Braveheart (1995)</th>\n",
       "      <th>Matrix, The (1999)</th>\n",
       "      <th>Star Wars: Episode IV - A New Hope (1977)</th>\n",
       "      <th>Fight Club (1999)</th>\n",
       "      <th>Pulp Fiction (1994)</th>\n",
       "      <th>Shawshank Redemption, The (1994)</th>\n",
       "      <th>Forrest Gump (1994)</th>\n",
       "      <th>Jurassic Park (1993)</th>\n",
       "      <th>Schindler's List (1993)</th>\n",
       "      <th>Terminator 2: Judgment Day (1991)</th>\n",
       "      <th>Silence of the Lambs, The (1991)</th>\n",
       "    </tr>\n",
       "    <tr>\n",
       "      <th>user_id</th>\n",
       "      <th></th>\n",
       "      <th></th>\n",
       "      <th></th>\n",
       "      <th></th>\n",
       "      <th></th>\n",
       "      <th></th>\n",
       "      <th></th>\n",
       "      <th></th>\n",
       "      <th></th>\n",
       "      <th></th>\n",
       "      <th></th>\n",
       "      <th></th>\n",
       "    </tr>\n",
       "  </thead>\n",
       "  <tbody>\n",
       "    <tr>\n",
       "      <th>1</th>\n",
       "      <td>4.000000</td>\n",
       "      <td>4.000000</td>\n",
       "      <td>5.000000</td>\n",
       "      <td>5.000000</td>\n",
       "      <td>5.000000</td>\n",
       "      <td>3.000000</td>\n",
       "      <td>4.342166</td>\n",
       "      <td>4.000000</td>\n",
       "      <td>4.000000</td>\n",
       "      <td>5.000000</td>\n",
       "      <td>4.100341</td>\n",
       "      <td>4.000000</td>\n",
       "    </tr>\n",
       "    <tr>\n",
       "      <th>10</th>\n",
       "      <td>1.006832</td>\n",
       "      <td>1.696566</td>\n",
       "      <td>0.500000</td>\n",
       "      <td>1.200660</td>\n",
       "      <td>0.500000</td>\n",
       "      <td>1.000000</td>\n",
       "      <td>1.395424</td>\n",
       "      <td>3.500000</td>\n",
       "      <td>1.445610</td>\n",
       "      <td>1.528791</td>\n",
       "      <td>1.499069</td>\n",
       "      <td>1.227528</td>\n",
       "    </tr>\n",
       "    <tr>\n",
       "      <th>100</th>\n",
       "      <td>3.243694</td>\n",
       "      <td>3.583613</td>\n",
       "      <td>3.671927</td>\n",
       "      <td>3.699505</td>\n",
       "      <td>3.715648</td>\n",
       "      <td>3.500000</td>\n",
       "      <td>3.801016</td>\n",
       "      <td>4.000000</td>\n",
       "      <td>3.326079</td>\n",
       "      <td>3.676825</td>\n",
       "      <td>3.480213</td>\n",
       "      <td>3.664013</td>\n",
       "    </tr>\n",
       "    <tr>\n",
       "      <th>101</th>\n",
       "      <td>4.194079</td>\n",
       "      <td>4.210485</td>\n",
       "      <td>4.532715</td>\n",
       "      <td>4.705753</td>\n",
       "      <td>5.000000</td>\n",
       "      <td>4.521948</td>\n",
       "      <td>4.689284</td>\n",
       "      <td>4.273309</td>\n",
       "      <td>4.043869</td>\n",
       "      <td>4.436627</td>\n",
       "      <td>4.226420</td>\n",
       "      <td>4.615821</td>\n",
       "    </tr>\n",
       "    <tr>\n",
       "      <th>102</th>\n",
       "      <td>3.662883</td>\n",
       "      <td>3.933885</td>\n",
       "      <td>4.281477</td>\n",
       "      <td>4.207747</td>\n",
       "      <td>4.365928</td>\n",
       "      <td>5.000000</td>\n",
       "      <td>4.000000</td>\n",
       "      <td>5.000000</td>\n",
       "      <td>3.000000</td>\n",
       "      <td>4.241009</td>\n",
       "      <td>4.000000</td>\n",
       "      <td>4.000000</td>\n",
       "    </tr>\n",
       "    <tr>\n",
       "      <th>...</th>\n",
       "      <td>...</td>\n",
       "      <td>...</td>\n",
       "      <td>...</td>\n",
       "      <td>...</td>\n",
       "      <td>...</td>\n",
       "      <td>...</td>\n",
       "      <td>...</td>\n",
       "      <td>...</td>\n",
       "      <td>...</td>\n",
       "      <td>...</td>\n",
       "      <td>...</td>\n",
       "      <td>...</td>\n",
       "    </tr>\n",
       "    <tr>\n",
       "      <th>95</th>\n",
       "      <td>4.037001</td>\n",
       "      <td>4.147769</td>\n",
       "      <td>5.000000</td>\n",
       "      <td>5.000000</td>\n",
       "      <td>4.512174</td>\n",
       "      <td>4.450404</td>\n",
       "      <td>4.490177</td>\n",
       "      <td>4.177834</td>\n",
       "      <td>3.500000</td>\n",
       "      <td>4.460116</td>\n",
       "      <td>4.000000</td>\n",
       "      <td>4.345358</td>\n",
       "    </tr>\n",
       "    <tr>\n",
       "      <th>96</th>\n",
       "      <td>5.000000</td>\n",
       "      <td>5.000000</td>\n",
       "      <td>4.000000</td>\n",
       "      <td>5.000000</td>\n",
       "      <td>4.927881</td>\n",
       "      <td>5.000000</td>\n",
       "      <td>5.172830</td>\n",
       "      <td>4.816222</td>\n",
       "      <td>5.000000</td>\n",
       "      <td>5.000000</td>\n",
       "      <td>5.000000</td>\n",
       "      <td>5.045808</td>\n",
       "    </tr>\n",
       "    <tr>\n",
       "      <th>97</th>\n",
       "      <td>4.180261</td>\n",
       "      <td>4.402660</td>\n",
       "      <td>5.000000</td>\n",
       "      <td>4.788417</td>\n",
       "      <td>4.927714</td>\n",
       "      <td>4.983075</td>\n",
       "      <td>4.941538</td>\n",
       "      <td>4.464230</td>\n",
       "      <td>4.014737</td>\n",
       "      <td>4.758215</td>\n",
       "      <td>4.244207</td>\n",
       "      <td>5.000000</td>\n",
       "    </tr>\n",
       "    <tr>\n",
       "      <th>98</th>\n",
       "      <td>4.500000</td>\n",
       "      <td>4.403008</td>\n",
       "      <td>4.776655</td>\n",
       "      <td>4.769071</td>\n",
       "      <td>4.817762</td>\n",
       "      <td>4.757262</td>\n",
       "      <td>4.773642</td>\n",
       "      <td>5.000000</td>\n",
       "      <td>4.201357</td>\n",
       "      <td>4.765792</td>\n",
       "      <td>4.392199</td>\n",
       "      <td>4.500000</td>\n",
       "    </tr>\n",
       "    <tr>\n",
       "      <th>99</th>\n",
       "      <td>4.564880</td>\n",
       "      <td>4.535320</td>\n",
       "      <td>4.768105</td>\n",
       "      <td>5.027070</td>\n",
       "      <td>4.814693</td>\n",
       "      <td>5.000000</td>\n",
       "      <td>5.000000</td>\n",
       "      <td>4.573581</td>\n",
       "      <td>4.475185</td>\n",
       "      <td>4.696132</td>\n",
       "      <td>4.641786</td>\n",
       "      <td>4.887921</td>\n",
       "    </tr>\n",
       "  </tbody>\n",
       "</table>\n",
       "<p>610 rows × 12 columns</p>\n",
       "</div>"
      ],
      "text/plain": [
       "         Toy Story (1995)  Braveheart (1995)  Matrix, The (1999)  \\\n",
       "user_id                                                            \n",
       "1                4.000000           4.000000            5.000000   \n",
       "10               1.006832           1.696566            0.500000   \n",
       "100              3.243694           3.583613            3.671927   \n",
       "101              4.194079           4.210485            4.532715   \n",
       "102              3.662883           3.933885            4.281477   \n",
       "...                   ...                ...                 ...   \n",
       "95               4.037001           4.147769            5.000000   \n",
       "96               5.000000           5.000000            4.000000   \n",
       "97               4.180261           4.402660            5.000000   \n",
       "98               4.500000           4.403008            4.776655   \n",
       "99               4.564880           4.535320            4.768105   \n",
       "\n",
       "         Star Wars: Episode IV - A New Hope (1977)  Fight Club (1999)  \\\n",
       "user_id                                                                 \n",
       "1                                         5.000000           5.000000   \n",
       "10                                        1.200660           0.500000   \n",
       "100                                       3.699505           3.715648   \n",
       "101                                       4.705753           5.000000   \n",
       "102                                       4.207747           4.365928   \n",
       "...                                            ...                ...   \n",
       "95                                        5.000000           4.512174   \n",
       "96                                        5.000000           4.927881   \n",
       "97                                        4.788417           4.927714   \n",
       "98                                        4.769071           4.817762   \n",
       "99                                        5.027070           4.814693   \n",
       "\n",
       "         Pulp Fiction (1994)  Shawshank Redemption, The (1994)  \\\n",
       "user_id                                                          \n",
       "1                   3.000000                          4.342166   \n",
       "10                  1.000000                          1.395424   \n",
       "100                 3.500000                          3.801016   \n",
       "101                 4.521948                          4.689284   \n",
       "102                 5.000000                          4.000000   \n",
       "...                      ...                               ...   \n",
       "95                  4.450404                          4.490177   \n",
       "96                  5.000000                          5.172830   \n",
       "97                  4.983075                          4.941538   \n",
       "98                  4.757262                          4.773642   \n",
       "99                  5.000000                          5.000000   \n",
       "\n",
       "         Forrest Gump (1994)  Jurassic Park (1993)  Schindler's List (1993)  \\\n",
       "user_id                                                                       \n",
       "1                   4.000000              4.000000                 5.000000   \n",
       "10                  3.500000              1.445610                 1.528791   \n",
       "100                 4.000000              3.326079                 3.676825   \n",
       "101                 4.273309              4.043869                 4.436627   \n",
       "102                 5.000000              3.000000                 4.241009   \n",
       "...                      ...                   ...                      ...   \n",
       "95                  4.177834              3.500000                 4.460116   \n",
       "96                  4.816222              5.000000                 5.000000   \n",
       "97                  4.464230              4.014737                 4.758215   \n",
       "98                  5.000000              4.201357                 4.765792   \n",
       "99                  4.573581              4.475185                 4.696132   \n",
       "\n",
       "         Terminator 2: Judgment Day (1991)  Silence of the Lambs, The (1991)  \n",
       "user_id                                                                       \n",
       "1                                 4.100341                          4.000000  \n",
       "10                                1.499069                          1.227528  \n",
       "100                               3.480213                          3.664013  \n",
       "101                               4.226420                          4.615821  \n",
       "102                               4.000000                          4.000000  \n",
       "...                                    ...                               ...  \n",
       "95                                4.000000                          4.345358  \n",
       "96                                5.000000                          5.045808  \n",
       "97                                4.244207                          5.000000  \n",
       "98                                4.392199                          4.500000  \n",
       "99                                4.641786                          4.887921  \n",
       "\n",
       "[610 rows x 12 columns]"
      ]
     },
     "execution_count": 11,
     "metadata": {},
     "output_type": "execute_result"
    }
   ],
   "source": [
    "# The Prediction matrix result\n",
    "prediction_matrix_df=pred_result()\n",
    "prediction_matrix_df"
   ]
  },
  {
   "cell_type": "markdown",
   "id": "1bf0b6fd",
   "metadata": {
    "id": "qePSYuLsfky4",
    "papermill": {
     "duration": 0.010363,
     "end_time": "2022-06-14T13:35:47.572158",
     "exception": false,
     "start_time": "2022-06-14T13:35:47.561795",
     "status": "completed"
    },
    "tags": []
   },
   "source": [
    "# For Specific User_id, Generate Movie Rate Prediction"
   ]
  },
  {
   "cell_type": "code",
   "execution_count": 12,
   "id": "15b3ad22",
   "metadata": {
    "execution": {
     "iopub.execute_input": "2022-06-14T13:35:47.590364Z",
     "iopub.status.busy": "2022-06-14T13:35:47.589119Z",
     "iopub.status.idle": "2022-06-14T13:35:47.875751Z",
     "shell.execute_reply": "2022-06-14T13:35:47.872645Z"
    },
    "id": "VbHKfHY_bdxT",
    "outputId": "a838249d-1c6e-478c-a294-74f4943ffde4",
    "papermill": {
     "duration": 0.298438,
     "end_time": "2022-06-14T13:35:47.878686",
     "exception": false,
     "start_time": "2022-06-14T13:35:47.580248",
     "status": "completed"
    },
    "tags": []
   },
   "outputs": [
    {
     "data": {
      "image/png": "[encoded data removed]",
      "text/plain": [
       "<Figure size 360x720 with 1 Axes>"
      ]
     },
     "metadata": {
      "needs_background": "light"
     },
     "output_type": "display_data"
    }
   ],
   "source": [
    "# input = user_id, output =  Recommend Movie\n",
    "def recommend_by_user(user_id):\n",
    "  user_rate=prediction_matrix_df.iloc[user_id,:].to_frame(name='rate')\n",
    "  user_rate['movie'] = user_rate.index\n",
    "  user_rate.sort_values(by=['rate'],ascending=False,inplace=True)\n",
    "  user_rate.reset_index(drop=True,inplace=True)\n",
    "  # plot\n",
    "  fig,ax1=plt.subplots(1,1,figsize=(5,10))\n",
    "  sns.barplot(data=user_rate,y='movie',x='rate',palette=\"rocket\",ax=ax1)\n",
    "  ax1.set_title(f'User ID = {user_id}, Movie Recommendation')\n",
    "  return user_rate\n",
    "\n",
    "# run the func\n",
    "user_rate=recommend_by_user(user_id=300)"
   ]
  }
 ],
 "metadata": {
  "kernelspec": {
   "display_name": "Python 3",
   "language": "python",
   "name": "python3"
  },
  "language_info": {
   "codemirror_mode": {
    "name": "ipython",
    "version": 3
   },
   "file_extension": ".py",
   "mimetype": "text/x-python",
   "name": "python",
   "nbconvert_exporter": "python",
   "pygments_lexer": "ipython3",
   "version": "3.7.12"
  },
  "papermill": {
   "default_parameters": {},
   "duration": 20.657114,
   "end_time": "2022-06-14T13:35:48.614934",
   "environment_variables": {},
   "exception": null,
   "input_path": "__notebook__.ipynb",
   "output_path": "__notebook__.ipynb",
   "parameters": {},
   "start_time": "2022-06-14T13:35:27.957820",
   "version": "2.3.4"
  }
 },
 "nbformat": 4,
 "nbformat_minor": 5
}
