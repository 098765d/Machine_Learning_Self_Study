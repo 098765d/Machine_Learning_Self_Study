{
 "cells": [
  {
   "cell_type": "markdown",
   "id": "fb61d183",
   "metadata": {
    "id": "f8b4054d",
    "papermill": {
     "duration": 0.032947,
     "end_time": "2022-05-27T10:08:28.623736",
     "exception": false,
     "start_time": "2022-05-27T10:08:28.590789",
     "status": "completed"
    },
    "tags": []
   },
   "source": [
    "# Coordinate Descent Inplementation for LASSO & Normal Regression\n",
    "\n",
    "Reference:\n",
    "* https://www.kaggle.com/code/mcweng24/lasso-regression-using-numpy/notebook\n",
    "* https://xavierbourretsicotte.github.io/lasso_derivation.html\n",
    "\n",
    "\n",
    "\n",
    "### The Content\n",
    "*   Load Dataset\n",
    "*   Initialize Parameters\n",
    "  * Lasso Cost Function and Partial Derivatives\n",
    "*   Coordinate Descent Algorithm\n",
    "*   Coordinate Descent for --- LASSO\n",
    "*   Coordinate Descent for --- OLS\n",
    "*   How our Coordinate LASSO & OLS Performed Compare to Sklearn Package\n",
    "\n",
    "\n",
    "\n",
    "\n"
   ]
  },
  {
   "cell_type": "code",
   "execution_count": 1,
   "id": "87b132ad",
   "metadata": {
    "execution": {
     "iopub.execute_input": "2022-05-27T10:08:28.688282Z",
     "iopub.status.busy": "2022-05-27T10:08:28.687473Z",
     "iopub.status.idle": "2022-05-27T10:08:30.100150Z",
     "shell.execute_reply": "2022-05-27T10:08:30.098963Z"
    },
    "id": "94fa65f2",
    "papermill": {
     "duration": 1.44802,
     "end_time": "2022-05-27T10:08:30.102854",
     "exception": false,
     "start_time": "2022-05-27T10:08:28.654834",
     "status": "completed"
    },
    "tags": []
   },
   "outputs": [],
   "source": [
    "import numpy as np\n",
    "import pandas as pd\n",
    "import seaborn as sns\n",
    "import matplotlib.pyplot as plt\n",
    "from sklearn.metrics import mean_squared_error\n",
    "from numpy import linalg as LA\n",
    "import warnings\n",
    "warnings.filterwarnings('ignore')"
   ]
  },
  {
   "cell_type": "markdown",
   "id": "2eb05693",
   "metadata": {
    "id": "d48120a7",
    "papermill": {
     "duration": 0.030628,
     "end_time": "2022-05-27T10:08:30.165008",
     "exception": false,
     "start_time": "2022-05-27T10:08:30.134380",
     "status": "completed"
    },
    "tags": []
   },
   "source": [
    "# Load Dataset (Boston)"
   ]
  },
  {
   "cell_type": "code",
   "execution_count": 2,
   "id": "625e508a",
   "metadata": {
    "execution": {
     "iopub.execute_input": "2022-05-27T10:08:30.229273Z",
     "iopub.status.busy": "2022-05-27T10:08:30.228734Z",
     "iopub.status.idle": "2022-05-27T10:08:30.324852Z",
     "shell.execute_reply": "2022-05-27T10:08:30.323883Z"
    },
    "id": "18975d8c",
    "papermill": {
     "duration": 0.130967,
     "end_time": "2022-05-27T10:08:30.327399",
     "exception": false,
     "start_time": "2022-05-27T10:08:30.196432",
     "status": "completed"
    },
    "tags": []
   },
   "outputs": [],
   "source": [
    "from sklearn.datasets import load_boston\n",
    "X, y = load_boston(return_X_y=True)"
   ]
  },
  {
   "cell_type": "code",
   "execution_count": 3,
   "id": "25b2cccb",
   "metadata": {
    "execution": {
     "iopub.execute_input": "2022-05-27T10:08:30.391927Z",
     "iopub.status.busy": "2022-05-27T10:08:30.391578Z",
     "iopub.status.idle": "2022-05-27T10:08:30.409171Z",
     "shell.execute_reply": "2022-05-27T10:08:30.408329Z"
    },
    "id": "3f64ff3c",
    "papermill": {
     "duration": 0.052876,
     "end_time": "2022-05-27T10:08:30.411581",
     "exception": false,
     "start_time": "2022-05-27T10:08:30.358705",
     "status": "completed"
    },
    "tags": []
   },
   "outputs": [],
   "source": [
    "# train test split\n",
    "from sklearn.model_selection import train_test_split\n",
    "X_train, X_test, y_train, y_test = train_test_split(X, y, test_size=0.33, random_state=42)"
   ]
  },
  {
   "cell_type": "code",
   "execution_count": 4,
   "id": "d32f2225",
   "metadata": {
    "execution": {
     "iopub.execute_input": "2022-05-27T10:08:30.478169Z",
     "iopub.status.busy": "2022-05-27T10:08:30.477873Z",
     "iopub.status.idle": "2022-05-27T10:08:30.486195Z",
     "shell.execute_reply": "2022-05-27T10:08:30.485496Z"
    },
    "id": "33acc486",
    "papermill": {
     "duration": 0.045081,
     "end_time": "2022-05-27T10:08:30.488198",
     "exception": false,
     "start_time": "2022-05-27T10:08:30.443117",
     "status": "completed"
    },
    "tags": []
   },
   "outputs": [],
   "source": [
    "# standard sclaer\n",
    "from sklearn.preprocessing import StandardScaler\n",
    "def std_scaler(X_train,X_test):\n",
    "  scaler = StandardScaler()\n",
    "  scaler.fit(X_train)\n",
    "  X_train_scale=scaler.transform(X_train)\n",
    "  X_test_scale=scaler.transform(X_test)\n",
    "  # add a column of 1 for X\n",
    "  X_train_scale=np.append(np.ones(shape=(X_train.shape[0],1)),X_train_scale,axis=1)\n",
    "  X_test_scale=np.append(np.ones(shape=(X_test.shape[0],1)),X_test_scale,axis=1)\n",
    "  return X_train_scale, X_test_scale\n",
    "\n",
    "X_train,X_test=std_scaler(X_train,X_test)"
   ]
  },
  {
   "cell_type": "markdown",
   "id": "08194c9f",
   "metadata": {
    "id": "64f93a19",
    "papermill": {
     "duration": 0.030481,
     "end_time": "2022-05-27T10:08:30.550326",
     "exception": false,
     "start_time": "2022-05-27T10:08:30.519845",
     "status": "completed"
    },
    "tags": []
   },
   "source": [
    "# Initialize Parameters"
   ]
  },
  {
   "cell_type": "code",
   "execution_count": 5,
   "id": "8a412e75",
   "metadata": {
    "execution": {
     "iopub.execute_input": "2022-05-27T10:08:30.613669Z",
     "iopub.status.busy": "2022-05-27T10:08:30.613386Z",
     "iopub.status.idle": "2022-05-27T10:08:30.617829Z",
     "shell.execute_reply": "2022-05-27T10:08:30.616944Z"
    },
    "id": "7d6c972e",
    "papermill": {
     "duration": 0.038418,
     "end_time": "2022-05-27T10:08:30.619662",
     "exception": false,
     "start_time": "2022-05-27T10:08:30.581244",
     "status": "completed"
    },
    "tags": []
   },
   "outputs": [],
   "source": [
    " # Set hyperparameters\n",
    "alpha = 0.2\n",
    "iterations = 100\n",
    "tolerance = 0.00001\n",
    "\n",
    "# Initialize Theta Values to 0\n",
    "w= np.zeros(X_train.shape[1],dtype=float)\n"
   ]
  },
  {
   "cell_type": "markdown",
   "id": "cbdf723d",
   "metadata": {
    "id": "59f6bd37",
    "papermill": {
     "duration": 0.031518,
     "end_time": "2022-05-27T10:08:30.682447",
     "exception": false,
     "start_time": "2022-05-27T10:08:30.650929",
     "status": "completed"
    },
    "tags": []
   },
   "source": [
    "## The LASSO Cost Funnction and it's Partial Derivatives\n",
    "\n",
    "$$ L(w) = \\frac{1}{2N}\\left(\\sum_{i=1}^n (y^{(i)} - \\tilde{w} \\cdot \\tilde{x}^{(i)})^2\\right) + α\\left(\\sum_{j=1}^d |w_j|\\right)= MSE + α * norm |w|$$\n",
    "\n",
    "\n",
    "* **So, To Minimize the L(w),find the Partial Derivative 𝜕L(w)/𝜕 w Separately**\n",
    "\n",
    "$$ \\frac{𝜕L(w)}{𝜕w_j} = 𝜕 MSE  /  𝜕 w_j  +  𝜕 (α * norm |w| )  /  𝜕 w_j  $$\n",
    "\n",
    "* **First , 𝜕 MSE  /  𝜕 w_j**\n",
    "\n",
    "$$ \\frac{𝜕 MSE}{𝜕w_j} = \\frac{1}{N}\\left(\\sum_{i=1}^n (-\\tilde{x}^{(i)}_j)(y^{(i)} - \\left(\\sum_{k≠j}^n \\tilde{w}_k \\cdot \\tilde{x}^{(i)}_k\\right)) \\right) + \\frac{1}{N}\\tilde{w}_j\\left(\\sum_{i=1}^n \\tilde{x}^{(i)}_j \\right)^2 = \\frac{-1}{N}ρ_j + \\frac{1}{N}\\tilde{w}_jz_j    $$\n",
    "\n",
    "        * Where , ρ_j, z_j defined for simplfying the equation\n",
    "    \n",
    "$$ ρ_j = \\left(\\sum_{i=1}^n (\\tilde{x}^{(i)}_j)(y^{(i)} - \\left(\\sum_{k≠j}^n \\tilde{w}_k \\cdot \\tilde{x}^{(i)}_k\\right)) \\right)$$\n",
    "\n",
    "$$ z_j = \\left(\\sum_{i=1}^n \\tilde{x}^{(i)}_j \\right)^2$$\n",
    "\n",
    "\n",
    "* **Secondly , 𝜕 (α * norm |w| )  /  𝜕 w_j**\n",
    "\n",
    "$$α\\frac{𝜕|w_j|}{𝜕w_j} = \n",
    "    \\begin{cases}\n",
    "        -α & \\text{when $w_j$ < 0}\\\\\n",
    "        [-α,α] & \\text{when $w_j$ = 0}\\\\\n",
    "        α & \\text{when $w_j$ > 0}\\\\\n",
    "    \\end{cases}\n",
    "$$\n",
    "\n",
    "* **Put First and Second together and Make it 0, to calculate the w_j**\n",
    "\n",
    "$$\n",
    "\\frac{𝜕L(w)}{𝜕w_j} = \\frac{-1}{N}ρ_j + \\frac{1}{N}\\tilde{w}_jz_j + \n",
    "    \\begin{cases}\n",
    "        -α & \\text{when $w_j$ < 0}\\\\\n",
    "        [-α,α] & \\text{when $w_j$ = 0}\\\\\n",
    "        α & \\text{when $w_j$ > 0}\\\\\n",
    "    \\end{cases}=0\n",
    "$$\n",
    "\n",
    "\n",
    "* **The w_j Solution**\n",
    "\n",
    "$$ w_j = \n",
    "    \\begin{cases}\n",
    "        \\frac{ρ_j + Nα}{z_j} & \\text{if $ρ_j$ < -Nα}\\\\\n",
    "        0 & \\text{if -Nα ≤ $ρ_j$ ≤ Nα }\\\\\n",
    "        \\frac{ρ_j - Nα}{z_j} & \\text{if $ρ_j$ > Nα}\\\\\n",
    "    \\end{cases}\n",
    "$$"
   ]
  },
  {
   "cell_type": "markdown",
   "id": "40601525",
   "metadata": {
    "id": "f9e0d7bd",
    "papermill": {
     "duration": 0.030363,
     "end_time": "2022-05-27T10:08:30.744083",
     "exception": false,
     "start_time": "2022-05-27T10:08:30.713720",
     "status": "completed"
    },
    "tags": []
   },
   "source": [
    "# Coordinate Descent Algorithm\n",
    "\n",
    "**1. Pre-compute z_j:**\n",
    "$$ z_j = \\left(\\sum_{i=1}^n \\tilde{x}^{(i)}_j \\right)^2$$\n",
    "          * z_j = np.dot(X_j,X_j)\n",
    "\n",
    "**2. Initialise the $\\tilde{w}$ to be a zero vector**\n",
    "\n",
    "          * w= np.zeros(X_train.shape[1],dtype=float)\n",
    "\n",
    "**3. Initialise the maximum step parameter and tolerance level**\n",
    "\n",
    "**4. While the algorithm has not converged**\n",
    "\n",
    "> For j = 0,1,...,D\n",
    ">> Compute:\n",
    "\n",
    "$$ ρ_j = \\left(\\sum_{i=1}^n (\\tilde{x}^{(i)}_j)(y^{(i)} - \\left(\\sum_{k≠j}^n \\tilde{w}_k \\cdot \\tilde{x}^{(i)}_k\\right)) \\right)$$\n",
    "\n",
    "        * rho_j = np.dot(X_j,residual)\n",
    "        * residual = y - np.matmul(X_k, w_k.T)\n",
    "\n",
    ">> If j = 0\n",
    "$$ w_j = \\frac{ρ_j}{z_j}$$\n",
    ">> Else\n",
    "$$ w_j = \n",
    "    \\begin{cases}\n",
    "        \\frac{ρ_j + Nα}{z_j} & \\text{if $ρ_j$ < -Nα}\\\\\n",
    "        0 & \\text{if -Nα ≤ $ρ_j$ ≤ Nα }\\\\\n",
    "        \\frac{ρ_j - Nα}{z_j} & \\text{if $ρ_j$ > Nα}\\\\\n",
    "    \\end{cases}\n",
    "$$\n",
    "\n",
    "      * N, d = X_train.shape\n",
    "        * N = num of points\n",
    "        * d = num of features"
   ]
  },
  {
   "cell_type": "markdown",
   "id": "85292d90",
   "metadata": {
    "id": "ba0e40ca",
    "papermill": {
     "duration": 0.033988,
     "end_time": "2022-05-27T10:08:30.808873",
     "exception": false,
     "start_time": "2022-05-27T10:08:30.774885",
     "status": "completed"
    },
    "tags": []
   },
   "source": [
    "# Sub Functions to Implement Coordinate Descent\n",
    "\n",
    "* cost function\n",
    "* rho_j\n",
    "* z_j\n",
    "* coordinate_descent"
   ]
  },
  {
   "cell_type": "markdown",
   "id": "81d42910",
   "metadata": {
    "id": "ANAdgodl2Zmh",
    "papermill": {
     "duration": 0.031334,
     "end_time": "2022-05-27T10:08:30.874754",
     "exception": false,
     "start_time": "2022-05-27T10:08:30.843420",
     "status": "completed"
    },
    "tags": []
   },
   "source": [
    "# Coordinate Descent for LASSO"
   ]
  },
  {
   "cell_type": "code",
   "execution_count": 6,
   "id": "d378e0cd",
   "metadata": {
    "execution": {
     "iopub.execute_input": "2022-05-27T10:08:30.938459Z",
     "iopub.status.busy": "2022-05-27T10:08:30.937889Z",
     "iopub.status.idle": "2022-05-27T10:08:30.943014Z",
     "shell.execute_reply": "2022-05-27T10:08:30.942413Z"
    },
    "id": "c4ce88bf",
    "papermill": {
     "duration": 0.039462,
     "end_time": "2022-05-27T10:08:30.945231",
     "exception": false,
     "start_time": "2022-05-27T10:08:30.905769",
     "status": "completed"
    },
    "tags": []
   },
   "outputs": [],
   "source": [
    "# function for: define cost function ; calculate the gradient\n",
    "## alpha = shrinkage factor\n",
    "def cost_function_lasso(X,w,y,alpha):\n",
    "  n=y.size\n",
    "  y_pred=np.matmul(X,w.T)\n",
    "  error=y_pred-y\n",
    "  theta_norm=LA.norm(w,ord=1)\n",
    "  cost = np.dot(error.T, error)+alpha*theta_norm\n",
    "  return cost"
   ]
  },
  {
   "cell_type": "code",
   "execution_count": 7,
   "id": "11a96026",
   "metadata": {
    "execution": {
     "iopub.execute_input": "2022-05-27T10:08:31.011202Z",
     "iopub.status.busy": "2022-05-27T10:08:31.010669Z",
     "iopub.status.idle": "2022-05-27T10:08:31.016300Z",
     "shell.execute_reply": "2022-05-27T10:08:31.015586Z"
    },
    "id": "d8abc33f",
    "papermill": {
     "duration": 0.039862,
     "end_time": "2022-05-27T10:08:31.018440",
     "exception": false,
     "start_time": "2022-05-27T10:08:30.978578",
     "status": "completed"
    },
    "tags": []
   },
   "outputs": [],
   "source": [
    "def compute_rho_j(X,y,w,j):\n",
    "  X_k = np.delete(X,j,axis=1) #Remove the j variable i.e. j column\n",
    "  w_k = np.delete(w,j) #Remove the weight j\n",
    "  predict = np.matmul(X_k, w_k.T)\n",
    "  residual = y - predict\n",
    "  X_j=X[:,j] # m*1 vector\n",
    "  rho_j = np.dot(X_j,residual)\n",
    "  return(rho_j)"
   ]
  },
  {
   "cell_type": "code",
   "execution_count": 8,
   "id": "6f794428",
   "metadata": {
    "execution": {
     "iopub.execute_input": "2022-05-27T10:08:31.082327Z",
     "iopub.status.busy": "2022-05-27T10:08:31.081819Z",
     "iopub.status.idle": "2022-05-27T10:08:31.086169Z",
     "shell.execute_reply": "2022-05-27T10:08:31.085572Z"
    },
    "id": "a1240e4c",
    "papermill": {
     "duration": 0.038631,
     "end_time": "2022-05-27T10:08:31.088132",
     "exception": false,
     "start_time": "2022-05-27T10:08:31.049501",
     "status": "completed"
    },
    "tags": []
   },
   "outputs": [],
   "source": [
    "#z computation for unnormalised features\n",
    "def compute_z_j(X,j):\n",
    "  X_j=X[:,j]\n",
    "  z_j = np.dot(X_j,X_j) #Compute sum for each column\n",
    "  return(z_j)"
   ]
  },
  {
   "cell_type": "code",
   "execution_count": 9,
   "id": "02ff8393",
   "metadata": {
    "execution": {
     "iopub.execute_input": "2022-05-27T10:08:31.151716Z",
     "iopub.status.busy": "2022-05-27T10:08:31.151375Z",
     "iopub.status.idle": "2022-05-27T10:08:31.162461Z",
     "shell.execute_reply": "2022-05-27T10:08:31.161492Z"
    },
    "id": "9ec4f366",
    "papermill": {
     "duration": 0.045126,
     "end_time": "2022-05-27T10:08:31.164434",
     "exception": false,
     "start_time": "2022-05-27T10:08:31.119308",
     "status": "completed"
    },
    "tags": []
   },
   "outputs": [],
   "source": [
    "def coordinate_descent_lasso(y,X,w,alpha,tolerance):\n",
    "    max_step = 100.\n",
    "    iteration = 0\n",
    "    N,d=X.shape # N=num of point ; d=num of features\n",
    "    cost_diff=1\n",
    "    cost_array={}\n",
    "    while(cost_diff > tolerance):\n",
    "        iteration += 1\n",
    "        #print(\"Iteration (start) : \",iteration)\n",
    "        cost_old=cost_function_lasso(X,w,y,alpha)\n",
    "\n",
    "        for j in range(d): #Take the number of features ie columns\n",
    "            rho_j = compute_rho_j(X,y,w,j)\n",
    "            z_j=compute_z_j(X,j)\n",
    "            if j == 0: #Intercept is not included with the alpha regularisation\n",
    "                w[j] = rho_j/z_j\n",
    "            elif rho_j < -alpha*N:\n",
    "                w[j] = (rho_j + (alpha*N))/z_j\n",
    "            elif rho_j > -alpha*N and rho_j < alpha*N:\n",
    "                w[j] = 0\n",
    "            elif rho_j > alpha*N:\n",
    "                w[j] = (rho_j - (alpha*N))/z_j\n",
    "            else:\n",
    "                w[j] = np.NaN\n",
    "        # update the cost function\n",
    "        cost_new=cost_function_lasso(X,w,y,alpha)\n",
    "        cost_array[iteration]=cost_new\n",
    "        cost_diff=abs(cost_new-cost_old)\n",
    "        \n",
    "    print(w)\n",
    "    return w, iteration, cost_array"
   ]
  },
  {
   "cell_type": "code",
   "execution_count": 10,
   "id": "043f07ad",
   "metadata": {
    "execution": {
     "iopub.execute_input": "2022-05-27T10:08:31.230649Z",
     "iopub.status.busy": "2022-05-27T10:08:31.230114Z",
     "iopub.status.idle": "2022-05-27T10:08:31.269264Z",
     "shell.execute_reply": "2022-05-27T10:08:31.268400Z"
    },
    "id": "79ad70fc",
    "outputId": "59c574e3-4fee-47bf-de97-d7838a6f0419",
    "papermill": {
     "duration": 0.07424,
     "end_time": "2022-05-27T10:08:31.271767",
     "exception": false,
     "start_time": "2022-05-27T10:08:31.197527",
     "status": "completed"
    },
    "tags": []
   },
   "outputs": [
    {
     "name": "stdout",
     "output_type": "stream",
     "text": [
      "[22.97079646 -0.39948163  0.1892843   0.          0.82759114 -0.80309358\n",
      "  2.93205242  0.         -1.5002346   0.          0.         -1.70669261\n",
      "  0.83142358 -4.01081814]\n"
     ]
    }
   ],
   "source": [
    "# run the coordinate descent for our train set\n",
    "w_cd_lasso,iter_lasso,cost_array_lasso=coordinate_descent_lasso(y_train,X_train,w,alpha,tolerance)"
   ]
  },
  {
   "cell_type": "code",
   "execution_count": 11,
   "id": "6f9f507f",
   "metadata": {
    "execution": {
     "iopub.execute_input": "2022-05-27T10:08:31.339095Z",
     "iopub.status.busy": "2022-05-27T10:08:31.338771Z",
     "iopub.status.idle": "2022-05-27T10:08:31.603096Z",
     "shell.execute_reply": "2022-05-27T10:08:31.602303Z"
    },
    "id": "bpCLFiUw5UK7",
    "outputId": "4e48652e-24fe-41c5-fa48-1956ce2dfe59",
    "papermill": {
     "duration": 0.300455,
     "end_time": "2022-05-27T10:08:31.605354",
     "exception": false,
     "start_time": "2022-05-27T10:08:31.304899",
     "status": "completed"
    },
    "tags": []
   },
   "outputs": [
    {
     "data": {
      "text/plain": [
       "<AxesSubplot:xlabel='iters', ylabel='cost'>"
      ]
     },
     "execution_count": 11,
     "metadata": {},
     "output_type": "execute_result"
    },
    {
     "data": {
      "image/png": "[encoded data removed]",
      "text/plain": [
       "<Figure size 432x288 with 1 Axes>"
      ]
     },
     "metadata": {
      "needs_background": "light"
     },
     "output_type": "display_data"
    }
   ],
   "source": [
    "# function for: display the cost-iter trend\n",
    "def plot_cost_iter(cost_array):\n",
    "  iters=cost_array.keys()\n",
    "  cost=cost_array.values()\n",
    "  fig=sns.scatterplot(x=iters,y=cost)\n",
    "  fig.set_xlabel('iters')\n",
    "  fig.set_ylabel('cost')\n",
    "  return fig\n",
    "\n",
    "# display\n",
    "fig_lasso=plot_cost_iter(cost_array_lasso)\n",
    "fig_lasso"
   ]
  },
  {
   "cell_type": "markdown",
   "id": "6f647a66",
   "metadata": {
    "id": "6c5n01iC2s2B",
    "papermill": {
     "duration": 0.032836,
     "end_time": "2022-05-27T10:08:31.671760",
     "exception": false,
     "start_time": "2022-05-27T10:08:31.638924",
     "status": "completed"
    },
    "tags": []
   },
   "source": [
    "# Coordinate Descent for OLS (Ordinary Least Squares)\n",
    "\n",
    "* **For OLS , 𝜕 L(w)  /  𝜕 w_j**\n",
    "\n",
    "$$ \\frac{𝜕 L}{𝜕w_j} = \\frac{1}{N}\\left(\\sum_{i=1}^n (-\\tilde{x}^{(i)}_j)(y^{(i)} - \\left(\\sum_{k≠j}^n \\tilde{w}_k \\cdot \\tilde{x}^{(i)}_k\\right)) \\right) + \\frac{1}{N}\\tilde{w}_j\\left(\\sum_{i=1}^n \\tilde{x}^{(i)}_j \\right)^2 = \\frac{-1}{N}ρ_j + \\frac{1}{N}\\tilde{w}_jz_j    $$\n",
    "\n",
    "* **So The w_j:**\n",
    "$$ w_j = \\frac{ρ_j}{z_j}$$"
   ]
  },
  {
   "cell_type": "code",
   "execution_count": 12,
   "id": "f1b2e598",
   "metadata": {
    "execution": {
     "iopub.execute_input": "2022-05-27T10:08:31.741241Z",
     "iopub.status.busy": "2022-05-27T10:08:31.740713Z",
     "iopub.status.idle": "2022-05-27T10:08:31.745842Z",
     "shell.execute_reply": "2022-05-27T10:08:31.744932Z"
    },
    "id": "yLZZ-K6l2xJo",
    "papermill": {
     "duration": 0.043161,
     "end_time": "2022-05-27T10:08:31.748218",
     "exception": false,
     "start_time": "2022-05-27T10:08:31.705057",
     "status": "completed"
    },
    "tags": []
   },
   "outputs": [],
   "source": [
    "# function for: define cost function ; calculate the gradient\n",
    "def cost_function_ols(X,w,y):\n",
    "  n=y.size\n",
    "  y_pred=np.matmul(X,w.T)\n",
    "  error=y_pred-y\n",
    "  cost = (0.5*n)*np.dot(error.T, error)\n",
    "  return cost"
   ]
  },
  {
   "cell_type": "code",
   "execution_count": 13,
   "id": "b2543712",
   "metadata": {
    "execution": {
     "iopub.execute_input": "2022-05-27T10:08:31.817407Z",
     "iopub.status.busy": "2022-05-27T10:08:31.816438Z",
     "iopub.status.idle": "2022-05-27T10:08:31.824152Z",
     "shell.execute_reply": "2022-05-27T10:08:31.823437Z"
    },
    "id": "Ax1L0Npp2-hk",
    "papermill": {
     "duration": 0.044215,
     "end_time": "2022-05-27T10:08:31.826195",
     "exception": false,
     "start_time": "2022-05-27T10:08:31.781980",
     "status": "completed"
    },
    "tags": []
   },
   "outputs": [],
   "source": [
    "def coordinate_descent_ols(y,X,w,tolerance):\n",
    "    max_step = 500\n",
    "    iteration = 0\n",
    "    N,d=X.shape # N=num of point ; d=num of features\n",
    "    cost_diff=1\n",
    "    cost_array={}\n",
    "    while(cost_diff > tolerance):\n",
    "        iteration += 1\n",
    "        #print(\"Iteration (start) : \",iteration)\n",
    "        cost_old=cost_function_ols(X,w,y)\n",
    "\n",
    "        for j in range(d): #Take the number of features ie columns\n",
    "            rho_j = compute_rho_j(X,y,w,j)\n",
    "            z_j=compute_z_j(X,j)\n",
    "            w[j] = rho_j/z_j\n",
    "        \n",
    "        # update the cost function\n",
    "        cost_new=cost_function_ols(X,w,y)\n",
    "        cost_array[iteration]=cost_new\n",
    "        cost_diff=abs(cost_new-cost_old)\n",
    "        \n",
    "    print(w)\n",
    "    return w, iteration, cost_array"
   ]
  },
  {
   "cell_type": "code",
   "execution_count": 14,
   "id": "f23a2091",
   "metadata": {
    "execution": {
     "iopub.execute_input": "2022-05-27T10:08:31.895905Z",
     "iopub.status.busy": "2022-05-27T10:08:31.895466Z",
     "iopub.status.idle": "2022-05-27T10:08:32.144127Z",
     "shell.execute_reply": "2022-05-27T10:08:32.143299Z"
    },
    "id": "CN3sOFmE32lz",
    "outputId": "59b338d6-cf61-4277-bb96-98eae30b2c04",
    "papermill": {
     "duration": 0.285425,
     "end_time": "2022-05-27T10:08:32.146195",
     "exception": false,
     "start_time": "2022-05-27T10:08:31.860770",
     "status": "completed"
    },
    "tags": []
   },
   "outputs": [
    {
     "name": "stdout",
     "output_type": "stream",
     "text": [
      "[22.97079646 -0.98856987  0.8679275   0.40501448  0.86184024 -1.90008084\n",
      "  2.80813738 -0.35866919 -3.0455284   2.0327132  -1.36397513 -2.08252829\n",
      "  1.04125563 -3.9262893 ]\n"
     ]
    },
    {
     "data": {
      "text/plain": [
       "<AxesSubplot:xlabel='iters', ylabel='cost'>"
      ]
     },
     "execution_count": 14,
     "metadata": {},
     "output_type": "execute_result"
    },
    {
     "data": {
      "image/png": "[encoded data removed]",
      "text/plain": [
       "<Figure size 432x288 with 1 Axes>"
      ]
     },
     "metadata": {
      "needs_background": "light"
     },
     "output_type": "display_data"
    }
   ],
   "source": [
    "# run the coordinate descent for our train set\n",
    "w_cd_ols,iter_ols,cost_array_ols=coordinate_descent_ols(y_train,X_train,w,tolerance)\n",
    "\n",
    "# display\n",
    "fig_ols=plot_cost_iter(cost_array_ols)\n",
    "fig_ols"
   ]
  },
  {
   "cell_type": "markdown",
   "id": "d148422b",
   "metadata": {
    "id": "FR-dJbHg5g5N",
    "papermill": {
     "duration": 0.034769,
     "end_time": "2022-05-27T10:08:32.216051",
     "exception": false,
     "start_time": "2022-05-27T10:08:32.181282",
     "status": "completed"
    },
    "tags": []
   },
   "source": [
    "# Model Performance on Test Dataset  --- 4 Models Compare (ours and scikit package)\n",
    "\n",
    "\n",
    "\n",
    "1.   (Own) Coordinate descent Lasso\n",
    "2.   Scikit Lasso\n",
    "3.   (Own) Coordinate descent OLS\n",
    "4.   Scikit OLS\n",
    "\n"
   ]
  },
  {
   "cell_type": "code",
   "execution_count": 15,
   "id": "ccc892db",
   "metadata": {
    "execution": {
     "iopub.execute_input": "2022-05-27T10:08:32.287824Z",
     "iopub.status.busy": "2022-05-27T10:08:32.287552Z",
     "iopub.status.idle": "2022-05-27T10:08:32.295543Z",
     "shell.execute_reply": "2022-05-27T10:08:32.294591Z"
    },
    "id": "bd89cc42",
    "papermill": {
     "duration": 0.046236,
     "end_time": "2022-05-27T10:08:32.297478",
     "exception": false,
     "start_time": "2022-05-27T10:08:32.251242",
     "status": "completed"
    },
    "tags": []
   },
   "outputs": [],
   "source": [
    "# scatterplot the y_pred and y_actual, display the MSE, theta\n",
    "def plot_pred_actual(w,X_test,y_test):\n",
    "  num_of_pt=y_test.size\n",
    "  y_test_pred=np.matmul(X_test,w.T)\n",
    "  mse=mean_squared_error(y_test,y_test_pred)\n",
    "  # plot the graph\n",
    "  fig, ax1 = plt.subplots(1,1,constrained_layout=True)\n",
    "  sns.scatterplot(x=y_test_pred,y=y_test,ax=ax1)\n",
    "  xpoints = ypoints = plt.xlim()\n",
    "  plt.plot(xpoints, ypoints, linestyle='--', color='k')\n",
    "  ax1.set_xlabel('y_pred')\n",
    "  ax1.set_ylabel('y_actual')\n",
    "  ax1.text(0,0.92,f'The MSE = {mse}',transform=ax1.transAxes)\n",
    "  ax1.text(0,0.85,f'The num of Point = {num_of_pt}',transform=ax1.transAxes)\n",
    "  return mse"
   ]
  },
  {
   "cell_type": "markdown",
   "id": "f4b54421",
   "metadata": {
    "id": "o-p52cPc6MUk",
    "papermill": {
     "duration": 0.035126,
     "end_time": "2022-05-27T10:08:32.367805",
     "exception": false,
     "start_time": "2022-05-27T10:08:32.332679",
     "status": "completed"
    },
    "tags": []
   },
   "source": [
    "## 1. Our Coodinate Descent Lasso"
   ]
  },
  {
   "cell_type": "code",
   "execution_count": 16,
   "id": "9fe6357e",
   "metadata": {
    "execution": {
     "iopub.execute_input": "2022-05-27T10:08:32.439569Z",
     "iopub.status.busy": "2022-05-27T10:08:32.439052Z",
     "iopub.status.idle": "2022-05-27T10:08:32.701559Z",
     "shell.execute_reply": "2022-05-27T10:08:32.700532Z"
    },
    "id": "ev8Ab1xd6Q4L",
    "outputId": "ca651ed6-817e-4663-ce11-c3025d53a3bf",
    "papermill": {
     "duration": 0.300996,
     "end_time": "2022-05-27T10:08:32.703851",
     "exception": false,
     "start_time": "2022-05-27T10:08:32.402855",
     "status": "completed"
    },
    "tags": []
   },
   "outputs": [
    {
     "data": {
      "image/png": "[encoded data removed]",
      "text/plain": [
       "<Figure size 432x288 with 1 Axes>"
      ]
     },
     "metadata": {
      "needs_background": "light"
     },
     "output_type": "display_data"
    }
   ],
   "source": [
    "mse_cd_lasso_test=plot_pred_actual(w=w_cd_lasso,\n",
    "                 X_test=X_test,\n",
    "                 y_test=y_test)"
   ]
  },
  {
   "cell_type": "markdown",
   "id": "12154bb3",
   "metadata": {
    "id": "uUUmkLNA6bM7",
    "papermill": {
     "duration": 0.036614,
     "end_time": "2022-05-27T10:08:32.778749",
     "exception": false,
     "start_time": "2022-05-27T10:08:32.742135",
     "status": "completed"
    },
    "tags": []
   },
   "source": [
    "## 2. Scikit Lasso"
   ]
  },
  {
   "cell_type": "code",
   "execution_count": 17,
   "id": "548828ca",
   "metadata": {
    "execution": {
     "iopub.execute_input": "2022-05-27T10:08:32.854491Z",
     "iopub.status.busy": "2022-05-27T10:08:32.853950Z",
     "iopub.status.idle": "2022-05-27T10:08:33.185633Z",
     "shell.execute_reply": "2022-05-27T10:08:33.184641Z"
    },
    "id": "pE62R_Fb6eIF",
    "outputId": "7066baf7-e00c-4fca-cf23-184a5797c3ed",
    "papermill": {
     "duration": 0.371919,
     "end_time": "2022-05-27T10:08:33.187844",
     "exception": false,
     "start_time": "2022-05-27T10:08:32.815925",
     "status": "completed"
    },
    "tags": []
   },
   "outputs": [
    {
     "data": {
      "image/png": "[encoded data removed]",
      "text/plain": [
       "<Figure size 432x288 with 1 Axes>"
      ]
     },
     "metadata": {
      "needs_background": "light"
     },
     "output_type": "display_data"
    }
   ],
   "source": [
    "from sklearn.linear_model import Lasso\n",
    "\n",
    "# fit the lasso\n",
    "sk_lasso=Lasso(alpha,fit_intercept=False)\n",
    "sk_lasso.fit(X_train,y_train)\n",
    "w_lasso=sk_lasso.coef_\n",
    "\n",
    "# test set result\n",
    "mse_sk_lasso_test=plot_pred_actual(w_lasso,X_test,y_test)"
   ]
  },
  {
   "cell_type": "markdown",
   "id": "9d7307b4",
   "metadata": {
    "id": "9mAcr0Ma6qi9",
    "papermill": {
     "duration": 0.039595,
     "end_time": "2022-05-27T10:08:33.265555",
     "exception": false,
     "start_time": "2022-05-27T10:08:33.225960",
     "status": "completed"
    },
    "tags": []
   },
   "source": [
    "## 3. Our Coordinate Descent OLS"
   ]
  },
  {
   "cell_type": "code",
   "execution_count": 18,
   "id": "a78c815d",
   "metadata": {
    "execution": {
     "iopub.execute_input": "2022-05-27T10:08:33.343569Z",
     "iopub.status.busy": "2022-05-27T10:08:33.342974Z",
     "iopub.status.idle": "2022-05-27T10:08:33.608465Z",
     "shell.execute_reply": "2022-05-27T10:08:33.607562Z"
    },
    "id": "dpewujfx6uqD",
    "outputId": "8a3d62fb-579b-4c1c-a5a6-57403899e7c1",
    "papermill": {
     "duration": 0.307159,
     "end_time": "2022-05-27T10:08:33.610560",
     "exception": false,
     "start_time": "2022-05-27T10:08:33.303401",
     "status": "completed"
    },
    "tags": []
   },
   "outputs": [
    {
     "data": {
      "image/png": "[encoded data removed]",
      "text/plain": [
       "<Figure size 432x288 with 1 Axes>"
      ]
     },
     "metadata": {
      "needs_background": "light"
     },
     "output_type": "display_data"
    }
   ],
   "source": [
    "mse_cd_ols_test=plot_pred_actual(w=w_cd_ols,\n",
    "                 X_test=X_test,\n",
    "                 y_test=y_test)"
   ]
  },
  {
   "cell_type": "markdown",
   "id": "05929486",
   "metadata": {
    "id": "s4ZI0Kst6ysz",
    "papermill": {
     "duration": 0.04077,
     "end_time": "2022-05-27T10:08:33.692549",
     "exception": false,
     "start_time": "2022-05-27T10:08:33.651779",
     "status": "completed"
    },
    "tags": []
   },
   "source": [
    "## 4. Scikit OLS"
   ]
  },
  {
   "cell_type": "code",
   "execution_count": 19,
   "id": "2e8dbd3f",
   "metadata": {
    "execution": {
     "iopub.execute_input": "2022-05-27T10:08:33.774475Z",
     "iopub.status.busy": "2022-05-27T10:08:33.774174Z",
     "iopub.status.idle": "2022-05-27T10:08:34.050597Z",
     "shell.execute_reply": "2022-05-27T10:08:34.049899Z"
    },
    "id": "d63da581",
    "outputId": "fc09b54d-37b4-4f6e-f6a2-eb18965082ef",
    "papermill": {
     "duration": 0.321097,
     "end_time": "2022-05-27T10:08:34.052707",
     "exception": false,
     "start_time": "2022-05-27T10:08:33.731610",
     "status": "completed"
    },
    "tags": []
   },
   "outputs": [
    {
     "data": {
      "image/png": "[encoded data removed]",
      "text/plain": [
       "<Figure size 432x288 with 1 Axes>"
      ]
     },
     "metadata": {
      "needs_background": "light"
     },
     "output_type": "display_data"
    }
   ],
   "source": [
    "from sklearn.linear_model import LinearRegression\n",
    "\n",
    "# fit the lasso\n",
    "sk_ols=LinearRegression(fit_intercept=False)\n",
    "sk_ols.fit(X_train,y_train)\n",
    "w_ols=sk_ols.coef_\n",
    "\n",
    "# test set result\n",
    "mse_sk_ols_test=plot_pred_actual(w_ols,X_test,y_test)"
   ]
  },
  {
   "cell_type": "markdown",
   "id": "44d9e8b8",
   "metadata": {
    "id": "M0pUf03k7ULk",
    "papermill": {
     "duration": 0.040061,
     "end_time": "2022-05-27T10:08:34.133857",
     "exception": false,
     "start_time": "2022-05-27T10:08:34.093796",
     "status": "completed"
    },
    "tags": []
   },
   "source": [
    "## Models MSE Compare"
   ]
  },
  {
   "cell_type": "code",
   "execution_count": 20,
   "id": "a4b3867a",
   "metadata": {
    "execution": {
     "iopub.execute_input": "2022-05-27T10:08:34.216569Z",
     "iopub.status.busy": "2022-05-27T10:08:34.216208Z",
     "iopub.status.idle": "2022-05-27T10:08:34.396911Z",
     "shell.execute_reply": "2022-05-27T10:08:34.395771Z"
    },
    "id": "de901c22",
    "outputId": "679714b2-5889-45c1-b1fb-c2bb4dd51113",
    "papermill": {
     "duration": 0.224963,
     "end_time": "2022-05-27T10:08:34.399260",
     "exception": false,
     "start_time": "2022-05-27T10:08:34.174297",
     "status": "completed"
    },
    "tags": []
   },
   "outputs": [
    {
     "name": "stdout",
     "output_type": "stream",
     "text": [
      "-  Coordinate Descent LASSO  =  20.72404115247873\n",
      "-  Scikit LASSO  =  22.812906298534024\n",
      "-  Coordinate Descent OLS  =  20.72404115247873\n",
      "-  Scikit OLS  =  20.724023437339785\n"
     ]
    },
    {
     "data": {
      "image/png": "[encoded data removed]",
      "text/plain": [
       "<Figure size 432x288 with 1 Axes>"
      ]
     },
     "metadata": {
      "needs_background": "light"
     },
     "output_type": "display_data"
    }
   ],
   "source": [
    "# compare the mse for our gradient descent regression VS sklearn package\n",
    "x=[mse_cd_lasso_test,mse_sk_lasso_test,mse_cd_ols_test,mse_sk_ols_test]\n",
    "y=['Coordinate Descent LASSO','Scikit LASSO','Coordinate Descent OLS','Scikit OLS']\n",
    "fig=sns.barplot(x=x,y=y,color='blue')\n",
    "fig.set_title('(MSE) Sklearn VS Own Coordinate Descent for LASSO & OLS')\n",
    "for mse,model in zip(x,y):\n",
    "  print('- ',model, ' = ',mse)"
   ]
  },
  {
   "cell_type": "markdown",
   "id": "d9ca05a0",
   "metadata": {
    "id": "tI6eYMsc9nOk",
    "papermill": {
     "duration": 0.045205,
     "end_time": "2022-05-27T10:08:34.491144",
     "exception": false,
     "start_time": "2022-05-27T10:08:34.445939",
     "status": "completed"
    },
    "tags": []
   },
   "source": [
    "### OLS genrally has better MSE than LASSO (Possible Reason: The data quality is high)"
   ]
  },
  {
   "cell_type": "markdown",
   "id": "2368bf1e",
   "metadata": {
    "id": "jfi0cANW8lH8",
    "papermill": {
     "duration": 0.044377,
     "end_time": "2022-05-27T10:08:34.581673",
     "exception": false,
     "start_time": "2022-05-27T10:08:34.537296",
     "status": "completed"
    },
    "tags": []
   },
   "source": [
    "## Model Weights Compare (w)"
   ]
  },
  {
   "cell_type": "code",
   "execution_count": 21,
   "id": "fdddcde0",
   "metadata": {
    "execution": {
     "iopub.execute_input": "2022-05-27T10:08:34.669488Z",
     "iopub.status.busy": "2022-05-27T10:08:34.668638Z",
     "iopub.status.idle": "2022-05-27T10:08:34.673681Z",
     "shell.execute_reply": "2022-05-27T10:08:34.672926Z"
    },
    "id": "c43b2362",
    "papermill": {
     "duration": 0.050094,
     "end_time": "2022-05-27T10:08:34.675662",
     "exception": false,
     "start_time": "2022-05-27T10:08:34.625568",
     "status": "completed"
    },
    "tags": []
   },
   "outputs": [],
   "source": [
    "def plot_w(w,model_name):\n",
    "  fig=sns.barplot(x=w,y=[str(i) for i in range(14)])\n",
    "  fig.set_title(f'{model_name} Weight Value')\n",
    "  plt.show()\n",
    "  return w"
   ]
  },
  {
   "cell_type": "code",
   "execution_count": 22,
   "id": "d647257d",
   "metadata": {
    "execution": {
     "iopub.execute_input": "2022-05-27T10:08:34.761872Z",
     "iopub.status.busy": "2022-05-27T10:08:34.761559Z",
     "iopub.status.idle": "2022-05-27T10:08:35.831739Z",
     "shell.execute_reply": "2022-05-27T10:08:35.830742Z"
    },
    "id": "901c313b",
    "outputId": "0b5c61b0-5f9b-4eda-c5cc-893f0e65ac7f",
    "papermill": {
     "duration": 1.11678,
     "end_time": "2022-05-27T10:08:35.834643",
     "exception": false,
     "start_time": "2022-05-27T10:08:34.717863",
     "status": "completed"
    },
    "tags": []
   },
   "outputs": [
    {
     "data": {
      "image/png": "[encoded data removed]",
      "text/plain": [
       "<Figure size 432x288 with 1 Axes>"
      ]
     },
     "metadata": {
      "needs_background": "light"
     },
     "output_type": "display_data"
    },
    {
     "data": {
      "image/png": "[encoded data removed]",
      "text/plain": [
       "<Figure size 432x288 with 1 Axes>"
      ]
     },
     "metadata": {
      "needs_background": "light"
     },
     "output_type": "display_data"
    },
    {
     "data": {
      "image/png": "[encoded data removed]",
      "text/plain": [
       "<Figure size 432x288 with 1 Axes>"
      ]
     },
     "metadata": {
      "needs_background": "light"
     },
     "output_type": "display_data"
    },
    {
     "data": {
      "image/png": "[encoded data removed]",
      "text/plain": [
       "<Figure size 432x288 with 1 Axes>"
      ]
     },
     "metadata": {
      "needs_background": "light"
     },
     "output_type": "display_data"
    }
   ],
   "source": [
    "w_list=[w_cd_lasso,w_lasso,w_cd_ols,w_ols]\n",
    "model_name_list=['Coordinate Descent LASSO','Scikit LASSO','Coordinate Descent OLS','Scikit OLS']\n",
    "\n",
    "for w, model_name in zip(w_list,model_name_list):\n",
    "  plot_w(w,model_name)"
   ]
  }
 ],
 "metadata": {
  "kernelspec": {
   "display_name": "Python 3",
   "language": "python",
   "name": "python3"
  },
  "language_info": {
   "codemirror_mode": {
    "name": "ipython",
    "version": 3
   },
   "file_extension": ".py",
   "mimetype": "text/x-python",
   "name": "python",
   "nbconvert_exporter": "python",
   "pygments_lexer": "ipython3",
   "version": "3.7.12"
  },
  "papermill": {
   "default_parameters": {},
   "duration": 18.636192,
   "end_time": "2022-05-27T10:08:36.604368",
   "environment_variables": {},
   "exception": null,
   "input_path": "__notebook__.ipynb",
   "output_path": "__notebook__.ipynb",
   "parameters": {},
   "start_time": "2022-05-27T10:08:17.968176",
   "version": "2.3.4"
  }
 },
 "nbformat": 4,
 "nbformat_minor": 5
}
