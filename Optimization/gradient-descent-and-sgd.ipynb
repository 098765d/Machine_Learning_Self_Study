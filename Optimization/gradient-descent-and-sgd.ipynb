{
 "cells": [
  {
   "cell_type": "markdown",
   "id": "eed88130",
   "metadata": {
    "id": "dqBXUJWmDCEg",
    "papermill": {
     "duration": 0.016459,
     "end_time": "2022-06-15T10:46:19.358680",
     "exception": false,
     "start_time": "2022-06-15T10:46:19.342221",
     "status": "completed"
    },
    "tags": []
   },
   "source": [
    "# Gradient Descent (GD) and Stochastic Gradient Descent (SGD)\n",
    "\n",
    "[cs229_code_example](chrome-extension://efaidnbmnnnibpcajpcglclefindmkaj/https://cs229.stanford.edu/notes-spring2019/Gradient_Descent_Viz.pdf)\n",
    "\n",
    "    \n",
    "## Aim:\n",
    "\n",
    "*   Write Gradient Descent and SGD from Scartch (using numpy)\n",
    "*   Compare with sklearn Gradient Descent and SGD package\n",
    "\n",
    "\n",
    "## Content\n",
    "* Load Dataset\n",
    "* Write our own Gradient Descent (GD)\n",
    "* sklearn Gradient Descent (OLS)\n",
    "* Write our own Stochastic Descent (SGD)\n",
    "* sklearn SGD\n",
    "* Compare 4 Models MSE"
   ]
  },
  {
   "cell_type": "markdown",
   "id": "1c92d2f7",
   "metadata": {
    "id": "t1AVDE7P7-jo",
    "papermill": {
     "duration": 0.014582,
     "end_time": "2022-06-15T10:46:19.388436",
     "exception": false,
     "start_time": "2022-06-15T10:46:19.373854",
     "status": "completed"
    },
    "tags": []
   },
   "source": [
    "* **Batch gradient descent**: use **all m examples** in each iteration\n",
    "\n",
    "* **Stochastic gradient descent**: use **1 example** in each iteration\n",
    "\n",
    "\n",
    "![link text](https://yyqing.me/2017/2017-08-10/batch-vs-stochastic.png)"
   ]
  },
  {
   "cell_type": "code",
   "execution_count": 1,
   "id": "d3e488a9",
   "metadata": {
    "execution": {
     "iopub.execute_input": "2022-06-15T10:46:19.421033Z",
     "iopub.status.busy": "2022-06-15T10:46:19.420415Z",
     "iopub.status.idle": "2022-06-15T10:46:20.558738Z",
     "shell.execute_reply": "2022-06-15T10:46:20.557987Z"
    },
    "id": "Tfywgk_0YEvb",
    "papermill": {
     "duration": 1.158061,
     "end_time": "2022-06-15T10:46:20.561503",
     "exception": false,
     "start_time": "2022-06-15T10:46:19.403442",
     "status": "completed"
    },
    "tags": []
   },
   "outputs": [],
   "source": [
    "import numpy as np\n",
    "import seaborn as sns\n",
    "import matplotlib.pyplot as plt\n",
    "from sklearn.metrics import mean_squared_error\n",
    "import warnings\n",
    "warnings.filterwarnings('ignore')\n",
    "from numpy import linalg as LA"
   ]
  },
  {
   "cell_type": "markdown",
   "id": "7e459dcc",
   "metadata": {
    "id": "Y7-uR-poPAWC",
    "papermill": {
     "duration": 0.014931,
     "end_time": "2022-06-15T10:46:20.592078",
     "exception": false,
     "start_time": "2022-06-15T10:46:20.577147",
     "status": "completed"
    },
    "tags": []
   },
   "source": [
    "<h1> Load Dataset"
   ]
  },
  {
   "cell_type": "code",
   "execution_count": 2,
   "id": "4ebac121",
   "metadata": {
    "execution": {
     "iopub.execute_input": "2022-06-15T10:46:20.624790Z",
     "iopub.status.busy": "2022-06-15T10:46:20.623945Z",
     "iopub.status.idle": "2022-06-15T10:46:20.704417Z",
     "shell.execute_reply": "2022-06-15T10:46:20.703634Z"
    },
    "id": "0HvisJKoPB7w",
    "papermill": {
     "duration": 0.099261,
     "end_time": "2022-06-15T10:46:20.706593",
     "exception": false,
     "start_time": "2022-06-15T10:46:20.607332",
     "status": "completed"
    },
    "tags": []
   },
   "outputs": [],
   "source": [
    "from sklearn.datasets import load_boston\n",
    "X, y = load_boston(return_X_y=True)\n",
    "pass"
   ]
  },
  {
   "cell_type": "code",
   "execution_count": 3,
   "id": "1d39f7fe",
   "metadata": {
    "execution": {
     "iopub.execute_input": "2022-06-15T10:46:20.748309Z",
     "iopub.status.busy": "2022-06-15T10:46:20.747324Z",
     "iopub.status.idle": "2022-06-15T10:46:20.763706Z",
     "shell.execute_reply": "2022-06-15T10:46:20.763067Z"
    },
    "id": "o6mICVAMPFDJ",
    "papermill": {
     "duration": 0.036383,
     "end_time": "2022-06-15T10:46:20.766321",
     "exception": false,
     "start_time": "2022-06-15T10:46:20.729938",
     "status": "completed"
    },
    "tags": []
   },
   "outputs": [],
   "source": [
    "# train test split\n",
    "from sklearn.model_selection import train_test_split\n",
    "X_train, X_test, y_train, y_test = train_test_split(X, y, test_size=0.33, random_state=42)"
   ]
  },
  {
   "cell_type": "code",
   "execution_count": 4,
   "id": "33ac3848",
   "metadata": {
    "execution": {
     "iopub.execute_input": "2022-06-15T10:46:20.801248Z",
     "iopub.status.busy": "2022-06-15T10:46:20.800747Z",
     "iopub.status.idle": "2022-06-15T10:46:20.808248Z",
     "shell.execute_reply": "2022-06-15T10:46:20.807652Z"
    },
    "id": "FAna4QeKPGdh",
    "papermill": {
     "duration": 0.026272,
     "end_time": "2022-06-15T10:46:20.810020",
     "exception": false,
     "start_time": "2022-06-15T10:46:20.783748",
     "status": "completed"
    },
    "tags": []
   },
   "outputs": [],
   "source": [
    "# standard sclaer\n",
    "from sklearn.preprocessing import StandardScaler\n",
    "def std_scaler(X_train,X_test):\n",
    "  scaler = StandardScaler()\n",
    "  scaler.fit(X_train)\n",
    "  X_train_scale=scaler.transform(X_train)\n",
    "  X_test_scale=scaler.transform(X_test)\n",
    "  # add a column of 1 for X\n",
    "  X_train_scale=np.append(np.ones(shape=(X_train.shape[0],1)),X_train_scale,axis=1)\n",
    "  X_test_scale=np.append(np.ones(shape=(X_test.shape[0],1)),X_test_scale,axis=1)\n",
    "  return X_train_scale, X_test_scale\n",
    "\n",
    "X_train,X_test=std_scaler(X_train,X_test)"
   ]
  },
  {
   "cell_type": "markdown",
   "id": "bec7e545",
   "metadata": {
    "id": "iZzjUic-SLBj",
    "papermill": {
     "duration": 0.015405,
     "end_time": "2022-06-15T10:46:20.841193",
     "exception": false,
     "start_time": "2022-06-15T10:46:20.825788",
     "status": "completed"
    },
    "tags": []
   },
   "source": [
    "<h1> Gradient Descent\n",
    "\n",
    "\n",
    "![link text](https://images.slideplayer.com/23/6897901/slides/slide_6.jpg)"
   ]
  },
  {
   "cell_type": "code",
   "execution_count": 5,
   "id": "48d89bcd",
   "metadata": {
    "execution": {
     "iopub.execute_input": "2022-06-15T10:46:20.874901Z",
     "iopub.status.busy": "2022-06-15T10:46:20.874409Z",
     "iopub.status.idle": "2022-06-15T10:46:20.879639Z",
     "shell.execute_reply": "2022-06-15T10:46:20.879065Z"
    },
    "id": "IYhWe7T7QSws",
    "papermill": {
     "duration": 0.024008,
     "end_time": "2022-06-15T10:46:20.881391",
     "exception": false,
     "start_time": "2022-06-15T10:46:20.857383",
     "status": "completed"
    },
    "tags": []
   },
   "outputs": [],
   "source": [
    "# function for: define cost function ; calculate the gradient\n",
    "def cost_function(X,theta,y):\n",
    "  m=y.size\n",
    "  y_pred=np.matmul(X,theta.T)\n",
    "  error=y_pred-y\n",
    "  cost = 0.5 * m * np.dot(error.T, error)\n",
    "  gradient = (1/m)* np.dot(X.T,error)\n",
    "  return cost,gradient"
   ]
  },
  {
   "cell_type": "code",
   "execution_count": 6,
   "id": "16d04362",
   "metadata": {
    "execution": {
     "iopub.execute_input": "2022-06-15T10:46:20.915935Z",
     "iopub.status.busy": "2022-06-15T10:46:20.915619Z",
     "iopub.status.idle": "2022-06-15T10:46:20.920215Z",
     "shell.execute_reply": "2022-06-15T10:46:20.919675Z"
    },
    "id": "duM83JwjYjCS",
    "papermill": {
     "duration": 0.02497,
     "end_time": "2022-06-15T10:46:20.921883",
     "exception": false,
     "start_time": "2022-06-15T10:46:20.896913",
     "status": "completed"
    },
    "tags": []
   },
   "outputs": [],
   "source": [
    "# function for: using iteration calculate theta\n",
    "def gradient_descent(X, y, theta_init, alpha, iters):\n",
    "  cost_array={}\n",
    "  theta=theta_init\n",
    "  m=y.size\n",
    "  for i in range(iters):\n",
    "    cost,gradient=cost_function(X,theta,y)\n",
    "    theta=theta-alpha * gradient\n",
    "    cost_array[i]=cost\n",
    "  return theta, cost_array"
   ]
  },
  {
   "cell_type": "code",
   "execution_count": 7,
   "id": "c6352aeb",
   "metadata": {
    "execution": {
     "iopub.execute_input": "2022-06-15T10:46:20.954675Z",
     "iopub.status.busy": "2022-06-15T10:46:20.954262Z",
     "iopub.status.idle": "2022-06-15T10:46:20.978685Z",
     "shell.execute_reply": "2022-06-15T10:46:20.977974Z"
    },
    "id": "CVwqchuIc35n",
    "papermill": {
     "duration": 0.043298,
     "end_time": "2022-06-15T10:46:20.980706",
     "exception": false,
     "start_time": "2022-06-15T10:46:20.937408",
     "status": "completed"
    },
    "tags": []
   },
   "outputs": [],
   "source": [
    " # Set hyperparameters\n",
    "alpha = 0.01\n",
    "iterations = 1500\n",
    "\n",
    "# Initialize Theta Values to 0\n",
    "theta_init = np.zeros(X_train.shape[1])\n",
    "\n",
    "# Run Gradient Descent\n",
    "theta, cost_array = gradient_descent(X_train, y_train, theta_init, alpha, iterations)"
   ]
  },
  {
   "cell_type": "code",
   "execution_count": 8,
   "id": "2290f942",
   "metadata": {
    "execution": {
     "iopub.execute_input": "2022-06-15T10:46:21.014835Z",
     "iopub.status.busy": "2022-06-15T10:46:21.014500Z",
     "iopub.status.idle": "2022-06-15T10:46:21.266204Z",
     "shell.execute_reply": "2022-06-15T10:46:21.265243Z"
    },
    "id": "C1PiODu5b_sM",
    "outputId": "2908bf08-bada-4f98-feea-b07eba2d4ace",
    "papermill": {
     "duration": 0.271553,
     "end_time": "2022-06-15T10:46:21.268537",
     "exception": false,
     "start_time": "2022-06-15T10:46:20.996984",
     "status": "completed"
    },
    "tags": []
   },
   "outputs": [
    {
     "data": {
      "image/png": "[encoded data removed]",
      "text/plain": [
       "<Figure size 432x288 with 1 Axes>"
      ]
     },
     "metadata": {
      "needs_background": "light"
     },
     "output_type": "display_data"
    }
   ],
   "source": [
    "# function for: display the cost-iter trend\n",
    "def plot_cost_iter(cost_array):\n",
    "  iters=cost_array.keys()\n",
    "  cost=cost_array.values()\n",
    "  fig=sns.scatterplot(x=iters,y=cost)\n",
    "  fig.set_xlabel('iters')\n",
    "  fig.set_ylabel('cost')\n",
    "\n",
    "# display\n",
    "plot_cost_iter(cost_array)"
   ]
  },
  {
   "cell_type": "markdown",
   "id": "a1da47a4",
   "metadata": {
    "id": "LMQXEbqAS_d-",
    "papermill": {
     "duration": 0.016912,
     "end_time": "2022-06-15T10:46:21.303005",
     "exception": false,
     "start_time": "2022-06-15T10:46:21.286093",
     "status": "completed"
    },
    "tags": []
   },
   "source": [
    "<h2> Plot the Result (MSE + scatterplot)"
   ]
  },
  {
   "cell_type": "code",
   "execution_count": 9,
   "id": "a093dfc2",
   "metadata": {
    "execution": {
     "iopub.execute_input": "2022-06-15T10:46:21.339373Z",
     "iopub.status.busy": "2022-06-15T10:46:21.338873Z",
     "iopub.status.idle": "2022-06-15T10:46:21.346129Z",
     "shell.execute_reply": "2022-06-15T10:46:21.345430Z"
    },
    "id": "42tYEBVwimQy",
    "papermill": {
     "duration": 0.028023,
     "end_time": "2022-06-15T10:46:21.348095",
     "exception": false,
     "start_time": "2022-06-15T10:46:21.320072",
     "status": "completed"
    },
    "tags": []
   },
   "outputs": [],
   "source": [
    "# scatterplot the y_pred and y_actual, display the MSE, theta\n",
    "def plot_pred_actual(theta,X_test,y_test):\n",
    "  num_of_pt=y_test.size\n",
    "  y_test_pred=np.matmul(X_test,theta.T)\n",
    "  mse=mean_squared_error(y_test,y_test_pred)\n",
    "  # plot the graph\n",
    "  fig, ax1 = plt.subplots(1,1,constrained_layout=True)\n",
    "  sns.scatterplot(x=y_test_pred,y=y_test,ax=ax1)\n",
    "  xpoints = ypoints = plt.xlim()\n",
    "  plt.plot(xpoints, ypoints, linestyle='--', color='k')\n",
    "  ax1.set_xlabel('y_pred')\n",
    "  ax1.set_ylabel('y_actual')\n",
    "  ax1.text(0,0.92,f'The MSE = {mse}',transform=ax1.transAxes)\n",
    "  ax1.text(0,0.85,f'The num of Point = {num_of_pt}',transform=ax1.transAxes)\n",
    "  return mse"
   ]
  },
  {
   "cell_type": "code",
   "execution_count": 10,
   "id": "b6837944",
   "metadata": {
    "execution": {
     "iopub.execute_input": "2022-06-15T10:46:21.384694Z",
     "iopub.status.busy": "2022-06-15T10:46:21.384211Z",
     "iopub.status.idle": "2022-06-15T10:46:21.560008Z",
     "shell.execute_reply": "2022-06-15T10:46:21.559428Z"
    },
    "id": "D1KwmGwjesEc",
    "outputId": "7d55b609-ed31-4321-e87c-f25aa6ec1a27",
    "papermill": {
     "duration": 0.197697,
     "end_time": "2022-06-15T10:46:21.563098",
     "exception": false,
     "start_time": "2022-06-15T10:46:21.365401",
     "status": "completed"
    },
    "tags": []
   },
   "outputs": [
    {
     "data": {
      "image/png": "[encoded data removed]",
      "text/plain": [
       "<Figure size 432x288 with 1 Axes>"
      ]
     },
     "metadata": {
      "needs_background": "light"
     },
     "output_type": "display_data"
    }
   ],
   "source": [
    "# test set result\n",
    "mse_GD=plot_pred_actual(theta,X_test,y_test)\n"
   ]
  },
  {
   "cell_type": "markdown",
   "id": "1bc94462",
   "metadata": {
    "id": "DntjKw0SvvCO",
    "papermill": {
     "duration": 0.018498,
     "end_time": "2022-06-15T10:46:21.608532",
     "exception": false,
     "start_time": "2022-06-15T10:46:21.590034",
     "status": "completed"
    },
    "tags": []
   },
   "source": [
    "## Compare to sklearn package : linear_model.LinearRegression\n",
    "\n",
    "* sklearn linear_model web link: https://scikit-learn.org/stable/modules/generated/sklearn.linear_model.LinearRegression.html#sklearn.linear_model.LinearRegression"
   ]
  },
  {
   "cell_type": "code",
   "execution_count": 11,
   "id": "0495be2e",
   "metadata": {
    "execution": {
     "iopub.execute_input": "2022-06-15T10:46:21.647810Z",
     "iopub.status.busy": "2022-06-15T10:46:21.647486Z",
     "iopub.status.idle": "2022-06-15T10:46:21.972760Z",
     "shell.execute_reply": "2022-06-15T10:46:21.971862Z"
    },
    "id": "5MP0ANzktEK9",
    "outputId": "d9a7d908-3ee4-4443-d15e-79a89313bfc5",
    "papermill": {
     "duration": 0.347859,
     "end_time": "2022-06-15T10:46:21.975163",
     "exception": false,
     "start_time": "2022-06-15T10:46:21.627304",
     "status": "completed"
    },
    "tags": []
   },
   "outputs": [
    {
     "data": {
      "image/png": "[encoded data removed]",
      "text/plain": [
       "<Figure size 432x288 with 1 Axes>"
      ]
     },
     "metadata": {
      "needs_background": "light"
     },
     "output_type": "display_data"
    }
   ],
   "source": [
    "from sklearn import linear_model\n",
    "# Create linear regression object\n",
    "regr = linear_model.LinearRegression(fit_intercept=False)\n",
    "\n",
    "# Train the model using the training sets\n",
    "regr.fit(X_train,y_train)\n",
    "\n",
    "# plot the y_test - y_actual for scikit regr model\n",
    "mse_sklearn_OLS=plot_pred_actual(theta=regr.coef_,\n",
    "                 X_test=X_test,\n",
    "                 y_test=y_test)"
   ]
  },
  {
   "cell_type": "markdown",
   "id": "441862b8",
   "metadata": {
    "id": "xZRhjSjKkMeF",
    "papermill": {
     "duration": 0.020334,
     "end_time": "2022-06-15T10:46:22.015229",
     "exception": false,
     "start_time": "2022-06-15T10:46:21.994895",
     "status": "completed"
    },
    "tags": []
   },
   "source": [
    "# Stochastic Gradient Descent\n",
    "\n",
    "![link text](https://yyqing.me/2017/2017-08-10/batch-vs-stochastic.png)"
   ]
  },
  {
   "cell_type": "code",
   "execution_count": 12,
   "id": "37769c95",
   "metadata": {
    "execution": {
     "iopub.execute_input": "2022-06-15T10:46:22.055627Z",
     "iopub.status.busy": "2022-06-15T10:46:22.055142Z",
     "iopub.status.idle": "2022-06-15T10:46:22.060285Z",
     "shell.execute_reply": "2022-06-15T10:46:22.059726Z"
    },
    "id": "BYdqShU-niG9",
    "papermill": {
     "duration": 0.027576,
     "end_time": "2022-06-15T10:46:22.062022",
     "exception": false,
     "start_time": "2022-06-15T10:46:22.034446",
     "status": "completed"
    },
    "tags": []
   },
   "outputs": [],
   "source": [
    "# function for: define cost function ; calculate the gradient\n",
    "def SGD_cost_function(X,theta,y,lam):\n",
    "  m=y.size\n",
    "  y_pred=X@theta\n",
    "  error=y_pred-y\n",
    "  cost = 0.5  * np.dot(error.T, error) * (1/m) + lam*LA.norm(theta, 2)\n",
    "  return cost"
   ]
  },
  {
   "cell_type": "code",
   "execution_count": 13,
   "id": "a536311e",
   "metadata": {
    "execution": {
     "iopub.execute_input": "2022-06-15T10:46:22.102916Z",
     "iopub.status.busy": "2022-06-15T10:46:22.102398Z",
     "iopub.status.idle": "2022-06-15T10:46:22.108570Z",
     "shell.execute_reply": "2022-06-15T10:46:22.108019Z"
    },
    "id": "3ERgTx7vsJhl",
    "papermill": {
     "duration": 0.02869,
     "end_time": "2022-06-15T10:46:22.110303",
     "exception": false,
     "start_time": "2022-06-15T10:46:22.081613",
     "status": "completed"
    },
    "tags": []
   },
   "outputs": [],
   "source": [
    "# function for: using iteration calculate theta\n",
    "def SGD(X, y, alpha, iters,lam):\n",
    "  cost_array={}\n",
    "  m,n=X.shape\n",
    "  theta=np.zeros(n)\n",
    "  # SGD_gradient\n",
    "  for iter in range(iters):\n",
    "    # for each point\n",
    "    for i in range(m):\n",
    "      SGD_grad=(X[i,:]@theta-y[i])*X[i,:]+lam*theta\n",
    "      theta=theta-alpha*SGD_grad\n",
    "      cost=SGD_cost_function(X,theta,y,lam)\n",
    "      cost_array[iter]=cost\n",
    "  return theta, cost_array"
   ]
  },
  {
   "cell_type": "code",
   "execution_count": 14,
   "id": "1bd4afb8",
   "metadata": {
    "execution": {
     "iopub.execute_input": "2022-06-15T10:46:22.151763Z",
     "iopub.status.busy": "2022-06-15T10:46:22.151438Z",
     "iopub.status.idle": "2022-06-15T10:46:25.344623Z",
     "shell.execute_reply": "2022-06-15T10:46:25.343660Z"
    },
    "id": "nA1o0Ltz3_Qq",
    "papermill": {
     "duration": 3.217018,
     "end_time": "2022-06-15T10:46:25.347078",
     "exception": false,
     "start_time": "2022-06-15T10:46:22.130060",
     "status": "completed"
    },
    "tags": []
   },
   "outputs": [],
   "source": [
    "theta_SGD,cost_SGD=SGD(X=X_train, y=y_train,\n",
    "                       alpha=0.001, \n",
    "                       iters=500,\n",
    "                       lam=0.01)"
   ]
  },
  {
   "cell_type": "code",
   "execution_count": 15,
   "id": "cbca625f",
   "metadata": {
    "execution": {
     "iopub.execute_input": "2022-06-15T10:46:25.388447Z",
     "iopub.status.busy": "2022-06-15T10:46:25.387899Z",
     "iopub.status.idle": "2022-06-15T10:46:25.818682Z",
     "shell.execute_reply": "2022-06-15T10:46:25.817787Z"
    },
    "id": "11mF53D15ORu",
    "outputId": "25f45b39-f60a-49ff-a16f-0c9ebe92b99c",
    "papermill": {
     "duration": 0.453696,
     "end_time": "2022-06-15T10:46:25.820586",
     "exception": false,
     "start_time": "2022-06-15T10:46:25.366890",
     "status": "completed"
    },
    "tags": []
   },
   "outputs": [
    {
     "data": {
      "image/png": "[encoded data removed]",
      "text/plain": [
       "<Figure size 432x288 with 1 Axes>"
      ]
     },
     "metadata": {
      "needs_background": "light"
     },
     "output_type": "display_data"
    },
    {
     "data": {
      "image/png": "[encoded data removed]",
      "text/plain": [
       "<Figure size 432x288 with 1 Axes>"
      ]
     },
     "metadata": {
      "needs_background": "light"
     },
     "output_type": "display_data"
    }
   ],
   "source": [
    "# display the cost along the iters\n",
    "plot_cost_iter(cost_SGD)\n",
    "\n",
    "# plot the y_test - y_actual\n",
    "mse_SGD=plot_pred_actual(theta=theta_SGD,\n",
    "                 X_test=X_test,\n",
    "                 y_test=y_test)\n"
   ]
  },
  {
   "cell_type": "markdown",
   "id": "407f05b4",
   "metadata": {
    "id": "G9kjNv0znfZu",
    "papermill": {
     "duration": 0.021225,
     "end_time": "2022-06-15T10:46:25.864308",
     "exception": false,
     "start_time": "2022-06-15T10:46:25.843083",
     "status": "completed"
    },
    "tags": []
   },
   "source": [
    "## Sklearn SGD Package"
   ]
  },
  {
   "cell_type": "code",
   "execution_count": 16,
   "id": "5478d8dc",
   "metadata": {
    "execution": {
     "iopub.execute_input": "2022-06-15T10:46:25.909319Z",
     "iopub.status.busy": "2022-06-15T10:46:25.908589Z",
     "iopub.status.idle": "2022-06-15T10:46:26.158127Z",
     "shell.execute_reply": "2022-06-15T10:46:26.157510Z"
    },
    "id": "Yx7g3zHZ8xeu",
    "outputId": "646d00eb-3629-446f-8df9-3b008dc3dee0",
    "papermill": {
     "duration": 0.274018,
     "end_time": "2022-06-15T10:46:26.159840",
     "exception": false,
     "start_time": "2022-06-15T10:46:25.885822",
     "status": "completed"
    },
    "tags": []
   },
   "outputs": [
    {
     "data": {
      "image/png": "[encoded data removed]",
      "text/plain": [
       "<Figure size 432x288 with 1 Axes>"
      ]
     },
     "metadata": {
      "needs_background": "light"
     },
     "output_type": "display_data"
    }
   ],
   "source": [
    "from sklearn.linear_model import SGDRegressor\n",
    "\n",
    "# SGD to fit the X_train\n",
    "reg_SGD = SGDRegressor(max_iter=1500, tol=1e-3,fit_intercept=False)\n",
    "reg_SGD.fit(X_train, y_train)\n",
    "\n",
    "# plot the result on X_test\n",
    "mse_sklearn_SGD=plot_pred_actual(theta=reg_SGD.coef_,\n",
    "                 X_test=X_test,\n",
    "                 y_test=y_test)"
   ]
  },
  {
   "cell_type": "markdown",
   "id": "2de696d9",
   "metadata": {
    "id": "qkqSSw656DFm",
    "papermill": {
     "duration": 0.02232,
     "end_time": "2022-06-15T10:46:26.204680",
     "exception": false,
     "start_time": "2022-06-15T10:46:26.182360",
     "status": "completed"
    },
    "tags": []
   },
   "source": [
    "# Compare Model MSE for our created(own) algorithm VS sklearn\n",
    "* own - Gradient Descent\n",
    "* sklearn OLS (GD)\n",
    "* own - Stochastic Gradient Descent\n",
    "* sklearn SGD"
   ]
  },
  {
   "cell_type": "code",
   "execution_count": 17,
   "id": "91e6e614",
   "metadata": {
    "execution": {
     "iopub.execute_input": "2022-06-15T10:46:26.252034Z",
     "iopub.status.busy": "2022-06-15T10:46:26.251165Z",
     "iopub.status.idle": "2022-06-15T10:46:26.436365Z",
     "shell.execute_reply": "2022-06-15T10:46:26.435513Z"
    },
    "id": "Pbzg_DfBl9lB",
    "outputId": "fbfb9f55-24ac-44f3-d189-c3fd916e6535",
    "papermill": {
     "duration": 0.211046,
     "end_time": "2022-06-15T10:46:26.438263",
     "exception": false,
     "start_time": "2022-06-15T10:46:26.227217",
     "status": "completed"
    },
    "tags": []
   },
   "outputs": [
    {
     "data": {
      "text/plain": [
       "Text(0.5, 1.0, 'MSE Compare on X_test')"
      ]
     },
     "execution_count": 17,
     "metadata": {},
     "output_type": "execute_result"
    },
    {
     "data": {
      "image/png": "[encoded data removed]",
      "text/plain": [
       "<Figure size 432x288 with 1 Axes>"
      ]
     },
     "metadata": {
      "needs_background": "light"
     },
     "output_type": "display_data"
    }
   ],
   "source": [
    "# compare the mse for our gradient descent regression VS sklearn package\n",
    "fig=sns.barplot(x=[mse_GD,mse_sklearn_OLS,mse_SGD,mse_sklearn_SGD],\n",
    "                y=['own - GD','sklearn - GD','own - SGD','sklearn - SGD'])\n",
    "fig.set_title('MSE Compare on X_test')"
   ]
  }
 ],
 "metadata": {
  "kernelspec": {
   "display_name": "Python 3",
   "language": "python",
   "name": "python3"
  },
  "language_info": {
   "codemirror_mode": {
    "name": "ipython",
    "version": 3
   },
   "file_extension": ".py",
   "mimetype": "text/x-python",
   "name": "python",
   "nbconvert_exporter": "python",
   "pygments_lexer": "ipython3",
   "version": "3.7.12"
  },
  "papermill": {
   "default_parameters": {},
   "duration": 16.152165,
   "end_time": "2022-06-15T10:46:27.285676",
   "environment_variables": {},
   "exception": null,
   "input_path": "__notebook__.ipynb",
   "output_path": "__notebook__.ipynb",
   "parameters": {},
   "start_time": "2022-06-15T10:46:11.133511",
   "version": "2.3.4"
  }
 },
 "nbformat": 4,
 "nbformat_minor": 5
}
