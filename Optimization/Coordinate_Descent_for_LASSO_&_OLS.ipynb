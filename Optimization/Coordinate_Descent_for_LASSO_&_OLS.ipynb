{
  "cells": [
    {
      "cell_type": "markdown",
      "id": "f8b4054d",
      "metadata": {
        "id": "f8b4054d",
        "papermill": {
          "duration": 0.026683,
          "end_time": "2022-05-26T04:29:36.565127",
          "exception": false,
          "start_time": "2022-05-26T04:29:36.538444",
          "status": "completed"
        },
        "tags": []
      },
      "source": [
        "# Coordinate Descent Inplementation for LASSO \n",
        "\n",
        "Following Reference inspired me to replicate his method in Boston Dataset:\n",
        "https://www.kaggle.com/code/mcweng24/lasso-regression-using-numpy/notebook\n",
        "\n",
        "\n",
        "\n",
        "*   Load Dataset\n",
        "*   Initialize Parameters\n",
        "  * Lasso Cost Function and Partial Derivatives\n",
        "*   Coordinate Descent Algorithm Intuition\n",
        "*   Coordinate Descent for --- LASSO\n",
        "*   Coordinate Descent for --- OLS\n",
        "*   How our Coordinate LASSO & OLS Performed Compare to Sklearn Package\n",
        "\n",
        "\n",
        "\n",
        "\n"
      ]
    },
    {
      "cell_type": "code",
      "execution_count": 1,
      "id": "94fa65f2",
      "metadata": {
        "execution": {
          "iopub.execute_input": "2022-05-26T04:29:36.619858Z",
          "iopub.status.busy": "2022-05-26T04:29:36.619505Z",
          "iopub.status.idle": "2022-05-26T04:29:37.942490Z",
          "shell.execute_reply": "2022-05-26T04:29:37.941324Z"
        },
        "id": "94fa65f2",
        "papermill": {
          "duration": 1.35366,
          "end_time": "2022-05-26T04:29:37.945289",
          "exception": false,
          "start_time": "2022-05-26T04:29:36.591629",
          "status": "completed"
        },
        "tags": []
      },
      "outputs": [],
      "source": [
        "import numpy as np\n",
        "import pandas as pd\n",
        "import seaborn as sns\n",
        "import matplotlib.pyplot as plt\n",
        "from sklearn.metrics import mean_squared_error\n",
        "from numpy import linalg as LA\n",
        "import warnings\n",
        "warnings.filterwarnings('ignore')"
      ]
    },
    {
      "cell_type": "markdown",
      "id": "d48120a7",
      "metadata": {
        "id": "d48120a7",
        "papermill": {
          "duration": 0.025068,
          "end_time": "2022-05-26T04:29:37.996126",
          "exception": false,
          "start_time": "2022-05-26T04:29:37.971058",
          "status": "completed"
        },
        "tags": []
      },
      "source": [
        "# Load Dataset (Boston)"
      ]
    },
    {
      "cell_type": "code",
      "execution_count": 2,
      "id": "18975d8c",
      "metadata": {
        "execution": {
          "iopub.execute_input": "2022-05-26T04:29:38.048973Z",
          "iopub.status.busy": "2022-05-26T04:29:38.048510Z",
          "iopub.status.idle": "2022-05-26T04:29:38.140397Z",
          "shell.execute_reply": "2022-05-26T04:29:38.139634Z"
        },
        "id": "18975d8c",
        "papermill": {
          "duration": 0.120774,
          "end_time": "2022-05-26T04:29:38.142783",
          "exception": false,
          "start_time": "2022-05-26T04:29:38.022009",
          "status": "completed"
        },
        "tags": []
      },
      "outputs": [],
      "source": [
        "from sklearn.datasets import load_boston\n",
        "X, y = load_boston(return_X_y=True)"
      ]
    },
    {
      "cell_type": "code",
      "execution_count": 3,
      "id": "3f64ff3c",
      "metadata": {
        "execution": {
          "iopub.execute_input": "2022-05-26T04:29:38.195426Z",
          "iopub.status.busy": "2022-05-26T04:29:38.195155Z",
          "iopub.status.idle": "2022-05-26T04:29:38.212321Z",
          "shell.execute_reply": "2022-05-26T04:29:38.211661Z"
        },
        "id": "3f64ff3c",
        "papermill": {
          "duration": 0.046144,
          "end_time": "2022-05-26T04:29:38.214614",
          "exception": false,
          "start_time": "2022-05-26T04:29:38.168470",
          "status": "completed"
        },
        "tags": []
      },
      "outputs": [],
      "source": [
        "# train test split\n",
        "from sklearn.model_selection import train_test_split\n",
        "X_train, X_test, y_train, y_test = train_test_split(X, y, test_size=0.33, random_state=42)"
      ]
    },
    {
      "cell_type": "code",
      "execution_count": 4,
      "id": "33acc486",
      "metadata": {
        "execution": {
          "iopub.execute_input": "2022-05-26T04:29:38.267279Z",
          "iopub.status.busy": "2022-05-26T04:29:38.266619Z",
          "iopub.status.idle": "2022-05-26T04:29:38.275202Z",
          "shell.execute_reply": "2022-05-26T04:29:38.274584Z"
        },
        "id": "33acc486",
        "papermill": {
          "duration": 0.037309,
          "end_time": "2022-05-26T04:29:38.277348",
          "exception": false,
          "start_time": "2022-05-26T04:29:38.240039",
          "status": "completed"
        },
        "tags": []
      },
      "outputs": [],
      "source": [
        "# standard sclaer\n",
        "from sklearn.preprocessing import StandardScaler\n",
        "def std_scaler(X_train,X_test):\n",
        "  scaler = StandardScaler()\n",
        "  scaler.fit(X_train)\n",
        "  X_train_scale=scaler.transform(X_train)\n",
        "  X_test_scale=scaler.transform(X_test)\n",
        "  # add a column of 1 for X\n",
        "  X_train_scale=np.append(np.ones(shape=(X_train.shape[0],1)),X_train_scale,axis=1)\n",
        "  X_test_scale=np.append(np.ones(shape=(X_test.shape[0],1)),X_test_scale,axis=1)\n",
        "  return X_train_scale, X_test_scale\n",
        "\n",
        "X_train,X_test=std_scaler(X_train,X_test)"
      ]
    },
    {
      "cell_type": "markdown",
      "id": "64f93a19",
      "metadata": {
        "id": "64f93a19",
        "papermill": {
          "duration": 0.025049,
          "end_time": "2022-05-26T04:29:38.327797",
          "exception": false,
          "start_time": "2022-05-26T04:29:38.302748",
          "status": "completed"
        },
        "tags": []
      },
      "source": [
        "# Initialize Parameters"
      ]
    },
    {
      "cell_type": "code",
      "execution_count": 54,
      "id": "7d6c972e",
      "metadata": {
        "execution": {
          "iopub.execute_input": "2022-05-26T04:29:38.380711Z",
          "iopub.status.busy": "2022-05-26T04:29:38.380420Z",
          "iopub.status.idle": "2022-05-26T04:29:38.385214Z",
          "shell.execute_reply": "2022-05-26T04:29:38.384558Z"
        },
        "id": "7d6c972e",
        "papermill": {
          "duration": 0.034076,
          "end_time": "2022-05-26T04:29:38.387228",
          "exception": false,
          "start_time": "2022-05-26T04:29:38.353152",
          "status": "completed"
        },
        "tags": []
      },
      "outputs": [],
      "source": [
        " # Set hyperparameters\n",
        "alpha = 0.2\n",
        "iterations = 100\n",
        "tolerance = 0.00001\n",
        "\n",
        "# Initialize Theta Values to 0\n",
        "w= np.zeros(X_train.shape[1],dtype=float)\n"
      ]
    },
    {
      "cell_type": "markdown",
      "id": "59f6bd37",
      "metadata": {
        "papermill": {
          "duration": 0.025492,
          "end_time": "2022-05-26T04:29:38.439875",
          "exception": false,
          "start_time": "2022-05-26T04:29:38.414383",
          "status": "completed"
        },
        "tags": [],
        "id": "59f6bd37"
      },
      "source": [
        "## The LASSO Cost Funnction and it's Partial Derivatives\n",
        "\n",
        "$$ L(w) = \\frac{1}{2N}\\left(\\sum_{i=1}^n (y^{(i)} - \\tilde{w} \\cdot \\tilde{x}^{(i)})^2\\right) + α\\left(\\sum_{j=1}^d |w_j|\\right)= MSE + α * norm |w|$$\n",
        "\n",
        "\n",
        "* **So, To Minimize the L(w),find the Partial Derivative 𝜕L(w)/𝜕 w Separately**\n",
        "\n",
        "$$ \\frac{𝜕L(w)}{𝜕w_j} = 𝜕 MSE  /  𝜕 w_j  +  𝜕 (α * norm |w| )  /  𝜕 w_j  $$\n",
        "\n",
        "* **First , 𝜕 MSE  /  𝜕 w_j**\n",
        "\n",
        "$$ \\frac{𝜕 MSE}{𝜕w_j} = \\frac{1}{N}\\left(\\sum_{i=1}^n (-\\tilde{x}^{(i)}_j)(y^{(i)} - \\left(\\sum_{k≠j}^n \\tilde{w}_k \\cdot \\tilde{x}^{(i)}_k\\right)) \\right) + \\frac{1}{N}\\tilde{w}_j\\left(\\sum_{i=1}^n \\tilde{x}^{(i)}_j \\right)^2 = \\frac{-1}{N}ρ_j + \\frac{1}{N}\\tilde{w}_jz_j    $$\n",
        "\n",
        "        * Where , ρ_j, z_j defined for simplfying the equation\n",
        "    \n",
        "$$ ρ_j = \\left(\\sum_{i=1}^n (\\tilde{x}^{(i)}_j)(y^{(i)} - \\left(\\sum_{k≠j}^n \\tilde{w}_k \\cdot \\tilde{x}^{(i)}_k\\right)) \\right)$$\n",
        "\n",
        "$$ z_j = \\left(\\sum_{i=1}^n \\tilde{x}^{(i)}_j \\right)^2$$\n",
        "\n",
        "\n",
        "* **Secondly , 𝜕 (α * norm |w| )  /  𝜕 w_j**\n",
        "\n",
        "$$α\\frac{𝜕|w_j|}{𝜕w_j} = \n",
        "    \\begin{cases}\n",
        "        -α & \\text{when $w_j$ < 0}\\\\\n",
        "        [-α,α] & \\text{when $w_j$ = 0}\\\\\n",
        "        α & \\text{when $w_j$ > 0}\\\\\n",
        "    \\end{cases}\n",
        "$$\n",
        "\n",
        "* **Put First and Second together and Make it 0, to calculate the w_j**\n",
        "\n",
        "$$\n",
        "\\frac{𝜕L(w)}{𝜕w_j} = \\frac{-1}{N}ρ_j + \\frac{1}{N}\\tilde{w}_jz_j + \n",
        "    \\begin{cases}\n",
        "        -α & \\text{when $w_j$ < 0}\\\\\n",
        "        [-α,α] & \\text{when $w_j$ = 0}\\\\\n",
        "        α & \\text{when $w_j$ > 0}\\\\\n",
        "    \\end{cases}=0\n",
        "$$\n",
        "\n",
        "\n",
        "* **The w_j Solution**\n",
        "\n",
        "$$ w_j = \n",
        "    \\begin{cases}\n",
        "        \\frac{ρ_j + Nα}{z_j} & \\text{if $ρ_j$ < -Nα}\\\\\n",
        "        0 & \\text{if -Nα ≤ $ρ_j$ ≤ Nα }\\\\\n",
        "        \\frac{ρ_j - Nα}{z_j} & \\text{if $ρ_j$ > Nα}\\\\\n",
        "    \\end{cases}\n",
        "$$"
      ]
    },
    {
      "cell_type": "markdown",
      "id": "f9e0d7bd",
      "metadata": {
        "id": "f9e0d7bd",
        "papermill": {
          "duration": 0.025168,
          "end_time": "2022-05-26T04:29:38.490389",
          "exception": false,
          "start_time": "2022-05-26T04:29:38.465221",
          "status": "completed"
        },
        "tags": []
      },
      "source": [
        "# Coordinate Descent Algorithm\n",
        "\n",
        "**1. Pre-compute z_j:**\n",
        "$$ z_j = \\left(\\sum_{i=1}^n \\tilde{x}^{(i)}_j \\right)^2$$\n",
        "          * z_j = np.dot(X_j,X_j)\n",
        "\n",
        "**2. Initialise the $\\tilde{w}$ to be a zero vector**\n",
        "\n",
        "          * w= np.zeros(X_train.shape[1],dtype=float)\n",
        "\n",
        "**3. Initialise the maximum step parameter and tolerance level**\n",
        "\n",
        "**4. While the algorithm has not converged**\n",
        "\n",
        "> For j = 0,1,...,D\n",
        ">> Compute:\n",
        "\n",
        "$$ ρ_j = \\left(\\sum_{i=1}^n (\\tilde{x}^{(i)}_j)(y^{(i)} - \\left(\\sum_{k≠j}^n \\tilde{w}_k \\cdot \\tilde{x}^{(i)}_k\\right)) \\right)$$\n",
        "\n",
        "        * rho_j = np.dot(X_j,residual)\n",
        "        * residual = y - np.matmul(X_k, w_k.T)\n",
        "\n",
        ">> If j = 0\n",
        "$$ w_j = \\frac{ρ_j}{z_j}$$\n",
        ">> Else\n",
        "$$ w_j = \n",
        "    \\begin{cases}\n",
        "        \\frac{ρ_j + Nα}{z_j} & \\text{if $ρ_j$ < -Nα}\\\\\n",
        "        0 & \\text{if -Nα ≤ $ρ_j$ ≤ Nα }\\\\\n",
        "        \\frac{ρ_j - Nα}{z_j} & \\text{if $ρ_j$ > Nα}\\\\\n",
        "    \\end{cases}\n",
        "$$\n",
        "\n",
        "      * N, d = X_train.shape\n",
        "        * N = num of points\n",
        "        * d = num of features"
      ]
    },
    {
      "cell_type": "markdown",
      "id": "ba0e40ca",
      "metadata": {
        "id": "ba0e40ca",
        "papermill": {
          "duration": 0.025055,
          "end_time": "2022-05-26T04:29:38.540828",
          "exception": false,
          "start_time": "2022-05-26T04:29:38.515773",
          "status": "completed"
        },
        "tags": []
      },
      "source": [
        "# Sub Functions to Implement Coordinate Descent\n",
        "\n",
        "* cost function\n",
        "* rho_j\n",
        "* z_j\n",
        "* coordinate_descent"
      ]
    },
    {
      "cell_type": "markdown",
      "source": [
        "# Coordinate Descent for LASSO"
      ],
      "metadata": {
        "id": "ANAdgodl2Zmh"
      },
      "id": "ANAdgodl2Zmh"
    },
    {
      "cell_type": "code",
      "execution_count": 55,
      "id": "c4ce88bf",
      "metadata": {
        "execution": {
          "iopub.execute_input": "2022-05-26T04:29:38.593581Z",
          "iopub.status.busy": "2022-05-26T04:29:38.593278Z",
          "iopub.status.idle": "2022-05-26T04:29:38.598401Z",
          "shell.execute_reply": "2022-05-26T04:29:38.597622Z"
        },
        "id": "c4ce88bf",
        "papermill": {
          "duration": 0.033716,
          "end_time": "2022-05-26T04:29:38.600365",
          "exception": false,
          "start_time": "2022-05-26T04:29:38.566649",
          "status": "completed"
        },
        "tags": []
      },
      "outputs": [],
      "source": [
        "# function for: define cost function ; calculate the gradient\n",
        "## alpha = shrinkage factor\n",
        "def cost_function_lasso(X,w,y,alpha):\n",
        "  n=y.size\n",
        "  y_pred=np.matmul(X,w.T)\n",
        "  error=y_pred-y\n",
        "  theta_norm=LA.norm(w,ord=1)\n",
        "  cost = np.dot(error.T, error)+alpha*theta_norm\n",
        "  return cost"
      ]
    },
    {
      "cell_type": "code",
      "execution_count": 56,
      "id": "d8abc33f",
      "metadata": {
        "execution": {
          "iopub.execute_input": "2022-05-26T04:29:38.653332Z",
          "iopub.status.busy": "2022-05-26T04:29:38.653071Z",
          "iopub.status.idle": "2022-05-26T04:29:38.659103Z",
          "shell.execute_reply": "2022-05-26T04:29:38.658291Z"
        },
        "id": "d8abc33f",
        "papermill": {
          "duration": 0.034558,
          "end_time": "2022-05-26T04:29:38.660952",
          "exception": false,
          "start_time": "2022-05-26T04:29:38.626394",
          "status": "completed"
        },
        "tags": []
      },
      "outputs": [],
      "source": [
        "def compute_rho_j(X,y,w,j):\n",
        "  X_k = np.delete(X,j,axis=1) #Remove the j variable i.e. j column\n",
        "  w_k = np.delete(w,j) #Remove the weight j\n",
        "  predict = np.matmul(X_k, w_k.T)\n",
        "  residual = y - predict\n",
        "  X_j=X[:,j] # m*1 vector\n",
        "  rho_j = np.dot(X_j,residual)\n",
        "  return(rho_j)"
      ]
    },
    {
      "cell_type": "code",
      "execution_count": 57,
      "id": "a1240e4c",
      "metadata": {
        "execution": {
          "iopub.execute_input": "2022-05-26T04:29:38.713198Z",
          "iopub.status.busy": "2022-05-26T04:29:38.712912Z",
          "iopub.status.idle": "2022-05-26T04:29:38.717452Z",
          "shell.execute_reply": "2022-05-26T04:29:38.716600Z"
        },
        "id": "a1240e4c",
        "papermill": {
          "duration": 0.033195,
          "end_time": "2022-05-26T04:29:38.719537",
          "exception": false,
          "start_time": "2022-05-26T04:29:38.686342",
          "status": "completed"
        },
        "tags": []
      },
      "outputs": [],
      "source": [
        "#z computation for unnormalised features\n",
        "def compute_z_j(X,j):\n",
        "  X_j=X[:,j]\n",
        "  z_j = np.dot(X_j,X_j) #Compute sum for each column\n",
        "  return(z_j)"
      ]
    },
    {
      "cell_type": "code",
      "execution_count": 58,
      "id": "9ec4f366",
      "metadata": {
        "execution": {
          "iopub.execute_input": "2022-05-26T04:29:38.771636Z",
          "iopub.status.busy": "2022-05-26T04:29:38.771352Z",
          "iopub.status.idle": "2022-05-26T04:29:38.782137Z",
          "shell.execute_reply": "2022-05-26T04:29:38.781228Z"
        },
        "id": "9ec4f366",
        "papermill": {
          "duration": 0.039618,
          "end_time": "2022-05-26T04:29:38.784419",
          "exception": false,
          "start_time": "2022-05-26T04:29:38.744801",
          "status": "completed"
        },
        "tags": []
      },
      "outputs": [],
      "source": [
        "def coordinate_descent_lasso(y,X,w,alpha,tolerance):\n",
        "    max_step = 100.\n",
        "    iteration = 0\n",
        "    N,d=X.shape # N=num of point ; d=num of features\n",
        "    cost_diff=1\n",
        "    cost_array={}\n",
        "    while(cost_diff > tolerance):\n",
        "        iteration += 1\n",
        "        #print(\"Iteration (start) : \",iteration)\n",
        "        cost_old=cost_function_lasso(X,w,y,alpha)\n",
        "\n",
        "        for j in range(d): #Take the number of features ie columns\n",
        "            rho_j = compute_rho_j(X,y,w,j)\n",
        "            z_j=compute_z_j(X,j)\n",
        "            if j == 0: #Intercept is not included with the alpha regularisation\n",
        "                w[j] = rho_j/z_j\n",
        "            elif rho_j < -alpha*N:\n",
        "                w[j] = (rho_j + (alpha*N))/z_j\n",
        "            elif rho_j > -alpha*N and rho_j < alpha*N:\n",
        "                w[j] = 0\n",
        "            elif rho_j > alpha*N:\n",
        "                w[j] = (rho_j - (alpha*N))/z_j\n",
        "            else:\n",
        "                w[j] = np.NaN\n",
        "        # update the cost function\n",
        "        cost_new=cost_function_lasso(X,w,y,alpha)\n",
        "        cost_array[iteration]=cost_new\n",
        "        cost_diff=abs(cost_new-cost_old)\n",
        "        \n",
        "    print(w)\n",
        "    return w, iteration, cost_array"
      ]
    },
    {
      "cell_type": "code",
      "execution_count": 59,
      "id": "79ad70fc",
      "metadata": {
        "execution": {
          "iopub.execute_input": "2022-05-26T04:29:38.837155Z",
          "iopub.status.busy": "2022-05-26T04:29:38.836851Z",
          "iopub.status.idle": "2022-05-26T04:29:38.873963Z",
          "shell.execute_reply": "2022-05-26T04:29:38.873374Z"
        },
        "id": "79ad70fc",
        "outputId": "59c574e3-4fee-47bf-de97-d7838a6f0419",
        "papermill": {
          "duration": 0.066196,
          "end_time": "2022-05-26T04:29:38.876160",
          "exception": false,
          "start_time": "2022-05-26T04:29:38.809964",
          "status": "completed"
        },
        "tags": [],
        "colab": {
          "base_uri": "https://localhost:8080/"
        }
      },
      "outputs": [
        {
          "output_type": "stream",
          "name": "stdout",
          "text": [
            "[22.97079646 -0.39948163  0.1892843   0.          0.82759114 -0.80309358\n",
            "  2.93205242  0.         -1.5002346   0.          0.         -1.70669261\n",
            "  0.83142358 -4.01081814]\n"
          ]
        }
      ],
      "source": [
        "# run the coordinate descent for our train set\n",
        "w_cd_lasso,iter_lasso,cost_array_lasso=coordinate_descent_lasso(y_train,X_train,w,alpha,tolerance)"
      ]
    },
    {
      "cell_type": "code",
      "source": [
        "# function for: display the cost-iter trend\n",
        "def plot_cost_iter(cost_array):\n",
        "  iters=cost_array.keys()\n",
        "  cost=cost_array.values()\n",
        "  fig=sns.scatterplot(x=iters,y=cost)\n",
        "  fig.set_xlabel('iters')\n",
        "  fig.set_ylabel('cost')\n",
        "  return fig\n",
        "\n",
        "# display\n",
        "fig_lasso=plot_cost_iter(cost_array_lasso)\n",
        "fig_lasso"
      ],
      "metadata": {
        "colab": {
          "base_uri": "https://localhost:8080/",
          "height": 300
        },
        "id": "bpCLFiUw5UK7",
        "outputId": "4e48652e-24fe-41c5-fa48-1956ce2dfe59"
      },
      "id": "bpCLFiUw5UK7",
      "execution_count": 60,
      "outputs": [
        {
          "output_type": "execute_result",
          "data": {
            "text/plain": [
              "<matplotlib.axes._subplots.AxesSubplot at 0x7f254842c850>"
            ]
          },
          "metadata": {},
          "execution_count": 60
        },
        {
          "output_type": "display_data",
          "data": {
            "text/plain": [
              "<Figure size 432x288 with 1 Axes>"
            ],
            "image/png": "[encoded data removed]"
          },
          "metadata": {
            "needs_background": "light"
          }
        }
      ]
    },
    {
      "cell_type": "markdown",
      "source": [
        "# Coordinate Descent for OLS (Ordinary Least Squares)\n",
        "\n",
        "* **For OLS , 𝜕 L(w)  /  𝜕 w_j**\n",
        "\n",
        "$$ \\frac{𝜕 L}{𝜕w_j} = \\frac{1}{N}\\left(\\sum_{i=1}^n (-\\tilde{x}^{(i)}_j)(y^{(i)} - \\left(\\sum_{k≠j}^n \\tilde{w}_k \\cdot \\tilde{x}^{(i)}_k\\right)) \\right) + \\frac{1}{N}\\tilde{w}_j\\left(\\sum_{i=1}^n \\tilde{x}^{(i)}_j \\right)^2 = \\frac{-1}{N}ρ_j + \\frac{1}{N}\\tilde{w}_jz_j    $$\n",
        "\n",
        "* **So The w_j:**\n",
        "$$ w_j = \\frac{ρ_j}{z_j}$$"
      ],
      "metadata": {
        "id": "6c5n01iC2s2B"
      },
      "id": "6c5n01iC2s2B"
    },
    {
      "cell_type": "code",
      "source": [
        "# function for: define cost function ; calculate the gradient\n",
        "def cost_function_ols(X,w,y):\n",
        "  n=y.size\n",
        "  y_pred=np.matmul(X,w.T)\n",
        "  error=y_pred-y\n",
        "  cost = (0.5*n)*np.dot(error.T, error)\n",
        "  return cost"
      ],
      "metadata": {
        "id": "yLZZ-K6l2xJo"
      },
      "id": "yLZZ-K6l2xJo",
      "execution_count": 46,
      "outputs": []
    },
    {
      "cell_type": "code",
      "source": [
        "def coordinate_descent_ols(y,X,w,tolerance):\n",
        "    max_step = 500\n",
        "    iteration = 0\n",
        "    N,d=X.shape # N=num of point ; d=num of features\n",
        "    cost_diff=1\n",
        "    cost_array={}\n",
        "    while(cost_diff > tolerance):\n",
        "        iteration += 1\n",
        "        #print(\"Iteration (start) : \",iteration)\n",
        "        cost_old=cost_function_ols(X,w,y)\n",
        "\n",
        "        for j in range(d): #Take the number of features ie columns\n",
        "            rho_j = compute_rho_j(X,y,w,j)\n",
        "            z_j=compute_z_j(X,j)\n",
        "            w[j] = rho_j/z_j\n",
        "        \n",
        "        # update the cost function\n",
        "        cost_new=cost_function_ols(X,w,y)\n",
        "        cost_array[iteration]=cost_new\n",
        "        cost_diff=abs(cost_new-cost_old)\n",
        "        \n",
        "    print(w)\n",
        "    return w, iteration, cost_array"
      ],
      "metadata": {
        "id": "Ax1L0Npp2-hk"
      },
      "id": "Ax1L0Npp2-hk",
      "execution_count": 27,
      "outputs": []
    },
    {
      "cell_type": "code",
      "source": [
        "# run the coordinate descent for our train set\n",
        "w_cd_ols,iter_ols,cost_array_ols=coordinate_descent_ols(y_train,X_train,w,tolerance)\n",
        "\n",
        "# display\n",
        "fig_ols=plot_cost_iter(cost_array_ols)\n",
        "fig_ols"
      ],
      "metadata": {
        "colab": {
          "base_uri": "https://localhost:8080/",
          "height": 359
        },
        "id": "CN3sOFmE32lz",
        "outputId": "59b338d6-cf61-4277-bb96-98eae30b2c04"
      },
      "id": "CN3sOFmE32lz",
      "execution_count": 61,
      "outputs": [
        {
          "output_type": "stream",
          "name": "stdout",
          "text": [
            "[22.97079646 -0.98856987  0.8679275   0.40501448  0.86184024 -1.90008084\n",
            "  2.80813738 -0.35866919 -3.0455284   2.0327132  -1.36397513 -2.08252829\n",
            "  1.04125563 -3.9262893 ]\n"
          ]
        },
        {
          "output_type": "execute_result",
          "data": {
            "text/plain": [
              "<matplotlib.axes._subplots.AxesSubplot at 0x7f2548548a90>"
            ]
          },
          "metadata": {},
          "execution_count": 61
        },
        {
          "output_type": "display_data",
          "data": {
            "text/plain": [
              "<Figure size 432x288 with 1 Axes>"
            ],
            "image/png": "[encoded data removed]"
          },
          "metadata": {
            "needs_background": "light"
          }
        }
      ]
    },
    {
      "cell_type": "markdown",
      "source": [
        "# Model Performance on Test Dataset  --- 4 Models Compare (ours and scikit package)\n",
        "\n",
        "\n",
        "\n",
        "1.   (Own) Coordinate descent Lasso\n",
        "2.   Scikit Lasso\n",
        "3.   (Own) Coordinate descent OLS\n",
        "4.   Scikit OLS\n",
        "\n"
      ],
      "metadata": {
        "id": "FR-dJbHg5g5N"
      },
      "id": "FR-dJbHg5g5N"
    },
    {
      "cell_type": "code",
      "execution_count": 62,
      "id": "bd89cc42",
      "metadata": {
        "execution": {
          "iopub.execute_input": "2022-05-26T04:29:39.308255Z",
          "iopub.status.busy": "2022-05-26T04:29:39.307940Z",
          "iopub.status.idle": "2022-05-26T04:29:39.316313Z",
          "shell.execute_reply": "2022-05-26T04:29:39.315173Z"
        },
        "id": "bd89cc42",
        "papermill": {
          "duration": 0.038328,
          "end_time": "2022-05-26T04:29:39.318360",
          "exception": false,
          "start_time": "2022-05-26T04:29:39.280032",
          "status": "completed"
        },
        "tags": []
      },
      "outputs": [],
      "source": [
        "# scatterplot the y_pred and y_actual, display the MSE, theta\n",
        "def plot_pred_actual(w,X_test,y_test):\n",
        "  num_of_pt=y_test.size\n",
        "  y_test_pred=np.matmul(X_test,w.T)\n",
        "  mse=mean_squared_error(y_test,y_test_pred)\n",
        "  # plot the graph\n",
        "  fig, ax1 = plt.subplots(1,1,constrained_layout=True)\n",
        "  sns.scatterplot(x=y_test_pred,y=y_test,ax=ax1)\n",
        "  xpoints = ypoints = plt.xlim()\n",
        "  plt.plot(xpoints, ypoints, linestyle='--', color='k')\n",
        "  ax1.set_xlabel('y_pred')\n",
        "  ax1.set_ylabel('y_actual')\n",
        "  ax1.text(0,0.92,f'The MSE = {mse}',transform=ax1.transAxes)\n",
        "  ax1.text(0,0.85,f'The num of Point = {num_of_pt}',transform=ax1.transAxes)\n",
        "  return mse"
      ]
    },
    {
      "cell_type": "markdown",
      "source": [
        "## 1. Our Coodinate Descent Lasso"
      ],
      "metadata": {
        "id": "o-p52cPc6MUk"
      },
      "id": "o-p52cPc6MUk"
    },
    {
      "cell_type": "code",
      "source": [
        "mse_cd_lasso_test=plot_pred_actual(w=w_cd_lasso,\n",
        "                 X_test=X_test,\n",
        "                 y_test=y_test)"
      ],
      "metadata": {
        "colab": {
          "base_uri": "https://localhost:8080/",
          "height": 313
        },
        "id": "ev8Ab1xd6Q4L",
        "outputId": "ca651ed6-817e-4663-ce11-c3025d53a3bf"
      },
      "id": "ev8Ab1xd6Q4L",
      "execution_count": 66,
      "outputs": [
        {
          "output_type": "display_data",
          "data": {
            "text/plain": [
              "<Figure size 432x288 with 1 Axes>"
            ],
            "image/png": "[encoded data removed]"
          },
          "metadata": {
            "needs_background": "light"
          }
        }
      ]
    },
    {
      "cell_type": "markdown",
      "source": [
        "## 2. Scikit Lasso"
      ],
      "metadata": {
        "id": "uUUmkLNA6bM7"
      },
      "id": "uUUmkLNA6bM7"
    },
    {
      "cell_type": "code",
      "source": [
        "from sklearn.linear_model import Lasso\n",
        "\n",
        "# fit the lasso\n",
        "sk_lasso=Lasso(alpha,fit_intercept=False)\n",
        "sk_lasso.fit(X_train,y_train)\n",
        "w_lasso=sk_lasso.coef_\n",
        "\n",
        "# test set result\n",
        "mse_sk_lasso_test=plot_pred_actual(w_lasso,X_test,y_test)"
      ],
      "metadata": {
        "colab": {
          "base_uri": "https://localhost:8080/",
          "height": 313
        },
        "id": "pE62R_Fb6eIF",
        "outputId": "7066baf7-e00c-4fca-cf23-184a5797c3ed"
      },
      "id": "pE62R_Fb6eIF",
      "execution_count": 67,
      "outputs": [
        {
          "output_type": "display_data",
          "data": {
            "text/plain": [
              "<Figure size 432x288 with 1 Axes>"
            ],
            "image/png": "[encoded data removed]"
          },
          "metadata": {
            "needs_background": "light"
          }
        }
      ]
    },
    {
      "cell_type": "markdown",
      "source": [
        "## 3. Our Coordinate Descent OLS"
      ],
      "metadata": {
        "id": "9mAcr0Ma6qi9"
      },
      "id": "9mAcr0Ma6qi9"
    },
    {
      "cell_type": "code",
      "source": [
        "mse_cd_ols_test=plot_pred_actual(w=w_cd_ols,\n",
        "                 X_test=X_test,\n",
        "                 y_test=y_test)"
      ],
      "metadata": {
        "colab": {
          "base_uri": "https://localhost:8080/",
          "height": 313
        },
        "id": "dpewujfx6uqD",
        "outputId": "8a3d62fb-579b-4c1c-a5a6-57403899e7c1"
      },
      "id": "dpewujfx6uqD",
      "execution_count": 68,
      "outputs": [
        {
          "output_type": "display_data",
          "data": {
            "text/plain": [
              "<Figure size 432x288 with 1 Axes>"
            ],
            "image/png": "[encoded data removed]"
          },
          "metadata": {
            "needs_background": "light"
          }
        }
      ]
    },
    {
      "cell_type": "markdown",
      "source": [
        "## 4. Scikit OLS"
      ],
      "metadata": {
        "id": "s4ZI0Kst6ysz"
      },
      "id": "s4ZI0Kst6ysz"
    },
    {
      "cell_type": "code",
      "execution_count": 69,
      "id": "d63da581",
      "metadata": {
        "execution": {
          "iopub.execute_input": "2022-05-26T04:29:39.749294Z",
          "iopub.status.busy": "2022-05-26T04:29:39.749037Z",
          "iopub.status.idle": "2022-05-26T04:29:39.832105Z",
          "shell.execute_reply": "2022-05-26T04:29:39.831203Z"
        },
        "id": "d63da581",
        "papermill": {
          "duration": 0.114844,
          "end_time": "2022-05-26T04:29:39.834864",
          "exception": false,
          "start_time": "2022-05-26T04:29:39.720020",
          "status": "completed"
        },
        "tags": [],
        "colab": {
          "base_uri": "https://localhost:8080/",
          "height": 313
        },
        "outputId": "fc09b54d-37b4-4f6e-f6a2-eb18965082ef"
      },
      "outputs": [
        {
          "output_type": "display_data",
          "data": {
            "text/plain": [
              "<Figure size 432x288 with 1 Axes>"
            ],
            "image/png": "[encoded data removed]"
          },
          "metadata": {
            "needs_background": "light"
          }
        }
      ],
      "source": [
        "from sklearn.linear_model import LinearRegression\n",
        "\n",
        "# fit the lasso\n",
        "sk_ols=LinearRegression(fit_intercept=False)\n",
        "sk_ols.fit(X_train,y_train)\n",
        "w_ols=sk_ols.coef_\n",
        "\n",
        "# test set result\n",
        "mse_sk_ols_test=plot_pred_actual(w_ols,X_test,y_test)"
      ]
    },
    {
      "cell_type": "markdown",
      "source": [
        "## Models MSE Compare"
      ],
      "metadata": {
        "id": "M0pUf03k7ULk"
      },
      "id": "M0pUf03k7ULk"
    },
    {
      "cell_type": "code",
      "execution_count": 79,
      "id": "de901c22",
      "metadata": {
        "execution": {
          "iopub.execute_input": "2022-05-26T04:29:40.208745Z",
          "iopub.status.busy": "2022-05-26T04:29:40.207784Z",
          "iopub.status.idle": "2022-05-26T04:29:40.368585Z",
          "shell.execute_reply": "2022-05-26T04:29:40.367718Z"
        },
        "id": "de901c22",
        "outputId": "679714b2-5889-45c1-b1fb-c2bb4dd51113",
        "papermill": {
          "duration": 0.193379,
          "end_time": "2022-05-26T04:29:40.370467",
          "exception": false,
          "start_time": "2022-05-26T04:29:40.177088",
          "status": "completed"
        },
        "tags": [],
        "colab": {
          "base_uri": "https://localhost:8080/",
          "height": 350
        }
      },
      "outputs": [
        {
          "output_type": "stream",
          "name": "stdout",
          "text": [
            "-  Coordinate Descent LASSO  =  20.72404115247873\n",
            "-  Scikit LASSO  =  22.812906298534024\n",
            "-  Coordinate Descent OLS  =  20.72404115247873\n",
            "-  Scikit OLS  =  20.724023437339785\n"
          ]
        },
        {
          "output_type": "display_data",
          "data": {
            "text/plain": [
              "<Figure size 432x288 with 1 Axes>"
            ],
            "image/png": "[encoded data removed]"
          },
          "metadata": {
            "needs_background": "light"
          }
        }
      ],
      "source": [
        "# compare the mse for our gradient descent regression VS sklearn package\n",
        "x=[mse_cd_lasso_test,mse_sk_lasso_test,mse_cd_ols_test,mse_sk_ols_test]\n",
        "y=['Coordinate Descent LASSO','Scikit LASSO','Coordinate Descent OLS','Scikit OLS']\n",
        "fig=sns.barplot(x=x,y=y,color='blue')\n",
        "fig.set_title('(MSE) Sklearn VS Own Coordinate Descent for LASSO & OLS')\n",
        "for mse,model in zip(x,y):\n",
        "  print('- ',model, ' = ',mse)"
      ]
    },
    {
      "cell_type": "markdown",
      "source": [
        "### OLS genrally has better MSE than LASSO (Possible Reason: The data quality is high)"
      ],
      "metadata": {
        "id": "tI6eYMsc9nOk"
      },
      "id": "tI6eYMsc9nOk"
    },
    {
      "cell_type": "markdown",
      "source": [
        "## Model Weights Compare (w)"
      ],
      "metadata": {
        "id": "jfi0cANW8lH8"
      },
      "id": "jfi0cANW8lH8"
    },
    {
      "cell_type": "code",
      "execution_count": 83,
      "id": "c43b2362",
      "metadata": {
        "execution": {
          "iopub.execute_input": "2022-05-26T04:29:40.494323Z",
          "iopub.status.busy": "2022-05-26T04:29:40.494033Z",
          "iopub.status.idle": "2022-05-26T04:29:40.737572Z",
          "shell.execute_reply": "2022-05-26T04:29:40.736687Z"
        },
        "papermill": {
          "duration": 0.277782,
          "end_time": "2022-05-26T04:29:40.739984",
          "exception": false,
          "start_time": "2022-05-26T04:29:40.462202",
          "status": "completed"
        },
        "tags": [],
        "id": "c43b2362"
      },
      "outputs": [],
      "source": [
        "def plot_w(w,model_name):\n",
        "  fig=sns.barplot(x=w,y=[str(i) for i in range(14)])\n",
        "  fig.set_title(f'{model_name} Weight Value')\n",
        "  plt.show()\n",
        "  return w"
      ]
    },
    {
      "cell_type": "code",
      "execution_count": 84,
      "id": "901c313b",
      "metadata": {
        "execution": {
          "iopub.execute_input": "2022-05-26T04:29:40.805001Z",
          "iopub.status.busy": "2022-05-26T04:29:40.804462Z",
          "iopub.status.idle": "2022-05-26T04:29:41.047436Z",
          "shell.execute_reply": "2022-05-26T04:29:41.046868Z"
        },
        "papermill": {
          "duration": 0.277875,
          "end_time": "2022-05-26T04:29:41.049464",
          "exception": false,
          "start_time": "2022-05-26T04:29:40.771589",
          "status": "completed"
        },
        "tags": [],
        "colab": {
          "base_uri": "https://localhost:8080/",
          "height": 1000
        },
        "id": "901c313b",
        "outputId": "0b5c61b0-5f9b-4eda-c5cc-893f0e65ac7f"
      },
      "outputs": [
        {
          "output_type": "display_data",
          "data": {
            "text/plain": [
              "<Figure size 432x288 with 1 Axes>"
            ],
            "image/png": "[encoded data removed]"
          },
          "metadata": {
            "needs_background": "light"
          }
        },
        {
          "output_type": "display_data",
          "data": {
            "text/plain": [
              "<Figure size 432x288 with 1 Axes>"
            ],
            "image/png": "[encoded data removed]"
          },
          "metadata": {
            "needs_background": "light"
          }
        },
        {
          "output_type": "display_data",
          "data": {
            "text/plain": [
              "<Figure size 432x288 with 1 Axes>"
            ],
            "image/png": "[encoded data removed]"
          },
          "metadata": {
            "needs_background": "light"
          }
        },
        {
          "output_type": "display_data",
          "data": {
            "text/plain": [
              "<Figure size 432x288 with 1 Axes>"
            ],
            "image/png": "[encoded data removed]"
          },
          "metadata": {
            "needs_background": "light"
          }
        }
      ],
      "source": [
        "w_list=[w_cd_lasso,w_lasso,w_cd_ols,w_ols]\n",
        "model_name_list=['Coordinate Descent LASSO','Scikit LASSO','Coordinate Descent OLS','Scikit OLS']\n",
        "\n",
        "for w, model_name in zip(w_list,model_name_list):\n",
        "  plot_w(w,model_name)"
      ]
    }
  ],
  "metadata": {
    "kernelspec": {
      "display_name": "Python 3",
      "language": "python",
      "name": "python3"
    },
    "language_info": {
      "codemirror_mode": {
        "name": "ipython",
        "version": 3
      },
      "file_extension": ".py",
      "mimetype": "text/x-python",
      "name": "python",
      "nbconvert_exporter": "python",
      "pygments_lexer": "ipython3",
      "version": "3.7.12"
    },
    "papermill": {
      "default_parameters": {},
      "duration": 16.101662,
      "end_time": "2022-05-26T04:29:41.869211",
      "environment_variables": {},
      "exception": null,
      "input_path": "__notebook__.ipynb",
      "output_path": "__notebook__.ipynb",
      "parameters": {},
      "start_time": "2022-05-26T04:29:25.767549",
      "version": "2.3.4"
    },
    "colab": {
      "name": "Coordinate_Descent_for_LASSO & OLS.ipynb",
      "provenance": [],
      "collapsed_sections": []
    }
  },
  "nbformat": 4,
  "nbformat_minor": 5
}