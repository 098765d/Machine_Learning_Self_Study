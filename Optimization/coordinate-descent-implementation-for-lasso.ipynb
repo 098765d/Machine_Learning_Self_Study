{
 "cells": [
  {
   "cell_type": "markdown",
   "id": "f8b4054d",
   "metadata": {
    "id": "y0vpRYz-Pbev",
    "papermill": {
     "duration": 0.026683,
     "end_time": "2022-05-26T04:29:36.565127",
     "exception": false,
     "start_time": "2022-05-26T04:29:36.538444",
     "status": "completed"
    },
    "tags": []
   },
   "source": [
    "# Coordinate Descent Inplementation for LASSO \n",
    "\n",
    "Following Reference inspired me to replicate his method into the Boston Dataset:\n",
    "https://www.kaggle.com/code/mcweng24/lasso-regression-using-numpy/notebook\n",
    "\n",
    "\n"
   ]
  },
  {
   "cell_type": "code",
   "execution_count": 1,
   "id": "94fa65f2",
   "metadata": {
    "execution": {
     "iopub.execute_input": "2022-05-26T04:29:36.619858Z",
     "iopub.status.busy": "2022-05-26T04:29:36.619505Z",
     "iopub.status.idle": "2022-05-26T04:29:37.942490Z",
     "shell.execute_reply": "2022-05-26T04:29:37.941324Z"
    },
    "id": "tHZc6jSVPdhO",
    "papermill": {
     "duration": 1.35366,
     "end_time": "2022-05-26T04:29:37.945289",
     "exception": false,
     "start_time": "2022-05-26T04:29:36.591629",
     "status": "completed"
    },
    "tags": []
   },
   "outputs": [],
   "source": [
    "import numpy as np\n",
    "import pandas as pd\n",
    "import seaborn as sns\n",
    "import matplotlib.pyplot as plt\n",
    "from sklearn.metrics import mean_squared_error\n",
    "from numpy import linalg as LA\n",
    "import warnings\n",
    "warnings.filterwarnings('ignore')"
   ]
  },
  {
   "cell_type": "markdown",
   "id": "d48120a7",
   "metadata": {
    "id": "Vmewj16VPy8f",
    "papermill": {
     "duration": 0.025068,
     "end_time": "2022-05-26T04:29:37.996126",
     "exception": false,
     "start_time": "2022-05-26T04:29:37.971058",
     "status": "completed"
    },
    "tags": []
   },
   "source": [
    "# Load Dataset (Boston)"
   ]
  },
  {
   "cell_type": "code",
   "execution_count": 2,
   "id": "18975d8c",
   "metadata": {
    "execution": {
     "iopub.execute_input": "2022-05-26T04:29:38.048973Z",
     "iopub.status.busy": "2022-05-26T04:29:38.048510Z",
     "iopub.status.idle": "2022-05-26T04:29:38.140397Z",
     "shell.execute_reply": "2022-05-26T04:29:38.139634Z"
    },
    "id": "B-RkkgkJPvo-",
    "papermill": {
     "duration": 0.120774,
     "end_time": "2022-05-26T04:29:38.142783",
     "exception": false,
     "start_time": "2022-05-26T04:29:38.022009",
     "status": "completed"
    },
    "tags": []
   },
   "outputs": [],
   "source": [
    "from sklearn.datasets import load_boston\n",
    "X, y = load_boston(return_X_y=True)"
   ]
  },
  {
   "cell_type": "code",
   "execution_count": 3,
   "id": "3f64ff3c",
   "metadata": {
    "execution": {
     "iopub.execute_input": "2022-05-26T04:29:38.195426Z",
     "iopub.status.busy": "2022-05-26T04:29:38.195155Z",
     "iopub.status.idle": "2022-05-26T04:29:38.212321Z",
     "shell.execute_reply": "2022-05-26T04:29:38.211661Z"
    },
    "id": "FJJTwvupP6B1",
    "papermill": {
     "duration": 0.046144,
     "end_time": "2022-05-26T04:29:38.214614",
     "exception": false,
     "start_time": "2022-05-26T04:29:38.168470",
     "status": "completed"
    },
    "tags": []
   },
   "outputs": [],
   "source": [
    "# train test split\n",
    "from sklearn.model_selection import train_test_split\n",
    "X_train, X_test, y_train, y_test = train_test_split(X, y, test_size=0.33, random_state=42)"
   ]
  },
  {
   "cell_type": "code",
   "execution_count": 4,
   "id": "33acc486",
   "metadata": {
    "execution": {
     "iopub.execute_input": "2022-05-26T04:29:38.267279Z",
     "iopub.status.busy": "2022-05-26T04:29:38.266619Z",
     "iopub.status.idle": "2022-05-26T04:29:38.275202Z",
     "shell.execute_reply": "2022-05-26T04:29:38.274584Z"
    },
    "id": "4VQ-_UgQP8r9",
    "papermill": {
     "duration": 0.037309,
     "end_time": "2022-05-26T04:29:38.277348",
     "exception": false,
     "start_time": "2022-05-26T04:29:38.240039",
     "status": "completed"
    },
    "tags": []
   },
   "outputs": [],
   "source": [
    "# standard sclaer\n",
    "from sklearn.preprocessing import StandardScaler\n",
    "def std_scaler(X_train,X_test):\n",
    "  scaler = StandardScaler()\n",
    "  scaler.fit(X_train)\n",
    "  X_train_scale=scaler.transform(X_train)\n",
    "  X_test_scale=scaler.transform(X_test)\n",
    "  # add a column of 1 for X\n",
    "  X_train_scale=np.append(np.ones(shape=(X_train.shape[0],1)),X_train_scale,axis=1)\n",
    "  X_test_scale=np.append(np.ones(shape=(X_test.shape[0],1)),X_test_scale,axis=1)\n",
    "  return X_train_scale, X_test_scale\n",
    "\n",
    "X_train,X_test=std_scaler(X_train,X_test)"
   ]
  },
  {
   "cell_type": "markdown",
   "id": "64f93a19",
   "metadata": {
    "id": "8gyuDHkOVNAB",
    "papermill": {
     "duration": 0.025049,
     "end_time": "2022-05-26T04:29:38.327797",
     "exception": false,
     "start_time": "2022-05-26T04:29:38.302748",
     "status": "completed"
    },
    "tags": []
   },
   "source": [
    "# Initialize Parameters"
   ]
  },
  {
   "cell_type": "code",
   "execution_count": 5,
   "id": "7d6c972e",
   "metadata": {
    "execution": {
     "iopub.execute_input": "2022-05-26T04:29:38.380711Z",
     "iopub.status.busy": "2022-05-26T04:29:38.380420Z",
     "iopub.status.idle": "2022-05-26T04:29:38.385214Z",
     "shell.execute_reply": "2022-05-26T04:29:38.384558Z"
    },
    "id": "0Pp2pFM8VP0A",
    "papermill": {
     "duration": 0.034076,
     "end_time": "2022-05-26T04:29:38.387228",
     "exception": false,
     "start_time": "2022-05-26T04:29:38.353152",
     "status": "completed"
    },
    "tags": []
   },
   "outputs": [],
   "source": [
    " # Set hyperparameters\n",
    "alpha = 0.2\n",
    "iterations = 100\n",
    "tolerance = 0.0001\n",
    "\n",
    "# Initialize Theta Values to 0\n",
    "w= np.zeros(X_train.shape[1],dtype=float)\n"
   ]
  },
  {
   "cell_type": "markdown",
   "id": "59f6bd37",
   "metadata": {
    "papermill": {
     "duration": 0.025492,
     "end_time": "2022-05-26T04:29:38.439875",
     "exception": false,
     "start_time": "2022-05-26T04:29:38.414383",
     "status": "completed"
    },
    "tags": []
   },
   "source": [
    "## The LASSO Cost Funnction and it's Partial Derivatives\n",
    "\n",
    "$$ L(w) = \\frac{1}{2N}\\left(\\sum_{i=1}^n (y^{(i)} - \\tilde{w} \\cdot \\tilde{x}^{(i)})^2\\right) + α\\left(\\sum_{j=1}^d |w_j|\\right)= MSE + α * norm |w|$$\n",
    "\n",
    "\n",
    "* **So, To Minimize the L(w),find the Partial Derivative 𝜕L(w)/𝜕 w Separately**\n",
    "\n",
    "$$ \\frac{𝜕L(w)}{𝜕w_j} = 𝜕 MSE  /  𝜕 w_j  +  𝜕 (α * norm |w| )  /  𝜕 w_j  $$\n",
    "\n",
    "* **First , 𝜕 MSE  /  𝜕 w_j**\n",
    "\n",
    "$$ \\frac{𝜕 MSE}{𝜕w_j} = \\frac{1}{N}\\left(\\sum_{i=1}^n (-\\tilde{x}^{(i)}_j)(y^{(i)} - \\left(\\sum_{k≠j}^n \\tilde{w}_k \\cdot \\tilde{x}^{(i)}_k\\right)) \\right) + \\frac{1}{N}\\tilde{w}_j\\left(\\sum_{i=1}^n \\tilde{x}^{(i)}_j \\right)^2 = \\frac{-1}{N}ρ_j + \\frac{1}{N}\\tilde{w}_jz_j    $$\n",
    "\n",
    "        * Where , ρ_j, z_j defined for simplfying the equation\n",
    "    \n",
    "$$ ρ_j = \\left(\\sum_{i=1}^n (\\tilde{x}^{(i)}_j)(y^{(i)} - \\left(\\sum_{k≠j}^n \\tilde{w}_k \\cdot \\tilde{x}^{(i)}_k\\right)) \\right)$$\n",
    "\n",
    "$$ z_j = \\left(\\sum_{i=1}^n \\tilde{x}^{(i)}_j \\right)^2$$\n",
    "\n",
    "\n",
    "* **Secondly , 𝜕 (α * norm |w| )  /  𝜕 w_j**\n",
    "\n",
    "$$α\\frac{𝜕|w_j|}{𝜕w_j} = \n",
    "    \\begin{cases}\n",
    "        -α & \\text{when $w_j$ < 0}\\\\\n",
    "        [-α,α] & \\text{when $w_j$ = 0}\\\\\n",
    "        α & \\text{when $w_j$ > 0}\\\\\n",
    "    \\end{cases}\n",
    "$$\n",
    "\n",
    "* **Put First and Second together and Make it 0, to calculate the w_j**\n",
    "\n",
    "$$\n",
    "\\frac{𝜕L(w)}{𝜕w_j} = \\frac{-1}{N}ρ_j + \\frac{1}{N}\\tilde{w}_jz_j + \n",
    "    \\begin{cases}\n",
    "        -α & \\text{when $w_j$ < 0}\\\\\n",
    "        [-α,α] & \\text{when $w_j$ = 0}\\\\\n",
    "        α & \\text{when $w_j$ > 0}\\\\\n",
    "    \\end{cases}=0\n",
    "$$\n",
    "\n",
    "\n",
    "* **The w_j Solution**\n",
    "\n",
    "$$ w_j = \n",
    "    \\begin{cases}\n",
    "        \\frac{ρ_j + Nα}{z_j} & \\text{if $ρ_j$ < -Nα}\\\\\n",
    "        0 & \\text{if -Nα ≤ $ρ_j$ ≤ Nα }\\\\\n",
    "        \\frac{ρ_j - Nα}{z_j} & \\text{if $ρ_j$ > Nα}\\\\\n",
    "    \\end{cases}\n",
    "$$"
   ]
  },
  {
   "cell_type": "markdown",
   "id": "f9e0d7bd",
   "metadata": {
    "id": "ZCmNhj7YyCyq",
    "papermill": {
     "duration": 0.025168,
     "end_time": "2022-05-26T04:29:38.490389",
     "exception": false,
     "start_time": "2022-05-26T04:29:38.465221",
     "status": "completed"
    },
    "tags": []
   },
   "source": [
    "# Coordinate Descent Algorithm\n",
    "\n",
    "**1. Pre-compute z_j:**\n",
    "$$ z_j = \\left(\\sum_{i=1}^n \\tilde{x}^{(i)}_j \\right)^2$$\n",
    "          * z_j = np.dot(X_j,X_j)\n",
    "\n",
    "**2. Initialise the $\\tilde{w}$ to be a zero vector**\n",
    "\n",
    "          * w= np.zeros(X_train.shape[1],dtype=float)\n",
    "\n",
    "**3. Initialise the maximum step parameter and tolerance level**\n",
    "\n",
    "**4. While the algorithm has not converged**\n",
    "\n",
    "> For j = 0,1,...,D\n",
    ">> Compute:\n",
    "\n",
    "$$ ρ_j = \\left(\\sum_{i=1}^n (\\tilde{x}^{(i)}_j)(y^{(i)} - \\left(\\sum_{k≠j}^n \\tilde{w}_k \\cdot \\tilde{x}^{(i)}_k\\right)) \\right)$$\n",
    "\n",
    "        * rho_j = np.dot(X_j,residual)\n",
    "        * residual = y - np.matmul(X_k, w_k.T)\n",
    "\n",
    ">> If j = 0\n",
    "$$ w_j = \\frac{ρ_j}{z_j}$$\n",
    ">> Else\n",
    "$$ w_j = \n",
    "    \\begin{cases}\n",
    "        \\frac{ρ_j + Nα}{z_j} & \\text{if $ρ_j$ < -Nα}\\\\\n",
    "        0 & \\text{if -Nα ≤ $ρ_j$ ≤ Nα }\\\\\n",
    "        \\frac{ρ_j - Nα}{z_j} & \\text{if $ρ_j$ > Nα}\\\\\n",
    "    \\end{cases}\n",
    "$$\n",
    "\n",
    "      * N, d = X_train.shape\n",
    "        * N = num of points\n",
    "        * d = num of features"
   ]
  },
  {
   "cell_type": "markdown",
   "id": "ba0e40ca",
   "metadata": {
    "id": "dxoEWCM3zO5g",
    "papermill": {
     "duration": 0.025055,
     "end_time": "2022-05-26T04:29:38.540828",
     "exception": false,
     "start_time": "2022-05-26T04:29:38.515773",
     "status": "completed"
    },
    "tags": []
   },
   "source": [
    "# Sub Functions to Implement Coordinate Descent\n",
    "\n",
    "* cost function\n",
    "* rho_j\n",
    "* z_j\n",
    "* coordinate_descent"
   ]
  },
  {
   "cell_type": "code",
   "execution_count": 6,
   "id": "c4ce88bf",
   "metadata": {
    "execution": {
     "iopub.execute_input": "2022-05-26T04:29:38.593581Z",
     "iopub.status.busy": "2022-05-26T04:29:38.593278Z",
     "iopub.status.idle": "2022-05-26T04:29:38.598401Z",
     "shell.execute_reply": "2022-05-26T04:29:38.597622Z"
    },
    "id": "rCLcMUZIP_vV",
    "papermill": {
     "duration": 0.033716,
     "end_time": "2022-05-26T04:29:38.600365",
     "exception": false,
     "start_time": "2022-05-26T04:29:38.566649",
     "status": "completed"
    },
    "tags": []
   },
   "outputs": [],
   "source": [
    "# function for: define cost function ; calculate the gradient\n",
    "## alpha = shrinkage factor\n",
    "def cost_function(X,w,y,alpha):\n",
    "  n=y.size\n",
    "  y_pred=np.matmul(X,w.T)\n",
    "  error=y_pred-y\n",
    "  theta_norm=LA.norm(w,ord=1)\n",
    "  cost = np.dot(error.T, error)+alpha*theta_norm \n",
    "  return cost"
   ]
  },
  {
   "cell_type": "code",
   "execution_count": 7,
   "id": "d8abc33f",
   "metadata": {
    "execution": {
     "iopub.execute_input": "2022-05-26T04:29:38.653332Z",
     "iopub.status.busy": "2022-05-26T04:29:38.653071Z",
     "iopub.status.idle": "2022-05-26T04:29:38.659103Z",
     "shell.execute_reply": "2022-05-26T04:29:38.658291Z"
    },
    "id": "S5h3E5u9mPQ4",
    "papermill": {
     "duration": 0.034558,
     "end_time": "2022-05-26T04:29:38.660952",
     "exception": false,
     "start_time": "2022-05-26T04:29:38.626394",
     "status": "completed"
    },
    "tags": []
   },
   "outputs": [],
   "source": [
    "def compute_rho_j(X,y,w,j):\n",
    "  X_k = np.delete(X,j,axis=1) #Remove the j variable i.e. j column\n",
    "  w_k = np.delete(w,j) #Remove the weight j\n",
    "  predict = np.matmul(X_k, w_k.T)\n",
    "  residual = y - predict\n",
    "  X_j=X[:,j] # m*1 vector\n",
    "  rho_j = np.dot(X_j,residual)\n",
    "  return(rho_j)"
   ]
  },
  {
   "cell_type": "code",
   "execution_count": 8,
   "id": "a1240e4c",
   "metadata": {
    "execution": {
     "iopub.execute_input": "2022-05-26T04:29:38.713198Z",
     "iopub.status.busy": "2022-05-26T04:29:38.712912Z",
     "iopub.status.idle": "2022-05-26T04:29:38.717452Z",
     "shell.execute_reply": "2022-05-26T04:29:38.716600Z"
    },
    "id": "u3lCfaq_o5kT",
    "papermill": {
     "duration": 0.033195,
     "end_time": "2022-05-26T04:29:38.719537",
     "exception": false,
     "start_time": "2022-05-26T04:29:38.686342",
     "status": "completed"
    },
    "tags": []
   },
   "outputs": [],
   "source": [
    "#z computation for unnormalised features\n",
    "def compute_z_j(X,j):\n",
    "  X_j=X[:,j]\n",
    "  z_j = np.dot(X_j,X_j) #Compute sum for each column\n",
    "  return(z_j)"
   ]
  },
  {
   "cell_type": "code",
   "execution_count": 9,
   "id": "9ec4f366",
   "metadata": {
    "execution": {
     "iopub.execute_input": "2022-05-26T04:29:38.771636Z",
     "iopub.status.busy": "2022-05-26T04:29:38.771352Z",
     "iopub.status.idle": "2022-05-26T04:29:38.782137Z",
     "shell.execute_reply": "2022-05-26T04:29:38.781228Z"
    },
    "id": "h3GkLEXyoLd7",
    "papermill": {
     "duration": 0.039618,
     "end_time": "2022-05-26T04:29:38.784419",
     "exception": false,
     "start_time": "2022-05-26T04:29:38.744801",
     "status": "completed"
    },
    "tags": []
   },
   "outputs": [],
   "source": [
    "def coordinate_descent(y,X,w,alpha,tolerance):\n",
    "    max_step = 100.\n",
    "    iteration = 0\n",
    "    N,d=X.shape # N=num of point ; d=num of features\n",
    "    cost_diff=1\n",
    "    cost_array={}\n",
    "    while(cost_diff > tolerance):\n",
    "        iteration += 1\n",
    "        #print(\"Iteration (start) : \",iteration)\n",
    "        cost_old=cost_function(X,w,y,alpha)\n",
    "\n",
    "        for j in range(d): #Take the number of features ie columns\n",
    "            rho_j = compute_rho_j(X,y,w,j)\n",
    "            z_j=compute_z_j(X,j)\n",
    "            if j == 0: #Intercept is not included with the alpha regularisation\n",
    "                w[j] = rho_j/z_j\n",
    "            elif rho_j < -alpha*N:\n",
    "                w[j] = (rho_j + (alpha*N))/z_j\n",
    "            elif rho_j > -alpha*N and rho_j < alpha*N:\n",
    "                w[j] = 0\n",
    "            elif rho_j > alpha*N:\n",
    "                w[j] = (rho_j - (alpha*N))/z_j\n",
    "            else:\n",
    "                w[j] = np.NaN\n",
    "        # update the cost function\n",
    "        cost_new=cost_function(X,w,y,alpha)\n",
    "        cost_array[iteration]=cost_new\n",
    "        cost_diff=abs(cost_new-cost_old)\n",
    "        \n",
    "    print(w)\n",
    "    return w, iteration, cost_array"
   ]
  },
  {
   "cell_type": "code",
   "execution_count": 10,
   "id": "79ad70fc",
   "metadata": {
    "execution": {
     "iopub.execute_input": "2022-05-26T04:29:38.837155Z",
     "iopub.status.busy": "2022-05-26T04:29:38.836851Z",
     "iopub.status.idle": "2022-05-26T04:29:38.873963Z",
     "shell.execute_reply": "2022-05-26T04:29:38.873374Z"
    },
    "id": "1IreIOdFRybZ",
    "outputId": "f15ca069-aaa1-4707-c665-230886bb1e8f",
    "papermill": {
     "duration": 0.066196,
     "end_time": "2022-05-26T04:29:38.876160",
     "exception": false,
     "start_time": "2022-05-26T04:29:38.809964",
     "status": "completed"
    },
    "tags": []
   },
   "outputs": [
    {
     "name": "stdout",
     "output_type": "stream",
     "text": [
      "[22.97079646 -0.3994818   0.18928461  0.          0.82759107 -0.80309298\n",
      "  2.93205213  0.         -1.50023459  0.          0.         -1.70669243\n",
      "  0.83142354 -4.01081856]\n"
     ]
    }
   ],
   "source": [
    "# run the coordinate descent for our train set\n",
    "w_cor_ds,iter,cost_array=coordinate_descent(y_train,X_train,w,alpha,tolerance)"
   ]
  },
  {
   "cell_type": "markdown",
   "id": "dade0831",
   "metadata": {
    "id": "eqU_3dAOzfw2",
    "papermill": {
     "duration": 0.025754,
     "end_time": "2022-05-26T04:29:38.928407",
     "exception": false,
     "start_time": "2022-05-26T04:29:38.902653",
     "status": "completed"
    },
    "tags": []
   },
   "source": [
    "# Display The Result"
   ]
  },
  {
   "cell_type": "code",
   "execution_count": 11,
   "id": "bcae1a8f",
   "metadata": {
    "execution": {
     "iopub.execute_input": "2022-05-26T04:29:38.982078Z",
     "iopub.status.busy": "2022-05-26T04:29:38.981255Z",
     "iopub.status.idle": "2022-05-26T04:29:39.250731Z",
     "shell.execute_reply": "2022-05-26T04:29:39.249829Z"
    },
    "id": "t0yokUlkR39h",
    "outputId": "7a9cec74-5183-4e26-afe3-a1c1777c7506",
    "papermill": {
     "duration": 0.298833,
     "end_time": "2022-05-26T04:29:39.253301",
     "exception": false,
     "start_time": "2022-05-26T04:29:38.954468",
     "status": "completed"
    },
    "tags": []
   },
   "outputs": [
    {
     "data": {
      "image/png": "[encoded data removed]",
      "text/plain": [
       "<Figure size 432x288 with 1 Axes>"
      ]
     },
     "metadata": {
      "needs_background": "light"
     },
     "output_type": "display_data"
    }
   ],
   "source": [
    "# function for: display the cost-iter trend\n",
    "def plot_cost_iter(cost_array):\n",
    "  iters=cost_array.keys()\n",
    "  cost=cost_array.values()\n",
    "  fig=sns.scatterplot(x=iters,y=cost)\n",
    "  fig.set_xlabel('iters')\n",
    "  fig.set_ylabel('cost')\n",
    "\n",
    "# display\n",
    "plot_cost_iter(cost_array)"
   ]
  },
  {
   "cell_type": "code",
   "execution_count": 12,
   "id": "bd89cc42",
   "metadata": {
    "execution": {
     "iopub.execute_input": "2022-05-26T04:29:39.308255Z",
     "iopub.status.busy": "2022-05-26T04:29:39.307940Z",
     "iopub.status.idle": "2022-05-26T04:29:39.316313Z",
     "shell.execute_reply": "2022-05-26T04:29:39.315173Z"
    },
    "id": "Ngg_8ZdaU8lN",
    "papermill": {
     "duration": 0.038328,
     "end_time": "2022-05-26T04:29:39.318360",
     "exception": false,
     "start_time": "2022-05-26T04:29:39.280032",
     "status": "completed"
    },
    "tags": []
   },
   "outputs": [],
   "source": [
    "# scatterplot the y_pred and y_actual, display the MSE, theta\n",
    "def plot_pred_actual(w,X_test,y_test):\n",
    "  num_of_pt=y_test.size\n",
    "  y_test_pred=np.matmul(X_test,w.T)\n",
    "  mse=mean_squared_error(y_test,y_test_pred)\n",
    "  # plot the graph\n",
    "  fig, ax1 = plt.subplots(1,1,constrained_layout=True)\n",
    "  sns.scatterplot(x=y_test_pred,y=y_test,ax=ax1)\n",
    "  xpoints = ypoints = plt.xlim()\n",
    "  plt.plot(xpoints, ypoints, linestyle='--', color='k')\n",
    "  ax1.set_xlabel('y_pred')\n",
    "  ax1.set_ylabel('y_actual')\n",
    "  ax1.text(0,0.92,f'The MSE = {mse}',transform=ax1.transAxes)\n",
    "  ax1.text(0,0.85,f'The num of Point = {num_of_pt}',transform=ax1.transAxes)\n",
    "  return mse"
   ]
  },
  {
   "cell_type": "code",
   "execution_count": 13,
   "id": "0b0f6b55",
   "metadata": {
    "execution": {
     "iopub.execute_input": "2022-05-26T04:29:39.373752Z",
     "iopub.status.busy": "2022-05-26T04:29:39.373450Z",
     "iopub.status.idle": "2022-05-26T04:29:39.633808Z",
     "shell.execute_reply": "2022-05-26T04:29:39.632925Z"
    },
    "id": "GSf9kQCBVCKm",
    "outputId": "8587de16-60ea-4272-e091-7dc3255355e6",
    "papermill": {
     "duration": 0.290677,
     "end_time": "2022-05-26T04:29:39.636144",
     "exception": false,
     "start_time": "2022-05-26T04:29:39.345467",
     "status": "completed"
    },
    "tags": []
   },
   "outputs": [
    {
     "data": {
      "image/png": "[encoded data removed]",
      "text/plain": [
       "<Figure size 432x288 with 1 Axes>"
      ]
     },
     "metadata": {
      "needs_background": "light"
     },
     "output_type": "display_data"
    }
   ],
   "source": [
    "# test set result\n",
    "mse_coor_test=plot_pred_actual(w_cor_ds,X_test,y_test)\n"
   ]
  },
  {
   "cell_type": "markdown",
   "id": "4f84a150",
   "metadata": {
    "id": "4C1R2TNFzvr-",
    "papermill": {
     "duration": 0.027703,
     "end_time": "2022-05-26T04:29:39.691929",
     "exception": false,
     "start_time": "2022-05-26T04:29:39.664226",
     "status": "completed"
    },
    "tags": []
   },
   "source": [
    "# Compare to Sklearn LASSO"
   ]
  },
  {
   "cell_type": "code",
   "execution_count": 14,
   "id": "d63da581",
   "metadata": {
    "execution": {
     "iopub.execute_input": "2022-05-26T04:29:39.749294Z",
     "iopub.status.busy": "2022-05-26T04:29:39.749037Z",
     "iopub.status.idle": "2022-05-26T04:29:39.832105Z",
     "shell.execute_reply": "2022-05-26T04:29:39.831203Z"
    },
    "id": "feZzs7HOiBro",
    "papermill": {
     "duration": 0.114844,
     "end_time": "2022-05-26T04:29:39.834864",
     "exception": false,
     "start_time": "2022-05-26T04:29:39.720020",
     "status": "completed"
    },
    "tags": []
   },
   "outputs": [],
   "source": [
    "from sklearn.linear_model import Lasso\n",
    "\n",
    "# fit the lasso\n",
    "sk_lasso=Lasso(alpha,fit_intercept=False)\n",
    "sk_lasso.fit(X_train,y_train)\n",
    "w_lasso=sk_lasso.coef_"
   ]
  },
  {
   "cell_type": "code",
   "execution_count": 15,
   "id": "b4fd3207",
   "metadata": {
    "execution": {
     "iopub.execute_input": "2022-05-26T04:29:39.894629Z",
     "iopub.status.busy": "2022-05-26T04:29:39.894331Z",
     "iopub.status.idle": "2022-05-26T04:29:40.145444Z",
     "shell.execute_reply": "2022-05-26T04:29:40.144762Z"
    },
    "id": "JKWez1aw0OyH",
    "outputId": "3a61d1b8-3ab9-4f24-a2d3-5d0dbea4af39",
    "papermill": {
     "duration": 0.284312,
     "end_time": "2022-05-26T04:29:40.147479",
     "exception": false,
     "start_time": "2022-05-26T04:29:39.863167",
     "status": "completed"
    },
    "tags": []
   },
   "outputs": [
    {
     "data": {
      "image/png": "[encoded data removed]",
      "text/plain": [
       "<Figure size 432x288 with 1 Axes>"
      ]
     },
     "metadata": {
      "needs_background": "light"
     },
     "output_type": "display_data"
    }
   ],
   "source": [
    "# test set result\n",
    "mse_sk_lasso_test=plot_pred_actual(w_lasso,X_test,y_test)"
   ]
  },
  {
   "cell_type": "code",
   "execution_count": 16,
   "id": "de901c22",
   "metadata": {
    "execution": {
     "iopub.execute_input": "2022-05-26T04:29:40.208745Z",
     "iopub.status.busy": "2022-05-26T04:29:40.207784Z",
     "iopub.status.idle": "2022-05-26T04:29:40.368585Z",
     "shell.execute_reply": "2022-05-26T04:29:40.367718Z"
    },
    "id": "yIHncJdo0Rmg",
    "outputId": "c61189a9-58bb-46ed-c65a-c6e0b2065ccf",
    "papermill": {
     "duration": 0.193379,
     "end_time": "2022-05-26T04:29:40.370467",
     "exception": false,
     "start_time": "2022-05-26T04:29:40.177088",
     "status": "completed"
    },
    "tags": []
   },
   "outputs": [
    {
     "name": "stdout",
     "output_type": "stream",
     "text": [
      "- Slearn lasso mse =  22.812906298534024\n",
      "- Our Cooridnate Descent mse=  22.73907419606681\n"
     ]
    },
    {
     "data": {
      "image/png": "[encoded data removed]",
      "text/plain": [
       "<Figure size 432x288 with 1 Axes>"
      ]
     },
     "metadata": {
      "needs_background": "light"
     },
     "output_type": "display_data"
    }
   ],
   "source": [
    "# compare the mse for our gradient descent regression VS sklearn package\n",
    "fig=sns.barplot(x=[mse_sk_lasso_test,mse_coor_test],y=['sklearn_mse','own_coor_des_mse'])\n",
    "fig.set_title('sklearn VS own_coordinate_descent_regression MSE Compare')\n",
    "# print the mse\n",
    "print('- Slearn lasso mse = ',mse_sk_lasso_test)\n",
    "print('- Our Cooridnate Descent mse= ',mse_coor_test)"
   ]
  },
  {
   "cell_type": "markdown",
   "id": "530cb13f",
   "metadata": {
    "papermill": {
     "duration": 0.030446,
     "end_time": "2022-05-26T04:29:40.431447",
     "exception": false,
     "start_time": "2022-05-26T04:29:40.401001",
     "status": "completed"
    },
    "tags": []
   },
   "source": [
    "# Compare the Weight (Coefficient) for Scikit and our own coordinate descent LASSO"
   ]
  },
  {
   "cell_type": "code",
   "execution_count": 17,
   "id": "c43b2362",
   "metadata": {
    "execution": {
     "iopub.execute_input": "2022-05-26T04:29:40.494323Z",
     "iopub.status.busy": "2022-05-26T04:29:40.494033Z",
     "iopub.status.idle": "2022-05-26T04:29:40.737572Z",
     "shell.execute_reply": "2022-05-26T04:29:40.736687Z"
    },
    "papermill": {
     "duration": 0.277782,
     "end_time": "2022-05-26T04:29:40.739984",
     "exception": false,
     "start_time": "2022-05-26T04:29:40.462202",
     "status": "completed"
    },
    "tags": []
   },
   "outputs": [
    {
     "data": {
      "text/plain": [
       "array([22.77079646, -0.4007108 ,  0.19238808, -0.        ,  0.82742465,\n",
       "       -0.80311036,  2.93089636, -0.        , -1.50300083,  0.        ,\n",
       "       -0.        , -1.70557499,  0.83088171, -4.01169152])"
      ]
     },
     "execution_count": 17,
     "metadata": {},
     "output_type": "execute_result"
    },
    {
     "data": {
      "image/png": "[encoded data removed]",
      "text/plain": [
       "<Figure size 432x288 with 1 Axes>"
      ]
     },
     "metadata": {
      "needs_background": "light"
     },
     "output_type": "display_data"
    }
   ],
   "source": [
    "fig=sns.barplot(x=w_lasso,y=[str(i) for i in range(14)])\n",
    "fig.set_title('sklearn lasso coefficient')\n",
    "w_lasso"
   ]
  },
  {
   "cell_type": "code",
   "execution_count": 18,
   "id": "901c313b",
   "metadata": {
    "execution": {
     "iopub.execute_input": "2022-05-26T04:29:40.805001Z",
     "iopub.status.busy": "2022-05-26T04:29:40.804462Z",
     "iopub.status.idle": "2022-05-26T04:29:41.047436Z",
     "shell.execute_reply": "2022-05-26T04:29:41.046868Z"
    },
    "papermill": {
     "duration": 0.277875,
     "end_time": "2022-05-26T04:29:41.049464",
     "exception": false,
     "start_time": "2022-05-26T04:29:40.771589",
     "status": "completed"
    },
    "tags": []
   },
   "outputs": [
    {
     "data": {
      "text/plain": [
       "array([22.97079646, -0.3994818 ,  0.18928461,  0.        ,  0.82759107,\n",
       "       -0.80309298,  2.93205213,  0.        , -1.50023459,  0.        ,\n",
       "        0.        , -1.70669243,  0.83142354, -4.01081856])"
      ]
     },
     "execution_count": 18,
     "metadata": {},
     "output_type": "execute_result"
    },
    {
     "data": {
      "image/png": "[encoded data removed]",
      "text/plain": [
       "<Figure size 432x288 with 1 Axes>"
      ]
     },
     "metadata": {
      "needs_background": "light"
     },
     "output_type": "display_data"
    }
   ],
   "source": [
    "fig=sns.barplot(x=w_cor_ds,y=[str(i) for i in range(14)])\n",
    "fig.set_title('Coordinate Descent lasso coefficient')\n",
    "w_cor_ds"
   ]
  },
  {
   "cell_type": "code",
   "execution_count": null,
   "id": "d9601edb",
   "metadata": {
    "papermill": {
     "duration": 0.0327,
     "end_time": "2022-05-26T04:29:41.115825",
     "exception": false,
     "start_time": "2022-05-26T04:29:41.083125",
     "status": "completed"
    },
    "tags": []
   },
   "outputs": [],
   "source": []
  }
 ],
 "metadata": {
  "kernelspec": {
   "display_name": "Python 3",
   "language": "python",
   "name": "python3"
  },
  "language_info": {
   "codemirror_mode": {
    "name": "ipython",
    "version": 3
   },
   "file_extension": ".py",
   "mimetype": "text/x-python",
   "name": "python",
   "nbconvert_exporter": "python",
   "pygments_lexer": "ipython3",
   "version": "3.7.12"
  },
  "papermill": {
   "default_parameters": {},
   "duration": 16.101662,
   "end_time": "2022-05-26T04:29:41.869211",
   "environment_variables": {},
   "exception": null,
   "input_path": "__notebook__.ipynb",
   "output_path": "__notebook__.ipynb",
   "parameters": {},
   "start_time": "2022-05-26T04:29:25.767549",
   "version": "2.3.4"
  }
 },
 "nbformat": 4,
 "nbformat_minor": 5
}
