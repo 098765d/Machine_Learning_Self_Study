{
  "nbformat": 4,
  "nbformat_minor": 0,
  "metadata": {
    "colab": {
      "name": "Linear_Algebra_Basics.ipynb",
      "provenance": [],
      "collapsed_sections": []
    },
    "kernelspec": {
      "name": "python3",
      "display_name": "Python 3"
    },
    "language_info": {
      "name": "python"
    }
  },
  "cells": [
    {
      "cell_type": "markdown",
      "source": [
        "# Linear Algebra Basics\n",
        "\n",
        "Reference: https://cs229.stanford.edu/lectures-spring2022/cs229-linear_algebra_review.pdf"
      ],
      "metadata": {
        "id": "A0U64x5YM_05"
      }
    },
    {
      "cell_type": "code",
      "source": [
        "import numpy as np \n",
        "from numpy import array\n",
        "\n",
        "from datetime import datetime\n",
        "from pytz import timezone    \n",
        "\n",
        "HK= timezone('Hongkong')\n",
        "now = datetime.now(HK)\n",
        "print(\"Current Time =\", now)"
      ],
      "metadata": {
        "colab": {
          "base_uri": "https://localhost:8080/"
        },
        "id": "LaqG-BFWNBWP",
        "outputId": "bd0d9f0c-bca2-471a-b1b3-cfc1aee50f7a"
      },
      "execution_count": 4,
      "outputs": [
        {
          "output_type": "stream",
          "name": "stdout",
          "text": [
            "Current Time = 2022-05-28 13:59:10.581675+08:00\n"
          ]
        }
      ]
    },
    {
      "cell_type": "markdown",
      "source": [
        "# 1. Basic Concepts and Notation\n",
        "\n",
        "![link text](https://encrypted-tbn0.gstatic.com/images?q=tbn:ANd9GcTgtRQrgti0AtEpZ-QU8nPVwt86QIeKrupfln5_agT-i27DLJa9pLJFQaRPBUPAqaB2IK0&usqp=CAU)"
      ],
      "metadata": {
        "id": "LpYk0ohAO2IW"
      }
    },
    {
      "cell_type": "code",
      "source": [
        "from numpy import linalg as LA\n",
        "# create a vector\n",
        "a=array([1,-2,3])\n",
        "\n",
        "# Magnitude of Vector \n",
        "len_a=LA.norm(x=a)\n",
        "print(len_a)\n",
        "\n",
        "# L1 norm of vector\n",
        "L1_norm_a=LA.norm(x=a,ord=1)\n",
        "print(L1_norm_a)"
      ],
      "metadata": {
        "colab": {
          "base_uri": "https://localhost:8080/"
        },
        "id": "imW7sroMQAYm",
        "outputId": "4f105ea5-2627-437e-f5c1-ab056ba30b1b"
      },
      "execution_count": 18,
      "outputs": [
        {
          "output_type": "stream",
          "name": "stdout",
          "text": [
            "3.7416573867739413\n",
            "6.0\n"
          ]
        }
      ]
    },
    {
      "cell_type": "markdown",
      "source": [
        "# 2. Matrix Multiplication"
      ],
      "metadata": {
        "id": "rfNIFlaYPeDX"
      }
    },
    {
      "cell_type": "markdown",
      "source": [
        "## 2.1 Vector-Vector Products"
      ],
      "metadata": {
        "id": "6HsL6u2BPjhl"
      }
    },
    {
      "cell_type": "code",
      "source": [
        "# Dot Products\n",
        "\n",
        "# define first vector\n",
        "a = array([1, 2, 3])\n",
        "# define second vector\n",
        "b = array([5, 7, 8])\n",
        "# multiply vectors\n",
        "c = a.dot(b)\n",
        "print(c)"
      ],
      "metadata": {
        "colab": {
          "base_uri": "https://localhost:8080/"
        },
        "id": "QRjk9uwsNIsY",
        "outputId": "43fce362-c109-48a2-fa9c-483fdb218841"
      },
      "execution_count": 6,
      "outputs": [
        {
          "output_type": "stream",
          "name": "stdout",
          "text": [
            "43\n"
          ]
        }
      ]
    },
    {
      "cell_type": "code",
      "source": [
        "# Cross Products\n",
        "c = np.cross(a,b)\n",
        "print(c)\n",
        "\n",
        "# check if c is orthogonal to (a,b)\n",
        "c_a=c.dot(a)\n",
        "c_b=c.dot(b)\n",
        "print(c_a,c_b)"
      ],
      "metadata": {
        "colab": {
          "base_uri": "https://localhost:8080/"
        },
        "id": "2lhEzYE6P5BE",
        "outputId": "551ef92e-1e6f-4801-f627-4f116c71297b"
      },
      "execution_count": 17,
      "outputs": [
        {
          "output_type": "stream",
          "name": "stdout",
          "text": [
            "[-37   7  17]\n",
            "0 0\n"
          ]
        }
      ]
    },
    {
      "cell_type": "markdown",
      "source": [
        "## 2.2 Matrix - Vector Products"
      ],
      "metadata": {
        "id": "Va_aCu7SU4TG"
      }
    },
    {
      "cell_type": "code",
      "source": [
        "# create a Matrix = A (3 * 3)\n",
        "A = array([[1,2,5],\n",
        "          [3,4,7],\n",
        "          [5,6,8]])\n",
        "\n",
        "# create a vector = x (3 * 1)\n",
        "x=np.transpose(array([[0.2,0.3,0.6]]))\n",
        "print(x)\n",
        "\n",
        "# multiply\n",
        "Ax=np.matmul(A,x)\n",
        "Ax"
      ],
      "metadata": {
        "colab": {
          "base_uri": "https://localhost:8080/"
        },
        "id": "d2y5kEOnSnNb",
        "outputId": "764a35bf-b6ae-439a-b8d2-3361885ae38d"
      },
      "execution_count": 29,
      "outputs": [
        {
          "output_type": "stream",
          "name": "stdout",
          "text": [
            "[[0.2]\n",
            " [0.3]\n",
            " [0.6]]\n"
          ]
        },
        {
          "output_type": "execute_result",
          "data": {
            "text/plain": [
              "array([[3.8],\n",
              "       [6. ],\n",
              "       [7.6]])"
            ]
          },
          "metadata": {},
          "execution_count": 29
        }
      ]
    },
    {
      "cell_type": "markdown",
      "source": [
        "## 2.3 Matrix - Matrix Products"
      ],
      "metadata": {
        "id": "BqfLMFa7Z0hJ"
      }
    },
    {
      "cell_type": "code",
      "source": [
        "# create a Matrix = A (3 * 3)\n",
        "A = array([[1,2,5],\n",
        "          [3,4,7],\n",
        "          [5,6,8]])\n",
        "# create a Matrix = B (3 * 3)\n",
        "B = array([[0,3,8],\n",
        "          [7,9,5],\n",
        "          [2,6,4]])\n",
        "\n",
        "# multiply (C=AB)\n",
        "AB=np.matmul(A,B)\n",
        "AB\n"
      ],
      "metadata": {
        "colab": {
          "base_uri": "https://localhost:8080/"
        },
        "id": "6G0Wl7hAV6qx",
        "outputId": "c002bc48-92ed-40c8-cc4c-11603c4e977f"
      },
      "execution_count": 32,
      "outputs": [
        {
          "output_type": "execute_result",
          "data": {
            "text/plain": [
              "array([[ 24,  51,  38],\n",
              "       [ 42,  87,  72],\n",
              "       [ 58, 117, 102]])"
            ]
          },
          "metadata": {},
          "execution_count": 32
        }
      ]
    },
    {
      "cell_type": "markdown",
      "source": [
        "# 3. Operations and Properties"
      ],
      "metadata": {
        "id": "pwBqpcs3bCxB"
      }
    },
    {
      "cell_type": "markdown",
      "source": [
        "## 3.1 The Identity Matrix and Diagonal Matrices\n"
      ],
      "metadata": {
        "id": "5foIeUybbFe4"
      }
    },
    {
      "cell_type": "code",
      "source": [
        "# The Identity Matrix\n",
        "# https://numpy.org/doc/stable/reference/generated/numpy.identity.html\n",
        "identity_4d=np.identity(n=4)\n",
        "print(identity_4d)"
      ],
      "metadata": {
        "colab": {
          "base_uri": "https://localhost:8080/"
        },
        "id": "ztmJiBsgaKzh",
        "outputId": "d9465500-3c65-48aa-ec7d-dba076ac8471"
      },
      "execution_count": 34,
      "outputs": [
        {
          "output_type": "stream",
          "name": "stdout",
          "text": [
            "[[1. 0. 0. 0.]\n",
            " [0. 1. 0. 0.]\n",
            " [0. 0. 1. 0.]\n",
            " [0. 0. 0. 1.]]\n"
          ]
        }
      ]
    },
    {
      "cell_type": "code",
      "source": [
        "# The Diagonal Matrix\n",
        "# https://numpy.org/doc/stable/reference/generated/numpy.diag.html\n",
        "\n",
        "# construct a 3*3 matrix\n",
        "x = np.arange(9).reshape((3,3))\n",
        "print(x)\n",
        "# extract the diagonal element\n",
        "diag_x_elements=np.diag(x)\n",
        "print(diag_x_elements)\n",
        "# construct diagonal matrix based on x\n",
        "diag_x=np.diag(diag_x_elements)\n",
        "print(diag_x)"
      ],
      "metadata": {
        "colab": {
          "base_uri": "https://localhost:8080/"
        },
        "id": "waVTJlRzbsiw",
        "outputId": "a7935d15-3a98-4d82-a45a-e9673d5197a8"
      },
      "execution_count": 35,
      "outputs": [
        {
          "output_type": "stream",
          "name": "stdout",
          "text": [
            "[[0 1 2]\n",
            " [3 4 5]\n",
            " [6 7 8]]\n",
            "[0 4 8]\n",
            "[[0 0 0]\n",
            " [0 4 0]\n",
            " [0 0 8]]\n"
          ]
        }
      ]
    },
    {
      "cell_type": "markdown",
      "source": [
        "## 3.2 The Transpose\n",
        "![link text](https://publish-01.obsidian.md/access/7117ab8e7aa458ff96feb9b07ca43319/Artificial%20Intelligence/625.252%20Linear%20Algebra/week5/children/matrix%20algebra%20theorem%203.png)"
      ],
      "metadata": {
        "id": "Dndv7-tuc1LB"
      }
    },
    {
      "cell_type": "code",
      "source": [
        "# construct a 4*3 matrix\n",
        "x = np.arange(12).reshape((4,3))\n",
        "print(x)\n",
        "# calculate transpose\n",
        "x_t=x.T\n",
        "print(x_t)"
      ],
      "metadata": {
        "colab": {
          "base_uri": "https://localhost:8080/"
        },
        "id": "-zjhNmomco0g",
        "outputId": "efc012ed-4d42-455d-912d-a6ee75b88b69"
      },
      "execution_count": 37,
      "outputs": [
        {
          "output_type": "stream",
          "name": "stdout",
          "text": [
            "[[ 0  1  2]\n",
            " [ 3  4  5]\n",
            " [ 6  7  8]\n",
            " [ 9 10 11]]\n",
            "[[ 0  3  6  9]\n",
            " [ 1  4  7 10]\n",
            " [ 2  5  8 11]]\n"
          ]
        }
      ]
    },
    {
      "cell_type": "markdown",
      "source": [
        "## 3.3 Symmetric Matrices"
      ],
      "metadata": {
        "id": "VhO7zh4qeiNe"
      }
    },
    {
      "cell_type": "code",
      "source": [
        "# A square matrix A ∈ R n×n is symmetric if A = AT\n",
        "A=array([[1,0],\n",
        "         [0,1]])\n",
        "# check if A is symmetric\n",
        "A==A.T"
      ],
      "metadata": {
        "colab": {
          "base_uri": "https://localhost:8080/"
        },
        "id": "68VguOMgeOck",
        "outputId": "b8bbf45d-1848-4388-a40b-83b0fac0d259"
      },
      "execution_count": 38,
      "outputs": [
        {
          "output_type": "execute_result",
          "data": {
            "text/plain": [
              "array([[ True,  True],\n",
              "       [ True,  True]])"
            ]
          },
          "metadata": {},
          "execution_count": 38
        }
      ]
    },
    {
      "cell_type": "markdown",
      "source": [
        "## 3.4 The Trace\n",
        "\n",
        "![link text](https://www.tutorialexample.com/wp-content/uploads/2019/07/matrix-trace-example.png)\n",
        "![link text](https://www.tau.ac.il/~tsirel/dump/Static/knowino.org/w/images/math/8/c/7/8c7ef7d26312dfaf7f699cd76992d0f9.png)"
      ],
      "metadata": {
        "id": "FH6ecpxRgEkR"
      }
    },
    {
      "cell_type": "code",
      "source": [
        "# matrix trace\n",
        "from numpy import trace\n",
        "# define matrix\n",
        "A = array([\n",
        "[5, 2, 3],\n",
        "[4, -1, 6],\n",
        "[7, 8, 7]])\n",
        "# calculate trace\n",
        "tr_A = trace(A)\n",
        "print(tr_A)\n"
      ],
      "metadata": {
        "colab": {
          "base_uri": "https://localhost:8080/"
        },
        "id": "2AbJGev2e7cd",
        "outputId": "be86262f-493c-430e-d3b2-16a3295d1d04"
      },
      "execution_count": 40,
      "outputs": [
        {
          "output_type": "stream",
          "name": "stdout",
          "text": [
            "11\n"
          ]
        }
      ]
    },
    {
      "cell_type": "markdown",
      "source": [
        "## 3.5 Norm --- for vector\n",
        "\n",
        "* Usually in ML, the vector = weights\n",
        "\n",
        "\n",
        "* Definition: A measure of the “length” of the vector. For example, we have the commonly-used Euclidean or L2 norm = X_t * X\n",
        "\n",
        "* Properties\n",
        "![link text](https://www.tutorialexample.com/wp-content/uploads/2019/10/the-properties-of-matrix-norms.png)"
      ],
      "metadata": {
        "id": "JTKcY8X1gyfq"
      }
    },
    {
      "cell_type": "code",
      "source": [
        "# vector L1 norm = sum of abs of elements\n",
        "# define vector\n",
        "a = array([1, 2, 3])\n",
        "print(a)\n",
        "# calculate norm\n",
        "l1 = LA.norm(a, 1)\n",
        "print(l1)\n"
      ],
      "metadata": {
        "colab": {
          "base_uri": "https://localhost:8080/"
        },
        "id": "btNd7cbwgmzR",
        "outputId": "5725cdb8-173d-4620-892f-12df1e4758f0"
      },
      "execution_count": 43,
      "outputs": [
        {
          "output_type": "stream",
          "name": "stdout",
          "text": [
            "[1 2 3]\n",
            "6.0\n"
          ]
        }
      ]
    },
    {
      "cell_type": "code",
      "source": [
        "# vector L2 norm --- Euclidean norm\n",
        "# define vector\n",
        "# calculate norm\n",
        "l2 = LA.norm(a)\n",
        "print(l2)\n"
      ],
      "metadata": {
        "colab": {
          "base_uri": "https://localhost:8080/"
        },
        "id": "h7AF-l3fofPr",
        "outputId": "5519a5f5-1823-41d1-98d1-020f4a118b11"
      },
      "execution_count": 44,
      "outputs": [
        {
          "output_type": "stream",
          "name": "stdout",
          "text": [
            "3.7416573867739413\n"
          ]
        }
      ]
    },
    {
      "cell_type": "markdown",
      "source": [
        "## 3.6 Linear Independence and Rank\n",
        "\n",
        "\n",
        "\n",
        "*   Col Space for Matrix = Space Spanned by Matrix Cols\n",
        "*   Rank = Num of Dim in Col Space\n",
        "*  Full Rank \n",
        "  * For A ∈ R m×n, rank(A) ≤ min(m, n). If rank(A) = min(m, n), then A is said to be full rank\n",
        "  * Full Rank ==  each of the rows of the matrix are linearly independent\n",
        "  * properties\n",
        "    * rank(A) = rank(AT)\n",
        "    * rank(AB) ≤ min(rank(A),rank(B))\n",
        "    * rank(A + B) ≤ rank(A) + rank(B)\n",
        "\n",
        "\n"
      ],
      "metadata": {
        "id": "SMiwB2CVpBf1"
      }
    },
    {
      "cell_type": "code",
      "source": [
        "# matrix rank\n",
        "from numpy.linalg import matrix_rank\n",
        "# rank 0\n",
        "M0 = array([\n",
        "[0,0],\n",
        "[0,0]])\n",
        "print(M0)\n",
        "mr0 = matrix_rank(M0)\n",
        "print(mr0)\n",
        "\n",
        "# rank 1\n",
        "M1 = array([\n",
        "[1,2],\n",
        "[1,2]])\n",
        "print(M1)\n",
        "mr1 = matrix_rank(M1)\n",
        "print(mr1)\n",
        "\n",
        "# rank 2\n",
        "M2 = array([\n",
        "[1,2],\n",
        "[3,4]])\n",
        "print(M2)\n",
        "mr2 = matrix_rank(M2)\n",
        "print(mr2)"
      ],
      "metadata": {
        "colab": {
          "base_uri": "https://localhost:8080/"
        },
        "id": "NwVblq7Got-i",
        "outputId": "c1216a9e-276f-4f3b-d059-dccc9c0b90ca"
      },
      "execution_count": 46,
      "outputs": [
        {
          "output_type": "stream",
          "name": "stdout",
          "text": [
            "[[0 0]\n",
            " [0 0]]\n",
            "0\n",
            "[[1 2]\n",
            " [1 2]]\n",
            "1\n",
            "[[1 2]\n",
            " [3 4]]\n",
            "2\n"
          ]
        }
      ]
    },
    {
      "cell_type": "markdown",
      "source": [
        "## 3.7 The Inverse of a Square Matrix\n",
        "\n",
        "* only for n*n matrix\n",
        "* Requirement for Invertiable:\n",
        "  * A must be full rank (Det(A) not 0)\n",
        "* A−1A = I = AA−1\n",
        "* • (AB)−1 = B−1A−1\n",
        "* • (A−1)T = (AT)−1\n",
        ". For this reason this matrix is often denoted A−T\n"
      ],
      "metadata": {
        "id": "iZzGTomprh9W"
      }
    },
    {
      "cell_type": "code",
      "source": [
        "# invert matrix\n",
        "from numpy.linalg import inv\n",
        "# define matrix\n",
        "A = array([\n",
        "[1.0, 2.0],\n",
        "[3.0, 4.0]])\n",
        "print(A)\n",
        "# invert matrix\n",
        "B = inv(A)\n",
        "print(B)\n",
        "# multiply A and B\n",
        "I = A.dot(B)\n",
        "print(I)\n"
      ],
      "metadata": {
        "colab": {
          "base_uri": "https://localhost:8080/"
        },
        "id": "nbMyLWH3rbVV",
        "outputId": "469bceae-7279-404e-c945-d7bccb9f0886"
      },
      "execution_count": 47,
      "outputs": [
        {
          "output_type": "stream",
          "name": "stdout",
          "text": [
            "[[1. 2.]\n",
            " [3. 4.]]\n",
            "[[-2.   1. ]\n",
            " [ 1.5 -0.5]]\n",
            "[[1.0000000e+00 0.0000000e+00]\n",
            " [8.8817842e-16 1.0000000e+00]]\n"
          ]
        }
      ]
    },
    {
      "cell_type": "markdown",
      "source": [
        "## 3.8 Orthogonal Matrices\n",
        "\n",
        "\n",
        "\n",
        "*   Orthonormal Matrix\n",
        "  * All the vectors orthogonal to each other (v_i * v_j = 0)\n",
        "  * length of each vector = 1\n",
        "  * U_T * U = I = U * U_T\n",
        "*   Good Property of Orthonormal Matrix\n",
        "  * U-1=U_T (inverse == transpose)\n",
        "  * It preserve Vectors\n",
        "      * angle\n",
        "      * length\n",
        "* G-S process to transform matrix to Orthonormal Matrix (QR Decomposition)\n",
        "  * A = Q * R (Q=orthonormal matrix; R = upper tri matrix)\n",
        "\n",
        "\n"
      ],
      "metadata": {
        "id": "d1dMLXOKsd7X"
      }
    },
    {
      "cell_type": "code",
      "source": [
        "# Example of QR Decomposition\n",
        "A = array([\n",
        "[1.0, 2.0],\n",
        "[3.0, 4.0],\n",
        "[5,6]])\n",
        "print(A)\n",
        "q, r = LA.qr(A)\n",
        "print(q)\n",
        "print(r)\n",
        "# reconstruct\n",
        "A = q.dot(r)\n",
        "print(A)\n"
      ],
      "metadata": {
        "colab": {
          "base_uri": "https://localhost:8080/"
        },
        "id": "sYIgjdpHuO2p",
        "outputId": "cd9bc711-a3ae-4367-cee3-dab32dc00610"
      },
      "execution_count": 53,
      "outputs": [
        {
          "output_type": "stream",
          "name": "stdout",
          "text": [
            "[[1. 2.]\n",
            " [3. 4.]\n",
            " [5. 6.]]\n",
            "[[-0.16903085  0.89708523]\n",
            " [-0.50709255  0.27602622]\n",
            " [-0.84515425 -0.34503278]]\n",
            "[[-5.91607978 -7.43735744]\n",
            " [ 0.          0.82807867]]\n",
            "[[1. 2.]\n",
            " [3. 4.]\n",
            " [5. 6.]]\n"
          ]
        }
      ]
    },
    {
      "cell_type": "markdown",
      "source": [
        "## 3.9 Range and Nullspace of a Matrix\n",
        "\n",
        "* Range == Col Space (Span of Matrix Vectors)\n",
        "* Rank = num of dimension of Col Space(Range)\n",
        "* Null Space:\n",
        "   * for Matrix A: A*x=0\n",
        "   * the set of vector x = Null Space (Kernel) of A\n"
      ],
      "metadata": {
        "id": "Bvimg18suDnY"
      }
    },
    {
      "cell_type": "code",
      "source": [
        "from scipy.linalg import null_space\n",
        "A = np.array([[1, 1], [1, 1]])\n",
        "ns=null_space(A)\n",
        "ns"
      ],
      "metadata": {
        "colab": {
          "base_uri": "https://localhost:8080/"
        },
        "id": "4DvmuNZ1sZgO",
        "outputId": "e41ef230-b4bc-4bbf-cca1-446f86e4a7d5"
      },
      "execution_count": 55,
      "outputs": [
        {
          "output_type": "execute_result",
          "data": {
            "text/plain": [
              "array([[-0.70710678],\n",
              "       [ 0.70710678]])"
            ]
          },
          "metadata": {},
          "execution_count": 55
        }
      ]
    },
    {
      "cell_type": "markdown",
      "source": [
        "## 3.10 The Determinant\n",
        "\n",
        "* only for square n*n matrix\n",
        "* intuition = the scale factor for specific transformation (Matrix A)\n",
        "* Det = Scaler\n",
        "  * if Det == 0, Dimension Reduced (rank reduced), No Invertiable\n",
        "* Properties of Det\n",
        "![link text](https://media.nagwa.com/478137856541/en/thumbnail_l.jpeg)\n"
      ],
      "metadata": {
        "id": "farf7HU3xsgB"
      }
    },
    {
      "cell_type": "code",
      "source": [
        "# matrix determinant\n",
        "from numpy.linalg import det\n",
        "# define matrix\n",
        "A = array([\n",
        "[1, 2, 3],\n",
        "[9, 5, 6],\n",
        "[7, 8, 9]])\n",
        "print(A)\n",
        "# calculate determinant\n",
        "det_A = det(A)\n",
        "print(det_A)\n"
      ],
      "metadata": {
        "colab": {
          "base_uri": "https://localhost:8080/"
        },
        "id": "KSrCLKSixgGg",
        "outputId": "02e596c1-c8cc-4efd-d6af-6d0fa693fac2"
      },
      "execution_count": 60,
      "outputs": [
        {
          "output_type": "stream",
          "name": "stdout",
          "text": [
            "[[1 2 3]\n",
            " [9 5 6]\n",
            " [7 8 9]]\n",
            "30.000000000000014\n"
          ]
        }
      ]
    },
    {
      "cell_type": "markdown",
      "source": [
        "## 3.11 Quadratic Forms and Positive Semidefinite Matrices \n",
        "\n",
        "Skip, Dont get the point"
      ],
      "metadata": {
        "id": "sOrw0llMy9xi"
      }
    },
    {
      "cell_type": "markdown",
      "source": [
        "## 3.12 Eigenvalues and Eigenvectors\n",
        "\n",
        "\n",
        "*  Background\n",
        "  * 'eigen' == own in german\n",
        "  * eigen vector = after a linear transformation(A), the diretion invarient (only scaled)\n",
        "  * eigen value = the scale factor\n",
        "*   Example: for 3D Rotation (A), the eigen vector = Roataion Axis\n",
        "* Notation\n",
        "  * for Matrix A: A*x = lambda * x\n",
        "  * x = eigen vector\n",
        "  * lambda = eigen value\n",
        "* Eigen Basis (Q) & Eigen Decomposition\n",
        "  ![link text](https://www.sharetechnote.com/image/EngMath_Matrix_EigenDecomposition_02.png)\n",
        "  * for A, the set of eigen vectors = Q\n",
        "  * Motivation: Simplify (Diagonalize A)\n",
        "    * beacuse, eigen basis (Q) only scaled (lambda) by Transformation A\n",
        "    * A * Q = Q * lambda \n",
        "    * lambda = diag (lambda_1, ..., lambda_n)\n",
        "    * A = Q * lambda * Q-1\n",
        "  * Example\n",
        "    * for q = AAA   \n",
        "    * SO:\n",
        "    * q = Q * lambda^3 * Q-1\n",
        "      * if Q = Orthonormal Eigen Basis\n",
        "        * q = Q * lambda^3 * Q_T \n",
        "* Properties\n",
        "  * • The trace of a A is equal to the sum of its eigenvalues,\n",
        "    * trA = sum (Lambda)\n",
        "  * • The determinant of A is equal to the product of its eigenvalues\n",
        "    * det (A) = Product (Lambda)\n",
        "  * • The rank of A is equal to the number of non-zero eigenvalues of A.\n",
        "  * • The eigenvalues of a diagonal matrix:\n",
        "    * D = diag(d1, . . . dn) are just the diagonal entries d1, . . . dn.\n",
        "\n",
        "\n"
      ],
      "metadata": {
        "id": "BrhiYXm_zfiQ"
      }
    },
    {
      "cell_type": "code",
      "source": [
        "# eigendecomposition\n",
        "from numpy.linalg import eig\n",
        "# define matrix\n",
        "A = array([\n",
        "[1, 2, 3],\n",
        "[4, 5, 6],\n",
        "[7, 8, 9]])\n",
        "print(A)\n",
        "# factorize\n",
        "values, vectors = eig(A)\n",
        "print(values)\n",
        "print(vectors)"
      ],
      "metadata": {
        "colab": {
          "base_uri": "https://localhost:8080/"
        },
        "id": "XH4kviu8ypG-",
        "outputId": "1788bf9c-6da4-4d4a-dfd1-2ad517b0e7ca"
      },
      "execution_count": 62,
      "outputs": [
        {
          "output_type": "stream",
          "name": "stdout",
          "text": [
            "[[1 2 3]\n",
            " [4 5 6]\n",
            " [7 8 9]]\n",
            "[ 1.61168440e+01 -1.11684397e+00 -1.30367773e-15]\n",
            "[[-0.23197069 -0.78583024  0.40824829]\n",
            " [-0.52532209 -0.08675134 -0.81649658]\n",
            " [-0.8186735   0.61232756  0.40824829]]\n"
          ]
        }
      ]
    },
    {
      "cell_type": "code",
      "source": [
        "# test eigen vectors\n",
        "e_g_1=vectors[:,0].reshape(3,1)\n",
        "print(e_g_1)\n",
        "transformed_e_g_1=np.matmul(A,e_g_1)\n",
        "print(transformed_e_g_1)\n",
        "# scaled by\n",
        "transformed_e_g_1/e_g_1"
      ],
      "metadata": {
        "colab": {
          "base_uri": "https://localhost:8080/"
        },
        "id": "Pc426cvtBQ9f",
        "outputId": "9e3f9f6a-ddb4-46df-cae6-336457dd1ec6"
      },
      "execution_count": 76,
      "outputs": [
        {
          "output_type": "stream",
          "name": "stdout",
          "text": [
            "[[-0.23197069]\n",
            " [-0.52532209]\n",
            " [-0.8186735 ]]\n",
            "[[ -3.73863537]\n",
            " [ -8.46653421]\n",
            " [-13.19443305]]\n"
          ]
        },
        {
          "output_type": "execute_result",
          "data": {
            "text/plain": [
              "array([[16.11684397],\n",
              "       [16.11684397],\n",
              "       [16.11684397]])"
            ]
          },
          "metadata": {},
          "execution_count": 76
        }
      ]
    },
    {
      "cell_type": "code",
      "source": [
        "# Use Eigen Decompoisiton to simplify the computation\n",
        "values, vectors = eig(A)\n",
        "AAA= A@A@A\n",
        "print(AAA)\n",
        "# The Eigen Decomp Approach\n",
        "# AAA = Q * diag_lambda ^3 * Q-1\n",
        "diag_lambda=np.diag(values)\n",
        "Q=vectors\n",
        "Q_inv=inv(Q)\n",
        "AAA_simple=Q@diag_lambda@diag_lambda@diag_lambda@Q_inv\n",
        "print(AAA_simple)"
      ],
      "metadata": {
        "colab": {
          "base_uri": "https://localhost:8080/"
        },
        "id": "gg9p17_ME8JF",
        "outputId": "c8bedfeb-34d9-4dee-91af-7cc55a76b064"
      },
      "execution_count": 88,
      "outputs": [
        {
          "output_type": "stream",
          "name": "stdout",
          "text": [
            "[[ 468  576  684]\n",
            " [1062 1305 1548]\n",
            " [1656 2034 2412]]\n",
            "[[ 468.  576.  684.]\n",
            " [1062. 1305. 1548.]\n",
            " [1656. 2034. 2412.]]\n"
          ]
        }
      ]
    }
  ]
}